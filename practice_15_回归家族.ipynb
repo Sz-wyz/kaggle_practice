{
 "cells": [
  {
   "cell_type": "markdown",
   "metadata": {},
   "source": [
    "回归需求在现实中非常多，所以我们自然也有各种各样的回归类算法。最著名的就是我们的线性回归和逻辑回归，从他们衍生出了岭回归，Lasso，弹性网，除此之外，还有众多分类算法改进后的回归，比如回归树，随机森林的回归，支持向量回归，贝叶斯回归等等。除此之外，我们还有各种鲁棒的回归：比如RANSAC，Theil-Sen估计，胡贝尔回归等等。考虑到回归问题在现实中的泛用性,回归家族非常繁荣昌盛。"
   ]
  },
  {
   "cell_type": "markdown",
   "metadata": {},
   "source": [
    "![Title](1581438708(1).jpg)"
   ]
  },
  {
   "cell_type": "markdown",
   "metadata": {},
   "source": [
    "### 记得在逻辑回归和SVM中，我们都是先定义了损失函数，然后通过最小化损失函数或损失函数的某种变化来将求解参数向量，以此将单纯的求解问题转化为一个最优化问题。在多元线性回归中，我们的损失函数如下定义:"
   ]
  },
  {
   "cell_type": "markdown",
   "metadata": {},
   "source": [
    "![Title](1581438841(1).jpg)"
   ]
  },
  {
   "cell_type": "markdown",
   "metadata": {},
   "source": [
    "## sklearn.linear_model.LinearRegression\n",
    "classsklearn.linear_model.LinearRegression(fit_intercept=True, normalize=False, copy_X=True, n_jobs=None)"
   ]
  },
  {
   "cell_type": "markdown",
   "metadata": {},
   "source": [
    "![Title](1581440015(1).jpg)"
   ]
  },
  {
   "cell_type": "markdown",
   "metadata": {},
   "source": [
    "线性回归的类仅有四个参数就可以完成一个完整的算法。并且看得出，这些参数中并没有一个是必填的，更没有对我们的模型有不可替代作用的参数。这说明，线性回归的性能，往往取决于数据本身，而并非是我们的调参能力，线性回归也因此对数据有着很高的要求。幸运的是，现实中大部分连续型变量之间，都存在着或多或少的线性联系。所以线性回归虽然简单，却很强大。\n",
    "\n",
    "sklearn中的线性回归可以处理多标签问题，只需要在fit的时候输入多维度标签就可以了"
   ]
  },
  {
   "cell_type": "code",
   "execution_count": 1,
   "metadata": {},
   "outputs": [],
   "source": [
    "from sklearn.linear_model import LinearRegression as LR\n",
    "from sklearn.model_selection import cross_val_score,train_test_split\n",
    "from sklearn.datasets import fetch_california_housing as fch #加利福尼亚房屋价格数据集\n",
    "import pandas as pd"
   ]
  },
  {
   "cell_type": "code",
   "execution_count": 2,
   "metadata": {},
   "outputs": [],
   "source": [
    "housevalue = fch() #实例化"
   ]
  },
  {
   "cell_type": "code",
   "execution_count": 3,
   "metadata": {},
   "outputs": [
    {
     "data": {
      "text/plain": [
       "{'data': array([[   8.3252    ,   41.        ,    6.98412698, ...,    2.55555556,\n",
       "           37.88      , -122.23      ],\n",
       "        [   8.3014    ,   21.        ,    6.23813708, ...,    2.10984183,\n",
       "           37.86      , -122.22      ],\n",
       "        [   7.2574    ,   52.        ,    8.28813559, ...,    2.80225989,\n",
       "           37.85      , -122.24      ],\n",
       "        ...,\n",
       "        [   1.7       ,   17.        ,    5.20554273, ...,    2.3256351 ,\n",
       "           39.43      , -121.22      ],\n",
       "        [   1.8672    ,   18.        ,    5.32951289, ...,    2.12320917,\n",
       "           39.43      , -121.32      ],\n",
       "        [   2.3886    ,   16.        ,    5.25471698, ...,    2.61698113,\n",
       "           39.37      , -121.24      ]]),\n",
       " 'target': array([4.526, 3.585, 3.521, ..., 0.923, 0.847, 0.894]),\n",
       " 'feature_names': ['MedInc',\n",
       "  'HouseAge',\n",
       "  'AveRooms',\n",
       "  'AveBedrms',\n",
       "  'Population',\n",
       "  'AveOccup',\n",
       "  'Latitude',\n",
       "  'Longitude'],\n",
       " 'DESCR': '.. _california_housing_dataset:\\n\\nCalifornia Housing dataset\\n--------------------------\\n\\n**Data Set Characteristics:**\\n\\n    :Number of Instances: 20640\\n\\n    :Number of Attributes: 8 numeric, predictive attributes and the target\\n\\n    :Attribute Information:\\n        - MedInc        median income in block\\n        - HouseAge      median house age in block\\n        - AveRooms      average number of rooms\\n        - AveBedrms     average number of bedrooms\\n        - Population    block population\\n        - AveOccup      average house occupancy\\n        - Latitude      house block latitude\\n        - Longitude     house block longitude\\n\\n    :Missing Attribute Values: None\\n\\nThis dataset was obtained from the StatLib repository.\\nhttp://lib.stat.cmu.edu/datasets/\\n\\nThe target variable is the median house value for California districts.\\n\\nThis dataset was derived from the 1990 U.S. census, using one row per census\\nblock group. A block group is the smallest geographical unit for which the U.S.\\nCensus Bureau publishes sample data (a block group typically has a population\\nof 600 to 3,000 people).\\n\\nIt can be downloaded/loaded using the\\n:func:`sklearn.datasets.fetch_california_housing` function.\\n\\n.. topic:: References\\n\\n    - Pace, R. Kelley and Ronald Barry, Sparse Spatial Autoregressions,\\n      Statistics and Probability Letters, 33 (1997) 291-297\\n'}"
      ]
     },
     "execution_count": 3,
     "metadata": {},
     "output_type": "execute_result"
    }
   ],
   "source": [
    "housevalue"
   ]
  },
  {
   "cell_type": "code",
   "execution_count": 4,
   "metadata": {},
   "outputs": [
    {
     "data": {
      "text/plain": [
       "array([[   8.3252    ,   41.        ,    6.98412698, ...,    2.55555556,\n",
       "          37.88      , -122.23      ],\n",
       "       [   8.3014    ,   21.        ,    6.23813708, ...,    2.10984183,\n",
       "          37.86      , -122.22      ],\n",
       "       [   7.2574    ,   52.        ,    8.28813559, ...,    2.80225989,\n",
       "          37.85      , -122.24      ],\n",
       "       ...,\n",
       "       [   1.7       ,   17.        ,    5.20554273, ...,    2.3256351 ,\n",
       "          39.43      , -121.22      ],\n",
       "       [   1.8672    ,   18.        ,    5.32951289, ...,    2.12320917,\n",
       "          39.43      , -121.32      ],\n",
       "       [   2.3886    ,   16.        ,    5.25471698, ...,    2.61698113,\n",
       "          39.37      , -121.24      ]])"
      ]
     },
     "execution_count": 4,
     "metadata": {},
     "output_type": "execute_result"
    }
   ],
   "source": [
    "housevalue.data"
   ]
  },
  {
   "cell_type": "code",
   "execution_count": 5,
   "metadata": {},
   "outputs": [
    {
     "data": {
      "text/html": [
       "<div>\n",
       "<style scoped>\n",
       "    .dataframe tbody tr th:only-of-type {\n",
       "        vertical-align: middle;\n",
       "    }\n",
       "\n",
       "    .dataframe tbody tr th {\n",
       "        vertical-align: top;\n",
       "    }\n",
       "\n",
       "    .dataframe thead th {\n",
       "        text-align: right;\n",
       "    }\n",
       "</style>\n",
       "<table border=\"1\" class=\"dataframe\">\n",
       "  <thead>\n",
       "    <tr style=\"text-align: right;\">\n",
       "      <th></th>\n",
       "      <th>0</th>\n",
       "      <th>1</th>\n",
       "      <th>2</th>\n",
       "      <th>3</th>\n",
       "      <th>4</th>\n",
       "      <th>5</th>\n",
       "      <th>6</th>\n",
       "      <th>7</th>\n",
       "    </tr>\n",
       "  </thead>\n",
       "  <tbody>\n",
       "    <tr>\n",
       "      <th>0</th>\n",
       "      <td>8.3252</td>\n",
       "      <td>41.0</td>\n",
       "      <td>6.984127</td>\n",
       "      <td>1.023810</td>\n",
       "      <td>322.0</td>\n",
       "      <td>2.555556</td>\n",
       "      <td>37.88</td>\n",
       "      <td>-122.23</td>\n",
       "    </tr>\n",
       "    <tr>\n",
       "      <th>1</th>\n",
       "      <td>8.3014</td>\n",
       "      <td>21.0</td>\n",
       "      <td>6.238137</td>\n",
       "      <td>0.971880</td>\n",
       "      <td>2401.0</td>\n",
       "      <td>2.109842</td>\n",
       "      <td>37.86</td>\n",
       "      <td>-122.22</td>\n",
       "    </tr>\n",
       "    <tr>\n",
       "      <th>2</th>\n",
       "      <td>7.2574</td>\n",
       "      <td>52.0</td>\n",
       "      <td>8.288136</td>\n",
       "      <td>1.073446</td>\n",
       "      <td>496.0</td>\n",
       "      <td>2.802260</td>\n",
       "      <td>37.85</td>\n",
       "      <td>-122.24</td>\n",
       "    </tr>\n",
       "    <tr>\n",
       "      <th>3</th>\n",
       "      <td>5.6431</td>\n",
       "      <td>52.0</td>\n",
       "      <td>5.817352</td>\n",
       "      <td>1.073059</td>\n",
       "      <td>558.0</td>\n",
       "      <td>2.547945</td>\n",
       "      <td>37.85</td>\n",
       "      <td>-122.25</td>\n",
       "    </tr>\n",
       "    <tr>\n",
       "      <th>4</th>\n",
       "      <td>3.8462</td>\n",
       "      <td>52.0</td>\n",
       "      <td>6.281853</td>\n",
       "      <td>1.081081</td>\n",
       "      <td>565.0</td>\n",
       "      <td>2.181467</td>\n",
       "      <td>37.85</td>\n",
       "      <td>-122.25</td>\n",
       "    </tr>\n",
       "  </tbody>\n",
       "</table>\n",
       "</div>"
      ],
      "text/plain": [
       "        0     1         2         3       4         5      6       7\n",
       "0  8.3252  41.0  6.984127  1.023810   322.0  2.555556  37.88 -122.23\n",
       "1  8.3014  21.0  6.238137  0.971880  2401.0  2.109842  37.86 -122.22\n",
       "2  7.2574  52.0  8.288136  1.073446   496.0  2.802260  37.85 -122.24\n",
       "3  5.6431  52.0  5.817352  1.073059   558.0  2.547945  37.85 -122.25\n",
       "4  3.8462  52.0  6.281853  1.081081   565.0  2.181467  37.85 -122.25"
      ]
     },
     "execution_count": 5,
     "metadata": {},
     "output_type": "execute_result"
    }
   ],
   "source": [
    "X = pd.DataFrame(housevalue.data) #放入Dataframe方便查看\n",
    "X.head()"
   ]
  },
  {
   "cell_type": "code",
   "execution_count": 6,
   "metadata": {},
   "outputs": [
    {
     "data": {
      "text/plain": [
       "(20640, 8)"
      ]
     },
     "execution_count": 6,
     "metadata": {},
     "output_type": "execute_result"
    }
   ],
   "source": [
    "X.shape #20640样本 8个特征"
   ]
  },
  {
   "cell_type": "code",
   "execution_count": 7,
   "metadata": {},
   "outputs": [],
   "source": [
    "y = housevalue.target "
   ]
  },
  {
   "cell_type": "code",
   "execution_count": 8,
   "metadata": {},
   "outputs": [
    {
     "data": {
      "text/plain": [
       "array([4.526, 3.585, 3.521, ..., 0.923, 0.847, 0.894])"
      ]
     },
     "execution_count": 8,
     "metadata": {},
     "output_type": "execute_result"
    }
   ],
   "source": [
    "y"
   ]
  },
  {
   "cell_type": "code",
   "execution_count": 9,
   "metadata": {},
   "outputs": [
    {
     "data": {
      "text/plain": [
       "['MedInc',\n",
       " 'HouseAge',\n",
       " 'AveRooms',\n",
       " 'AveBedrms',\n",
       " 'Population',\n",
       " 'AveOccup',\n",
       " 'Latitude',\n",
       " 'Longitude']"
      ]
     },
     "execution_count": 9,
     "metadata": {},
     "output_type": "execute_result"
    }
   ],
   "source": [
    "housevalue.feature_names #特征名字"
   ]
  },
  {
   "cell_type": "code",
   "execution_count": 10,
   "metadata": {},
   "outputs": [
    {
     "data": {
      "text/plain": [
       "'\\nMedInc：该街区住户的收入中位数\\nHouseAge：该街区房屋使用年代的中位数\\nAveRooms：该街区平均的房间数目\\nAveBedrms：该街区平均的卧室数目\\nPopulation：街区人口\\nAveOccup：平均入住率\\nLatitude：街区的纬度\\nLongitude：街区的经度\\n'"
      ]
     },
     "execution_count": 10,
     "metadata": {},
     "output_type": "execute_result"
    }
   ],
   "source": [
    "X.columns = housevalue.feature_names #将housevalue的特征名称赋给X\n",
    "\n",
    "\"\"\"\n",
    "MedInc：该街区住户的收入中位数\n",
    "HouseAge：该街区房屋使用年代的中位数\n",
    "AveRooms：该街区平均的房间数目\n",
    "AveBedrms：该街区平均的卧室数目\n",
    "Population：街区人口\n",
    "AveOccup：平均入住率\n",
    "Latitude：街区的纬度\n",
    "Longitude：街区的经度\n",
    "\"\"\""
   ]
  },
  {
   "cell_type": "markdown",
   "metadata": {},
   "source": [
    "分训练集和测试集"
   ]
  },
  {
   "cell_type": "code",
   "execution_count": 11,
   "metadata": {},
   "outputs": [
    {
     "data": {
      "text/plain": [
       "(14448, 8)"
      ]
     },
     "execution_count": 11,
     "metadata": {},
     "output_type": "execute_result"
    }
   ],
   "source": [
    "Xtrain,Xtest,Ytrain,Ytest = train_test_split(X,y,test_size=0.3,random_state=420)\n",
    "\n",
    "#恢复索引\n",
    "for i in [Xtrain,Xtest]:\n",
    "    i.index = range(i.shape[0])\n",
    "    \n",
    "Xtrain.shape\n",
    "#如果要进行数据标准化，那要先分成训练集和和测试集分别标准化\n",
    "#先用训练集训练（fit）标准化的类，然后用训练好的类分别转化（transform）训练集合测试集"
   ]
  },
  {
   "cell_type": "markdown",
   "metadata": {},
   "source": [
    "建模"
   ]
  },
  {
   "cell_type": "code",
   "execution_count": 12,
   "metadata": {},
   "outputs": [
    {
     "data": {
      "text/plain": [
       "array([1.51384887, 0.46566247, 2.2567733 , ..., 2.11885803, 1.76968187,\n",
       "       0.73219077])"
      ]
     },
     "execution_count": 12,
     "metadata": {},
     "output_type": "execute_result"
    }
   ],
   "source": [
    "reg = LR().fit(Xtrain,Ytrain)\n",
    "yhat = reg.predict(Xtest)\n",
    "yhat"
   ]
  },
  {
   "cell_type": "markdown",
   "metadata": {},
   "source": [
    "探索建好的模型"
   ]
  },
  {
   "cell_type": "code",
   "execution_count": 13,
   "metadata": {},
   "outputs": [
    {
     "data": {
      "text/plain": [
       "'\\nMedInc：该街区住户的收入中位数\\nHouseAge：该街区房屋使用年代的中位数\\nAveRooms：该街区平均的房间数目\\nAveBedrms：该街区平均的卧室数目\\nPopulation：街区人口\\nAveOccup：平均入住率\\nLatitude：街区的纬度\\nLongitude：街区的经度\\n'"
      ]
     },
     "execution_count": 13,
     "metadata": {},
     "output_type": "execute_result"
    }
   ],
   "source": [
    "reg.coef_ #w 系数向量\n",
    "\n",
    "#对应\n",
    "\"\"\"\n",
    "MedInc：该街区住户的收入中位数\n",
    "HouseAge：该街区房屋使用年代的中位数\n",
    "AveRooms：该街区平均的房间数目\n",
    "AveBedrms：该街区平均的卧室数目\n",
    "Population：街区人口\n",
    "AveOccup：平均入住率\n",
    "Latitude：街区的纬度\n",
    "Longitude：街区的经度\n",
    "\"\"\""
   ]
  },
  {
   "cell_type": "code",
   "execution_count": 14,
   "metadata": {},
   "outputs": [
    {
     "data": {
      "text/plain": [
       "[('MedInc', 0.4373589305968401),\n",
       " ('HouseAge', 0.010211268294493672),\n",
       " ('AveRooms', -0.10780721617317635),\n",
       " ('AveBedrms', 0.6264338275363786),\n",
       " ('Population', 5.21612535341231e-07),\n",
       " ('AveOccup', -0.0033485096463336797),\n",
       " ('Latitude', -0.413095937894771),\n",
       " ('Longitude', -0.42621095362084827)]"
      ]
     },
     "execution_count": 14,
     "metadata": {},
     "output_type": "execute_result"
    }
   ],
   "source": [
    "[*zip(Xtrain.columns,reg.coef_)] #zip将columns和系数匹配起来"
   ]
  },
  {
   "cell_type": "markdown",
   "metadata": {},
   "source": [
    "## 回归率的模型评估指标\n",
    "---\n",
    "我们有两种不同的角度来看待回归的效果：是否预测到了正确的数值，是否拟合到了足够的信息"
   ]
  },
  {
   "cell_type": "markdown",
   "metadata": {},
   "source": [
    "使用均方误差MSE（mean squared error）来衡量预测值与真实值的差异\n",
    "![Title](1581496936(1).jpg)"
   ]
  },
  {
   "cell_type": "code",
   "execution_count": 15,
   "metadata": {},
   "outputs": [
    {
     "data": {
      "text/plain": [
       "0.5309012639324571"
      ]
     },
     "execution_count": 15,
     "metadata": {},
     "output_type": "execute_result"
    }
   ],
   "source": [
    "from sklearn.metrics import mean_squared_error as MSE\n",
    "\n",
    "MSE(yhat,Ytest) #预测值和真实值"
   ]
  },
  {
   "cell_type": "code",
   "execution_count": 16,
   "metadata": {},
   "outputs": [
    {
     "data": {
      "text/plain": [
       "2.0819292877906976"
      ]
     },
     "execution_count": 16,
     "metadata": {},
     "output_type": "execute_result"
    }
   ],
   "source": [
    "Ytest.mean() #可以看出 0.5 和 2。0 错误率20%"
   ]
  },
  {
   "cell_type": "code",
   "execution_count": 17,
   "metadata": {},
   "outputs": [
    {
     "ename": "ValueError",
     "evalue": "'mean_squared_error' is not a valid scoring value. Use sorted(sklearn.metrics.SCORERS.keys()) to get valid options.",
     "output_type": "error",
     "traceback": [
      "\u001b[1;31m---------------------------------------------------------------------------\u001b[0m",
      "\u001b[1;31mKeyError\u001b[0m                                  Traceback (most recent call last)",
      "\u001b[1;32mD:\\anaconda\\lib\\site-packages\\sklearn\\metrics\\scorer.py\u001b[0m in \u001b[0;36mget_scorer\u001b[1;34m(scoring)\u001b[0m\n\u001b[0;32m    228\u001b[0m         \u001b[1;32mtry\u001b[0m\u001b[1;33m:\u001b[0m\u001b[1;33m\u001b[0m\u001b[1;33m\u001b[0m\u001b[0m\n\u001b[1;32m--> 229\u001b[1;33m             \u001b[0mscorer\u001b[0m \u001b[1;33m=\u001b[0m \u001b[0mSCORERS\u001b[0m\u001b[1;33m[\u001b[0m\u001b[0mscoring\u001b[0m\u001b[1;33m]\u001b[0m\u001b[1;33m\u001b[0m\u001b[1;33m\u001b[0m\u001b[0m\n\u001b[0m\u001b[0;32m    230\u001b[0m         \u001b[1;32mexcept\u001b[0m \u001b[0mKeyError\u001b[0m\u001b[1;33m:\u001b[0m\u001b[1;33m\u001b[0m\u001b[1;33m\u001b[0m\u001b[0m\n",
      "\u001b[1;31mKeyError\u001b[0m: 'mean_squared_error'",
      "\nDuring handling of the above exception, another exception occurred:\n",
      "\u001b[1;31mValueError\u001b[0m                                Traceback (most recent call last)",
      "\u001b[1;32m<ipython-input-17-ee8bcb45802e>\u001b[0m in \u001b[0;36m<module>\u001b[1;34m\u001b[0m\n\u001b[1;32m----> 1\u001b[1;33m \u001b[0mcross_val_score\u001b[0m\u001b[1;33m(\u001b[0m\u001b[0mreg\u001b[0m\u001b[1;33m,\u001b[0m\u001b[0mX\u001b[0m\u001b[1;33m,\u001b[0m\u001b[0my\u001b[0m\u001b[1;33m,\u001b[0m\u001b[0mcv\u001b[0m\u001b[1;33m=\u001b[0m\u001b[1;36m10\u001b[0m\u001b[1;33m,\u001b[0m\u001b[0mscoring\u001b[0m\u001b[1;33m=\u001b[0m\u001b[1;34m'mean_squared_error'\u001b[0m\u001b[1;33m)\u001b[0m \u001b[1;31m#交叉验证\u001b[0m\u001b[1;33m\u001b[0m\u001b[1;33m\u001b[0m\u001b[0m\n\u001b[0m\u001b[0;32m      2\u001b[0m \u001b[1;34m'''报错'''\u001b[0m\u001b[1;33m\u001b[0m\u001b[1;33m\u001b[0m\u001b[0m\n",
      "\u001b[1;32mD:\\anaconda\\lib\\site-packages\\sklearn\\model_selection\\_validation.py\u001b[0m in \u001b[0;36mcross_val_score\u001b[1;34m(estimator, X, y, groups, scoring, cv, n_jobs, verbose, fit_params, pre_dispatch, error_score)\u001b[0m\n\u001b[0;32m    392\u001b[0m     \"\"\"\n\u001b[0;32m    393\u001b[0m     \u001b[1;31m# To ensure multimetric format is not supported\u001b[0m\u001b[1;33m\u001b[0m\u001b[1;33m\u001b[0m\u001b[1;33m\u001b[0m\u001b[0m\n\u001b[1;32m--> 394\u001b[1;33m     \u001b[0mscorer\u001b[0m \u001b[1;33m=\u001b[0m \u001b[0mcheck_scoring\u001b[0m\u001b[1;33m(\u001b[0m\u001b[0mestimator\u001b[0m\u001b[1;33m,\u001b[0m \u001b[0mscoring\u001b[0m\u001b[1;33m=\u001b[0m\u001b[0mscoring\u001b[0m\u001b[1;33m)\u001b[0m\u001b[1;33m\u001b[0m\u001b[1;33m\u001b[0m\u001b[0m\n\u001b[0m\u001b[0;32m    395\u001b[0m \u001b[1;33m\u001b[0m\u001b[0m\n\u001b[0;32m    396\u001b[0m     cv_results = cross_validate(estimator=estimator, X=X, y=y, groups=groups,\n",
      "\u001b[1;32mD:\\anaconda\\lib\\site-packages\\sklearn\\metrics\\scorer.py\u001b[0m in \u001b[0;36mcheck_scoring\u001b[1;34m(estimator, scoring, allow_none)\u001b[0m\n\u001b[0;32m    271\u001b[0m                         \"'fit' method, %r was passed\" % estimator)\n\u001b[0;32m    272\u001b[0m     \u001b[1;32mif\u001b[0m \u001b[0misinstance\u001b[0m\u001b[1;33m(\u001b[0m\u001b[0mscoring\u001b[0m\u001b[1;33m,\u001b[0m \u001b[0msix\u001b[0m\u001b[1;33m.\u001b[0m\u001b[0mstring_types\u001b[0m\u001b[1;33m)\u001b[0m\u001b[1;33m:\u001b[0m\u001b[1;33m\u001b[0m\u001b[1;33m\u001b[0m\u001b[0m\n\u001b[1;32m--> 273\u001b[1;33m         \u001b[1;32mreturn\u001b[0m \u001b[0mget_scorer\u001b[0m\u001b[1;33m(\u001b[0m\u001b[0mscoring\u001b[0m\u001b[1;33m)\u001b[0m\u001b[1;33m\u001b[0m\u001b[1;33m\u001b[0m\u001b[0m\n\u001b[0m\u001b[0;32m    274\u001b[0m     \u001b[1;32melif\u001b[0m \u001b[0mcallable\u001b[0m\u001b[1;33m(\u001b[0m\u001b[0mscoring\u001b[0m\u001b[1;33m)\u001b[0m\u001b[1;33m:\u001b[0m\u001b[1;33m\u001b[0m\u001b[1;33m\u001b[0m\u001b[0m\n\u001b[0;32m    275\u001b[0m         \u001b[1;31m# Heuristic to ensure user has not passed a metric\u001b[0m\u001b[1;33m\u001b[0m\u001b[1;33m\u001b[0m\u001b[1;33m\u001b[0m\u001b[0m\n",
      "\u001b[1;32mD:\\anaconda\\lib\\site-packages\\sklearn\\metrics\\scorer.py\u001b[0m in \u001b[0;36mget_scorer\u001b[1;34m(scoring)\u001b[0m\n\u001b[0;32m    231\u001b[0m             raise ValueError('%r is not a valid scoring value. '\n\u001b[0;32m    232\u001b[0m                              \u001b[1;34m'Use sorted(sklearn.metrics.SCORERS.keys()) '\u001b[0m\u001b[1;33m\u001b[0m\u001b[1;33m\u001b[0m\u001b[0m\n\u001b[1;32m--> 233\u001b[1;33m                              'to get valid options.' % (scoring))\n\u001b[0m\u001b[0;32m    234\u001b[0m     \u001b[1;32melse\u001b[0m\u001b[1;33m:\u001b[0m\u001b[1;33m\u001b[0m\u001b[1;33m\u001b[0m\u001b[0m\n\u001b[0;32m    235\u001b[0m         \u001b[0mscorer\u001b[0m \u001b[1;33m=\u001b[0m \u001b[0mscoring\u001b[0m\u001b[1;33m\u001b[0m\u001b[1;33m\u001b[0m\u001b[0m\n",
      "\u001b[1;31mValueError\u001b[0m: 'mean_squared_error' is not a valid scoring value. Use sorted(sklearn.metrics.SCORERS.keys()) to get valid options."
     ]
    }
   ],
   "source": [
    "cross_val_score(reg,X,y,cv=10,scoring='mean_squared_error') #交叉验证\n",
    "'''报错'''"
   ]
  },
  {
   "cell_type": "code",
   "execution_count": 19,
   "metadata": {},
   "outputs": [
    {
     "data": {
      "text/plain": [
       "['accuracy',\n",
       " 'adjusted_mutual_info_score',\n",
       " 'adjusted_rand_score',\n",
       " 'average_precision',\n",
       " 'balanced_accuracy',\n",
       " 'brier_score_loss',\n",
       " 'completeness_score',\n",
       " 'explained_variance',\n",
       " 'f1',\n",
       " 'f1_macro',\n",
       " 'f1_micro',\n",
       " 'f1_samples',\n",
       " 'f1_weighted',\n",
       " 'fowlkes_mallows_score',\n",
       " 'homogeneity_score',\n",
       " 'mutual_info_score',\n",
       " 'neg_log_loss',\n",
       " 'neg_mean_absolute_error',\n",
       " 'neg_mean_squared_error',\n",
       " 'neg_mean_squared_log_error',\n",
       " 'neg_median_absolute_error',\n",
       " 'normalized_mutual_info_score',\n",
       " 'precision',\n",
       " 'precision_macro',\n",
       " 'precision_micro',\n",
       " 'precision_samples',\n",
       " 'precision_weighted',\n",
       " 'r2',\n",
       " 'recall',\n",
       " 'recall_macro',\n",
       " 'recall_micro',\n",
       " 'recall_samples',\n",
       " 'recall_weighted',\n",
       " 'roc_auc',\n",
       " 'v_measure_score']"
      ]
     },
     "execution_count": 19,
     "metadata": {},
     "output_type": "execute_result"
    }
   ],
   "source": [
    "import sklearn\n",
    "sorted(sklearn.metrics.SCORERS.keys())"
   ]
  },
  {
   "cell_type": "code",
   "execution_count": 20,
   "metadata": {},
   "outputs": [
    {
     "data": {
      "text/plain": [
       "array([-0.48922052, -0.43335865, -0.8864377 , -0.39091641, -0.7479731 ,\n",
       "       -0.52980278, -0.28798456, -0.77326441, -0.64305557, -0.3275106 ])"
      ]
     },
     "execution_count": 20,
     "metadata": {},
     "output_type": "execute_result"
    }
   ],
   "source": [
    "'''这是因为sklearn在计算模型评估指标的时候，会考虑指标本身的性质，均方误差本身是一种误差，所以被sklearn划分为模型的一种损失(loss)。在sklearn当中，所有的损失都使用负数\n",
    "表示，因此均方误差也被显示为负数了'''\n",
    "cross_val_score(reg,X,y,cv=10,scoring='neg_mean_squared_error') #交叉验证 注意是负平方误差"
   ]
  },
  {
   "cell_type": "markdown",
   "metadata": {},
   "source": [
    "### 是否拟合了做够的信息"
   ]
  },
  {
   "cell_type": "markdown",
   "metadata": {},
   "source": [
    "![Title](1581498063(1).jpg)"
   ]
  },
  {
   "cell_type": "markdown",
   "metadata": {},
   "source": [
    "![Title](1581499356(1).jpg)"
   ]
  },
  {
   "cell_type": "code",
   "execution_count": 21,
   "metadata": {},
   "outputs": [
    {
     "data": {
      "text/plain": [
       "0.3380653761555984"
      ]
     },
     "execution_count": 21,
     "metadata": {},
     "output_type": "execute_result"
    }
   ],
   "source": [
    "from sklearn.metrics import r2_score\n",
    "r2_score(yhat,Ytest) #预测值和真实值"
   ]
  },
  {
   "cell_type": "code",
   "execution_count": 22,
   "metadata": {},
   "outputs": [
    {
     "data": {
      "text/plain": [
       "0.6043668160178817"
      ]
     },
     "execution_count": 22,
     "metadata": {},
     "output_type": "execute_result"
    }
   ],
   "source": [
    "r2 = reg.score(Xtest,Ytest)\n",
    "r2 #发现不同"
   ]
  },
  {
   "cell_type": "markdown",
   "metadata": {},
   "source": [
    "在我们的分类模型的评价指标当中，我们进行的是一种 if a == b的对比，这种判断和if b == a其实完全是一种概念，所以我们在进行模型评估的时候，从未踩到我们现在在的这个坑里。然而看R2的计算公式，R2明显和分类模型的指标中的accuracy或者precision不一样，R2涉及到的计算中对预测值和真实值有极大的区别，必须是预测值在分子，真实值在分母，所以我们在调用metrcis模块中的模型评估指标的时候，必须要检查清楚，指标的参数中，究竟是要求我们先输入真实值还是先输入预测值"
   ]
  },
  {
   "cell_type": "code",
   "execution_count": 23,
   "metadata": {},
   "outputs": [
    {
     "data": {
      "text/plain": [
       "0.6043668160178817"
      ]
     },
     "execution_count": 23,
     "metadata": {},
     "output_type": "execute_result"
    }
   ],
   "source": [
    "r2_score(Ytest,yhat) #上面的输入犯了"
   ]
  },
  {
   "cell_type": "code",
   "execution_count": 24,
   "metadata": {},
   "outputs": [
    {
     "data": {
      "text/plain": [
       "0.6043668160178817"
      ]
     },
     "execution_count": 24,
     "metadata": {},
     "output_type": "execute_result"
    }
   ],
   "source": [
    "#或者也可以指定参数，就不必在意顺序了\n",
    "r2_score(y_true=Ytest,y_pred=yhat) #有40%的信息都被遗漏了"
   ]
  },
  {
   "cell_type": "code",
   "execution_count": 25,
   "metadata": {},
   "outputs": [
    {
     "data": {
      "text/plain": [
       "0.5110068610524556"
      ]
     },
     "execution_count": 25,
     "metadata": {},
     "output_type": "execute_result"
    }
   ],
   "source": [
    "cross_val_score(reg,X,y,cv=10,scoring='r2').mean()#交叉验证分数的平均值 "
   ]
  },
  {
   "cell_type": "markdown",
   "metadata": {},
   "source": [
    "我们观察到，我们在加利福尼亚房屋价值数据集上的MSE其实不是一个很大的数（0.5），但我们的不高，这证明我们的模型比较好地拟合了一部分数据的数值，却没有能正确拟合数据的分布"
   ]
  },
  {
   "cell_type": "code",
   "execution_count": 26,
   "metadata": {},
   "outputs": [
    {
     "data": {
      "text/plain": [
       "<Figure size 640x480 with 1 Axes>"
      ]
     },
     "metadata": {},
     "output_type": "display_data"
    }
   ],
   "source": [
    "'''观察数据和预测值的趋势'''\n",
    "import matplotlib.pyplot as plt\n",
    "\n",
    "plt.plot(range(len(Ytest)),sorted(Ytest),c=\"black\",label= \"Data\")\n",
    "plt.plot(range(len(yhat)),sorted(yhat),c=\"red\",label = \"Predict\")\n",
    "plt.legend()\n",
    "plt.show()"
   ]
  },
  {
   "cell_type": "markdown",
   "metadata": {},
   "source": [
    "可见，虽然我们的大部分数据被拟合得比较好，但是图像的开头和结尾处却又着较大的拟合误差。如果我们在图像右侧分布着更多的数据，我们的模型就会越来越偏离我们真正的标签。这种结果类似于我们前面提到的，虽然在有限的数据集上将数值预测正确了，但却没有正确拟合数据的分布，如果有更多的数据进入我们的模型，那数据标签被预测错误的可能性是非常大的。"
   ]
  },
  {
   "cell_type": "code",
   "execution_count": 27,
   "metadata": {},
   "outputs": [
    {
     "data": {
      "text/plain": [
       "array([-179.11480837,   -5.70837982,  -15.38196168,  -77.07714165,\n",
       "        -61.98484963])"
      ]
     },
     "execution_count": 27,
     "metadata": {},
     "output_type": "execute_result"
    }
   ],
   "source": [
    "import numpy as np\n",
    "\n",
    "rng = np.random.RandomState(42)\n",
    "X = rng.randn(100, 80)\n",
    "y = rng.randn(100)\n",
    "cross_val_score(LR(), X, y, cv=5, scoring='r2')"
   ]
  },
  {
   "cell_type": "markdown",
   "metadata": {},
   "source": [
    "### 多重共线性\n",
    "---\n",
    "多重共线性如果存在，则线性回归就无法使用最小二乘法来进行求解，或者求解就会出现偏差。幸运的是，不能存在多重共线性，不代表不能存在相关性——机器学习不要求特征之间必须独立，必须不相关，只要不是高度相关或者精确相关就好。\n",
    "\n",
    "#### 多重共线性 Multicollinearity 与相关性 Correlation\n",
    "多重共线性是一种统计现象，是指线性模型中的特征（解释变量）之间由于存在精确相关关系或高度相关关系，多重共线性的存在会使模型无法建立，或者估计失真。多重共线性使用指标方差膨胀因子（variance inflationfactor，VIF）来进行衡量（from statsmodels.stats.outliers_influence import variance_inflation_factor），通常当我们提到“共线性”，都特指多重共线性。\n",
    "\n",
    "相关性是衡量两个或多个变量一起波动的程度的指标，它可以是正的，负的或者0。当我们说变量之间具有相关性，通常是指线性相关性，线性相关一般由皮尔逊相关系数进行衡量，非线性相关可以使用斯皮尔曼相关系数或者互信息法进行衡量。"
   ]
  },
  {
   "cell_type": "markdown",
   "metadata": {},
   "source": [
    "在现实中特征之间完全独立的情况其实非常少，因为大部分数据统计手段或者收集者并不考虑统计学或者机器学习建模时的需求，现实数据多多少少都会存在一些相关性，极端情况下，甚至还可能出现收集的特征数量比样本数量多的情况。通常来说，这些相关性在机器学习中通常无伤大雅（在统计学中他们可能是比较严重的问题），即便有一些偏差，只要最小二乘法能够求解，我们都有可能会无视掉它。毕竟，想要消除特征的相关性，无论使用怎样的手段，都无法避免进行特征选择，这意味着可用的信息变得更加少，对于机器学习来说，很有可能尽量排除相关性后，模型的整体效果会受到巨大的打击。这种情况下，我们选择不处理相关性，只要结果好，一切万事大吉。"
   ]
  },
  {
   "cell_type": "markdown",
   "metadata": {},
   "source": [
    "## 岭回归\n",
    "#### 岭回归解决多重共线性问题\n",
    "---\n",
    "岭回归，又称为吉洪诺夫正则化（Tikhonov regularization）。\n",
    "![Title](1581512548(1).png)"
   ]
  },
  {
   "cell_type": "markdown",
   "metadata": {},
   "source": [
    "####  linear_model.Ridge\n",
    "classsklearn.linear_model.Ridge(alpha=1.0, fit_intercept=True, normalize=False, copy_X=True, max_iter=None,tol=0.001, solver=’auto’, random_state=None)\n",
    "\n",
    "真正核心的参数是正则化的系数a，其他的参数是当我们希望使用最小二乘法之外的求解方法求解岭回归的时候才需要的，一般不进行修改。"
   ]
  },
  {
   "cell_type": "markdown",
   "metadata": {},
   "source": [
    "之前我们在加利佛尼亚房屋价值数据集上使用线性回归，得出的结果大概是训练集上的拟合程度是60%，测试集上的拟合程度也是60%左右，那这个很低的拟合程度是不是由多重共线性造成的呢？在统计学中，我们会通过VIF或者各种检验来判断数据是否存在共线性，然而在机器学习中，我们可以使用模型来判断——如果一个数据集在岭回归中使用各种正则化参数取值下模型表现没有明显上升（比如出现持平或者下降），则说明数据没有多重共线性，顶多是特征之间有一些相关性。反之，如果一个数据集在岭回归的各种正则化参数取值下表现出明显的上升趋势，则说明数据存在多重共线性。"
   ]
  },
  {
   "cell_type": "code",
   "execution_count": 28,
   "metadata": {},
   "outputs": [
    {
     "data": {
      "text/html": [
       "<div>\n",
       "<style scoped>\n",
       "    .dataframe tbody tr th:only-of-type {\n",
       "        vertical-align: middle;\n",
       "    }\n",
       "\n",
       "    .dataframe tbody tr th {\n",
       "        vertical-align: top;\n",
       "    }\n",
       "\n",
       "    .dataframe thead th {\n",
       "        text-align: right;\n",
       "    }\n",
       "</style>\n",
       "<table border=\"1\" class=\"dataframe\">\n",
       "  <thead>\n",
       "    <tr style=\"text-align: right;\">\n",
       "      <th></th>\n",
       "      <th>住户收入中位数</th>\n",
       "      <th>房屋使用年代中位数</th>\n",
       "      <th>平均房间数目</th>\n",
       "      <th>平均卧室数目</th>\n",
       "      <th>街区人口</th>\n",
       "      <th>平均入住率</th>\n",
       "      <th>街区的纬度</th>\n",
       "      <th>街区的经度</th>\n",
       "    </tr>\n",
       "  </thead>\n",
       "  <tbody>\n",
       "    <tr>\n",
       "      <th>0</th>\n",
       "      <td>8.3252</td>\n",
       "      <td>41.0</td>\n",
       "      <td>6.984127</td>\n",
       "      <td>1.023810</td>\n",
       "      <td>322.0</td>\n",
       "      <td>2.555556</td>\n",
       "      <td>37.88</td>\n",
       "      <td>-122.23</td>\n",
       "    </tr>\n",
       "    <tr>\n",
       "      <th>1</th>\n",
       "      <td>8.3014</td>\n",
       "      <td>21.0</td>\n",
       "      <td>6.238137</td>\n",
       "      <td>0.971880</td>\n",
       "      <td>2401.0</td>\n",
       "      <td>2.109842</td>\n",
       "      <td>37.86</td>\n",
       "      <td>-122.22</td>\n",
       "    </tr>\n",
       "    <tr>\n",
       "      <th>2</th>\n",
       "      <td>7.2574</td>\n",
       "      <td>52.0</td>\n",
       "      <td>8.288136</td>\n",
       "      <td>1.073446</td>\n",
       "      <td>496.0</td>\n",
       "      <td>2.802260</td>\n",
       "      <td>37.85</td>\n",
       "      <td>-122.24</td>\n",
       "    </tr>\n",
       "    <tr>\n",
       "      <th>3</th>\n",
       "      <td>5.6431</td>\n",
       "      <td>52.0</td>\n",
       "      <td>5.817352</td>\n",
       "      <td>1.073059</td>\n",
       "      <td>558.0</td>\n",
       "      <td>2.547945</td>\n",
       "      <td>37.85</td>\n",
       "      <td>-122.25</td>\n",
       "    </tr>\n",
       "    <tr>\n",
       "      <th>4</th>\n",
       "      <td>3.8462</td>\n",
       "      <td>52.0</td>\n",
       "      <td>6.281853</td>\n",
       "      <td>1.081081</td>\n",
       "      <td>565.0</td>\n",
       "      <td>2.181467</td>\n",
       "      <td>37.85</td>\n",
       "      <td>-122.25</td>\n",
       "    </tr>\n",
       "  </tbody>\n",
       "</table>\n",
       "</div>"
      ],
      "text/plain": [
       "   住户收入中位数  房屋使用年代中位数    平均房间数目    平均卧室数目    街区人口     平均入住率  街区的纬度   街区的经度\n",
       "0   8.3252       41.0  6.984127  1.023810   322.0  2.555556  37.88 -122.23\n",
       "1   8.3014       21.0  6.238137  0.971880  2401.0  2.109842  37.86 -122.22\n",
       "2   7.2574       52.0  8.288136  1.073446   496.0  2.802260  37.85 -122.24\n",
       "3   5.6431       52.0  5.817352  1.073059   558.0  2.547945  37.85 -122.25\n",
       "4   3.8462       52.0  6.281853  1.081081   565.0  2.181467  37.85 -122.25"
      ]
     },
     "execution_count": 28,
     "metadata": {},
     "output_type": "execute_result"
    }
   ],
   "source": [
    "import numpy as np\n",
    "import pandas as pd\n",
    "from sklearn.linear_model import Ridge,LinearRegression,Lasso\n",
    "from sklearn.model_selection import train_test_split as TTS\n",
    "from sklearn.datasets import fetch_california_housing as fch\n",
    "import matplotlib.pyplot as plt\n",
    "\n",
    "housevalue = fch()\n",
    "\n",
    "X = pd.DataFrame(housevalue.data)\n",
    "y = housevalue.target\n",
    "\n",
    "X.columns = [\"住户收入中位数\",\"房屋使用年代中位数\",\"平均房间数目\"\n",
    "             ,\"平均卧室数目\",\"街区人口\",\"平均入住率\",\"街区的纬度\",\"街区的经度\"]\n",
    "\n",
    "X.head()"
   ]
  },
  {
   "cell_type": "code",
   "execution_count": 29,
   "metadata": {},
   "outputs": [
    {
     "data": {
      "text/plain": [
       "0.6043610352312279"
      ]
     },
     "execution_count": 29,
     "metadata": {},
     "output_type": "execute_result"
    }
   ],
   "source": [
    "Xtrain,Xtest,Ytrain,Ytest = TTS(X,y,test_size=0.3,random_state=420)\n",
    "\n",
    "#数据集索引恢复\n",
    "for i in [Xtrain,Xtest]:\n",
    "    i.index = range(i.shape[0])\n",
    "    \n",
    "#使用岭回归来进行建模\n",
    "reg = Ridge(alpha=1).fit(Xtrain,Ytrain)\n",
    "reg.score(Xtest,Ytest) #返回的和线性模型的分数一样 所以房屋价值数据集中应该不是共线性问题"
   ]
  },
  {
   "cell_type": "code",
   "execution_count": 30,
   "metadata": {},
   "outputs": [
    {
     "data": {
      "image/png": "[encoded data removed]",
      "text/plain": [
       "<Figure size 432x288 with 1 Axes>"
      ]
     },
     "metadata": {
      "needs_background": "light"
     },
     "output_type": "display_data"
    },
    {
     "data": {
      "text/plain": [
       "'数据集带有较为轻微的共线性'"
      ]
     },
     "execution_count": 30,
     "metadata": {},
     "output_type": "execute_result"
    }
   ],
   "source": [
    "'''交叉验证下，与线性回归相比，岭回归的结果如何变化'''\n",
    "alpharange = np.arange(1,1001,100)\n",
    "\n",
    "ridge,lr = [],[]\n",
    "for alpha in alpharange:\n",
    "    reg = Ridge(alpha=alpha) #岭回归\n",
    "    linear = LinearRegression() #线性回归\n",
    "    regs = cross_val_score(reg,X,y,cv=5,scoring='r2').mean() #交叉验证岭回归分数\n",
    "    linears = cross_val_score(linear,X,y,cv=5,scoring='r2').mean() #\n",
    "    ridge.append(regs)\n",
    "    lr.append(linears)\n",
    "    \n",
    "plt.plot(alpharange,ridge,color='red',label='Ridge')\n",
    "plt.plot(alpharange,lr,color='orange',label='LR')\n",
    "plt.title('Mean')\n",
    "plt.legend()\n",
    "plt.show()\n",
    "'''数据集带有较为轻微的共线性'''"
   ]
  },
  {
   "cell_type": "markdown",
   "metadata": {},
   "source": [
    "可以看出，加利佛尼亚数据集上，岭回归的结果轻微上升，随后骤降。可以说，加利佛尼亚房屋价值数据集带有很轻微的一部分共线性，这种共线性被正则化参数消除后，模型的效果提升了一点点，但是对于整个模型而言是杯水车薪。在过了控制多重共线性的点后，模型的效果飞速下降，显然是正则化的程度太重，挤占了参数w本来的估计空间。从这个结果可以看出，加利福尼亚州数据集的核心问题不在于多重共线性，岭回归不能够提升模型表现"
   ]
  },
  {
   "cell_type": "code",
   "execution_count": 31,
   "metadata": {},
   "outputs": [
    {
     "data": {
      "image/png": "[encoded data removed]",
      "text/plain": [
       "<Figure size 432x288 with 1 Axes>"
      ]
     },
     "metadata": {
      "needs_background": "light"
     },
     "output_type": "display_data"
    }
   ],
   "source": [
    "#模型方差如何变化？\n",
    "alpharange = np.arange(1,1001,100)\n",
    "\n",
    "ridge,lr = [],[]\n",
    "for alpha in alpharange:\n",
    "    reg = Ridge(alpha=alpha) #岭回归\n",
    "    linear = LinearRegression() #线性回归\n",
    "    regs = cross_val_score(reg,X,y,cv=5,scoring='r2').var() #交叉验证岭回归分数方差\n",
    "    linears = cross_val_score(linear,X,y,cv=5,scoring='r2').var()\n",
    "    ridge.append(regs)\n",
    "    lr.append(linears)\n",
    "    \n",
    "plt.plot(alpharange,ridge,color='red',label='Ridge')\n",
    "plt.plot(alpharange,lr,color='orange',label='LR')\n",
    "plt.title('Variance')\n",
    "plt.legend()\n",
    "plt.show()"
   ]
  },
  {
   "cell_type": "markdown",
   "metadata": {},
   "source": [
    "![Title](1581514149(1).png)"
   ]
  },
  {
   "cell_type": "code",
   "execution_count": 32,
   "metadata": {},
   "outputs": [],
   "source": [
    "from sklearn.datasets import load_boston\n",
    "from sklearn.model_selection import cross_val_score\n",
    "\n",
    "X = load_boston().data\n",
    "y = load_boston().target\n",
    "\n",
    "Xtrain,Xtest,Ytrain,Ytest = train_test_split(X,y,test_size=0.3,random_state=420)"
   ]
  },
  {
   "cell_type": "code",
   "execution_count": 33,
   "metadata": {},
   "outputs": [
    {
     "data": {
      "text/plain": [
       "(506, 13)"
      ]
     },
     "execution_count": 33,
     "metadata": {},
     "output_type": "execute_result"
    }
   ],
   "source": [
    "X.shape #506个样本13个特征"
   ]
  },
  {
   "cell_type": "code",
   "execution_count": 34,
   "metadata": {},
   "outputs": [
    {
     "data": {
      "image/png": "[encoded data removed]",
      "text/plain": [
       "<Figure size 432x288 with 1 Axes>"
      ]
     },
     "metadata": {
      "needs_background": "light"
     },
     "output_type": "display_data"
    }
   ],
   "source": [
    "#模型方差如何变化？\n",
    "alpharange = np.arange(1,1001,100)\n",
    "\n",
    "ridge,lr = [],[]\n",
    "for alpha in alpharange:\n",
    "    reg = Ridge(alpha=alpha) #岭回归\n",
    "    linear = LinearRegression() #线性回归\n",
    "    regs = cross_val_score(reg,X,y,cv=5,scoring='r2').var() #交叉验证岭回归分数方差\n",
    "    linears = cross_val_score(linear,X,y,cv=5,scoring='r2').var()\n",
    "    ridge.append(regs)\n",
    "    lr.append(linears)\n",
    "    \n",
    "plt.plot(alpharange,ridge,color='red',label='Ridge')\n",
    "plt.plot(alpharange,lr,color='orange',label='LR')\n",
    "plt.title('Variance')\n",
    "plt.legend()\n",
    "plt.show()\n",
    "plt.show()"
   ]
  },
  {
   "cell_type": "code",
   "execution_count": 35,
   "metadata": {},
   "outputs": [
    {
     "data": {
      "image/png": "[encoded data removed]",
      "text/plain": [
       "<Figure size 432x288 with 1 Axes>"
      ]
     },
     "metadata": {
      "needs_background": "light"
     },
     "output_type": "display_data"
    }
   ],
   "source": [
    "alpharange = np.arange(1,1001,100)\n",
    "\n",
    "ridge,lr = [],[]\n",
    "for alpha in alpharange:\n",
    "    reg = Ridge(alpha=alpha) #岭回归\n",
    "    linear = LinearRegression() #线性回归\n",
    "    regs = cross_val_score(reg,X,y,cv=5,scoring='r2').mean() #交叉验证岭回归分数\n",
    "    linears = cross_val_score(linear,X,y,cv=5,scoring='r2').mean() #\n",
    "    ridge.append(regs)\n",
    "    lr.append(linears)\n",
    "    \n",
    "plt.plot(alpharange,ridge,color='red',label='Ridge')\n",
    "plt.plot(alpharange,lr,color='orange',label='LR')\n",
    "plt.title('Mean')\n",
    "plt.legend()\n",
    "plt.show()"
   ]
  },
  {
   "cell_type": "code",
   "execution_count": 36,
   "metadata": {},
   "outputs": [
    {
     "data": {
      "image/png": "[encoded data removed]",
      "text/plain": [
       "<Figure size 432x288 with 1 Axes>"
      ]
     },
     "metadata": {
      "needs_background": "light"
     },
     "output_type": "display_data"
    }
   ],
   "source": [
    "# 细化学习曲线\n",
    "alpharange = np.arange(100,300,10)\n",
    "\n",
    "ridge,lr = [],[]\n",
    "for alpha in alpharange:\n",
    "    reg = Ridge(alpha=alpha) #岭回归\n",
    "    #linear = LinearRegression() #线性回归\n",
    "    regs = cross_val_score(reg,X,y,cv=5,scoring='r2').mean() #交叉验证岭回归分数\n",
    "    #linears = cross_val_score(linear,X,y,cv=5,scoring='r2').mean() #\n",
    "    ridge.append(regs)\n",
    "    #lr.append(linears)\n",
    "    \n",
    "plt.plot(alpharange,ridge,color='red',label='Ridge')\n",
    "#plt.plot(alpharange,lr,color='orange',label='LR')\n",
    "plt.title('Mean')\n",
    "plt.legend()\n",
    "plt.show()"
   ]
  },
  {
   "cell_type": "markdown",
   "metadata": {},
   "source": [
    "可以发现，比起加利佛尼亚房屋价值数据集，波士顿房价数据集的方差降低明显，偏差也降低明显，可见使用岭回归还是起到了一定的作用，模型的泛化能力是有可能会上升的。\n",
    "\n",
    "遗憾的是，没有人会希望自己获取的数据中存在多重共线性，因此发布到scikit-learn或者kaggle上的数据基本都经过一定的多重共线性的处理的，要找出绝对具有多重共线性的数据非常困难，也就无法给大家展示岭回归在实际数据中大显身手的模样。我们也许可以找出具有一些相关性的数据，但是大家如果去尝试就会发现，基本上如果我们使用岭回归或者Lasso，那模型的效果都是会降低的，很难升高，这恐怕也是岭回归和Lasso一定程度上被机器学习领域冷遇的原因。"
   ]
  },
  {
   "cell_type": "markdown",
   "metadata": {},
   "source": [
    "### 选取最佳的正则化参数取值"
   ]
  },
  {
   "cell_type": "markdown",
   "metadata": {},
   "source": [
    "###### 我们应该使用交叉验证来选择最佳的正则化系数。在sklearn中，我们有带交叉验证的岭回归可以使用，我们来看一看：\n",
    "classsklearn.linear_model.RidgeCV(alphas=(0.1, 1.0, 10.0), fit_intercept=True, normalize=False, scoring=None,cv=None, gcv_mode=None, store_cv_values=False)\n"
   ]
  },
  {
   "cell_type": "markdown",
   "metadata": {},
   "source": [
    "![Title](1581515747(1).jpg)"
   ]
  },
  {
   "cell_type": "code",
   "execution_count": 37,
   "metadata": {},
   "outputs": [],
   "source": [
    "import numpy as np\n",
    "import pandas as pd\n",
    "from sklearn.linear_model import Ridge,LinearRegression,RidgeCV\n",
    "from sklearn.model_selection import train_test_split as TTS\n",
    "from sklearn.datasets import fetch_california_housing as fch\n",
    "import matplotlib.pyplot as plt\n",
    "\n",
    "housevalue = fch()\n",
    "\n",
    "X = pd.DataFrame(housevalue.data)\n",
    "y = housevalue.target\n",
    "\n",
    "X.columns = [\"住户收入中位数\",\"房屋使用年代中位数\",\"平均房间数目\"\n",
    "             ,\"平均卧室数目\",\"街区人口\",\"平均入住率\",\"街区的纬度\",\"街区的经度\"]\n",
    "\n",
    "Ridge_ = RidgeCV(alphas=np.arange(1,1001,100) #1到1001 每100取一个值\n",
    "                #,scoring='neg_mean_squared_error' 默认R平方\n",
    "                ,store_cv_values=True\n",
    "                #,cv=5 默认留一交叉验证\n",
    "                ).fit(X,y)"
   ]
  },
  {
   "cell_type": "code",
   "execution_count": 38,
   "metadata": {},
   "outputs": [
    {
     "data": {
      "text/plain": [
       "0.6060251767338442"
      ]
     },
     "execution_count": 38,
     "metadata": {},
     "output_type": "execute_result"
    }
   ],
   "source": [
    "#无关交叉验证的岭回归结果\n",
    "Ridge_.score(X,y)"
   ]
  },
  {
   "cell_type": "code",
   "execution_count": 39,
   "metadata": {},
   "outputs": [
    {
     "data": {
      "text/plain": [
       "(20640, 10)"
      ]
     },
     "execution_count": 39,
     "metadata": {},
     "output_type": "execute_result"
    }
   ],
   "source": [
    "#调用所有交叉验证的结果\n",
    "Ridge_.cv_values_.shape"
   ]
  },
  {
   "cell_type": "code",
   "execution_count": 40,
   "metadata": {},
   "outputs": [
    {
     "data": {
      "text/plain": [
       "array([[0.1557472 , 0.16301246, 0.16892723, ..., 0.18881663, 0.19182353,\n",
       "        0.19466385],\n",
       "       [0.15334566, 0.13922075, 0.12849014, ..., 0.09744906, 0.09344092,\n",
       "        0.08981868],\n",
       "       [0.02429857, 0.03043271, 0.03543001, ..., 0.04971514, 0.05126165,\n",
       "        0.05253834],\n",
       "       ...,\n",
       "       [0.56545783, 0.5454654 , 0.52655917, ..., 0.44532597, 0.43130136,\n",
       "        0.41790336],\n",
       "       [0.27883123, 0.2692305 , 0.25944481, ..., 0.21328675, 0.20497018,\n",
       "        0.19698274],\n",
       "       [0.14313527, 0.13967826, 0.13511341, ..., 0.1078647 , 0.10251737,\n",
       "        0.0973334 ]])"
      ]
     },
     "execution_count": 40,
     "metadata": {},
     "output_type": "execute_result"
    }
   ],
   "source": [
    "Ridge_.cv_values_"
   ]
  },
  {
   "cell_type": "code",
   "execution_count": 41,
   "metadata": {},
   "outputs": [
    {
     "data": {
      "text/plain": [
       "array([0.52823795, 0.52787439, 0.52807763, 0.52855759, 0.52917958,\n",
       "       0.52987689, 0.53061486, 0.53137481, 0.53214638, 0.53292369])"
      ]
     },
     "execution_count": 41,
     "metadata": {},
     "output_type": "execute_result"
    }
   ],
   "source": [
    "#进行平均后可以查看每个正则化系数取值下的交叉验证结果\n",
    "Ridge_.cv_values_.mean(axis=0) #共十个 因为100 到 1001 每100取一个数 就是十个"
   ]
  },
  {
   "cell_type": "code",
   "execution_count": 42,
   "metadata": {},
   "outputs": [
    {
     "data": {
      "text/plain": [
       "101"
      ]
     },
     "execution_count": 42,
     "metadata": {},
     "output_type": "execute_result"
    }
   ],
   "source": [
    "#查看被选择出来的最佳正则化系数\n",
    "Ridge_.alpha_"
   ]
  },
  {
   "cell_type": "markdown",
   "metadata": {},
   "source": [
    "## Lasso\n",
    "---\n",
    "Lasso与多重共线性\n",
    "\n",
    "![Title](1581518099(1).jpg)"
   ]
  },
  {
   "cell_type": "markdown",
   "metadata": {},
   "source": [
    "### Lasso的核心作用：特征选择\n",
    "classsklearn.linear_model.Lasso(alpha=1.0, fit_intercept=True, normalize=False, precompute=False,copy_X=True, max_iter=1000, tol=0.0001, warm_start=False, positive=False, random_state=None, selection=’cyclic’)"
   ]
  },
  {
   "cell_type": "code",
   "execution_count": 43,
   "metadata": {},
   "outputs": [],
   "source": [
    "import numpy as np\n",
    "import pandas as pd\n",
    "from sklearn.linear_model import Ridge, LinearRegression, Lasso\n",
    "from sklearn.model_selection import train_test_split as TTS\n",
    "from sklearn.datasets import fetch_california_housing as fch\n",
    "import matplotlib.pyplot as plt\n",
    "\n",
    "housevalue = fch()\n",
    "\n",
    "X = pd.DataFrame(housevalue.data)\n",
    "y = housevalue.target\n",
    "X.columns = [\"住户收入中位数\",\"房屋使用年代中位数\",\"平均房间数目\"\n",
    "             ,\"平均卧室数目\",\"街区人口\",\"平均入住率\",\"街区的纬度\",\"街区的经度\"]\n",
    "\n",
    "Xtrain,Xtest,Ytrain,Ytest = TTS(X,y,test_size=0.3,random_state=420)\n",
    "\n",
    "#恢复索引\n",
    "for i in [Xtrain,Xtest]:\n",
    "    i.index = range(i.shape[0])"
   ]
  },
  {
   "cell_type": "code",
   "execution_count": 44,
   "metadata": {},
   "outputs": [
    {
     "data": {
      "text/plain": [
       "[43.73589305968401,\n",
       " 1.0211268294493672,\n",
       " -10.780721617317635,\n",
       " 62.64338275363785,\n",
       " 5.2161253534123096e-05,\n",
       " -0.33485096463336794,\n",
       " -41.3095937894771,\n",
       " -42.62109536208483]"
      ]
     },
     "execution_count": 44,
     "metadata": {},
     "output_type": "execute_result"
    }
   ],
   "source": [
    "#线性回归进行拟合\n",
    "reg = LinearRegression().fit(Xtrain,Ytrain)\n",
    "(reg.coef_*100).tolist()"
   ]
  },
  {
   "cell_type": "code",
   "execution_count": 45,
   "metadata": {},
   "outputs": [
    {
     "data": {
      "text/plain": [
       "[43.73589305968398,\n",
       " 1.0211268294494116,\n",
       " -10.78072161731758,\n",
       " 62.643382753637276,\n",
       " 5.2161253532697085e-05,\n",
       " -0.33485096463335795,\n",
       " -41.3095937894769,\n",
       " -42.62109536208446]"
      ]
     },
     "execution_count": 45,
     "metadata": {},
     "output_type": "execute_result"
    }
   ],
   "source": [
    "#岭回归进行拟合\n",
    "Ridge_ = Ridge(alpha=0).fit(Xtrain,Ytrain)\n",
    "(Ridge_.coef_*100).tolist()"
   ]
  },
  {
   "cell_type": "code",
   "execution_count": 46,
   "metadata": {},
   "outputs": [
    {
     "name": "stderr",
     "output_type": "stream",
     "text": [
      "D:\\anaconda\\lib\\site-packages\\ipykernel_launcher.py:2: UserWarning: With alpha=0, this algorithm does not converge well. You are advised to use the LinearRegression estimator\n",
      "  \n",
      "D:\\anaconda\\lib\\site-packages\\sklearn\\linear_model\\coordinate_descent.py:478: UserWarning: Coordinate descent with no regularization may lead to unexpected results and is discouraged.\n",
      "  positive)\n",
      "D:\\anaconda\\lib\\site-packages\\sklearn\\linear_model\\coordinate_descent.py:492: ConvergenceWarning: Objective did not converge. You might want to increase the number of iterations. Fitting data with very small alpha may cause precision problems.\n",
      "  ConvergenceWarning)\n"
     ]
    },
    {
     "data": {
      "text/plain": [
       "[43.73589305968403,\n",
       " 1.0211268294494056,\n",
       " -10.780721617317713,\n",
       " 62.643382753638086,\n",
       " 5.216125353268129e-05,\n",
       " -0.33485096463335795,\n",
       " -41.30959378947712,\n",
       " -42.6210953620847]"
      ]
     },
     "execution_count": 46,
     "metadata": {},
     "output_type": "execute_result"
    }
   ],
   "source": [
    "#Lasso进行拟合\n",
    "lasso_ = Lasso(alpha=0).fit(Xtrain,Ytrain)\n",
    "(lasso_.coef_*100).tolist()"
   ]
  },
  {
   "cell_type": "markdown",
   "metadata": {},
   "source": [
    "这三条分别是这样的内容：\n",
    "    1. 正则化系数为0，这样算法不可收敛！如果你想让正则化系数为0，请使用线性回归吧\n",
    "    2. 没有正则项的坐标下降法可能会导致意外的结果，不鼓励这样做！\n",
    "    3. 目标函数没有收敛，你也许想要增加迭代次数，使用一个非常小的alpha来拟合模型可能会造成精确度问题！"
   ]
  },
  {
   "cell_type": "markdown",
   "metadata": {},
   "source": [
    "有了坐标下降，就有迭代和收敛的问题，因此sklearn不推荐我们使用0这样的正则化系数。如果我们的确希望取到0，那我们可以使用一个比较很小的数，比如0.01"
   ]
  },
  {
   "cell_type": "code",
   "execution_count": 47,
   "metadata": {},
   "outputs": [
    {
     "data": {
      "text/plain": [
       "[43.73575720621596,\n",
       " 1.0211292318121803,\n",
       " -10.780460336251622,\n",
       " 62.64202320775658,\n",
       " 5.217068073242414e-05,\n",
       " -0.33485065170676187,\n",
       " -41.30957143229132,\n",
       " -42.62105388932396]"
      ]
     },
     "execution_count": 47,
     "metadata": {},
     "output_type": "execute_result"
    }
   ],
   "source": [
    "#岭回归进行拟合\n",
    "Ridge_ = Ridge(alpha=0.01).fit(Xtrain,Ytrain)\n",
    "(Ridge_.coef_*100).tolist()"
   ]
  },
  {
   "cell_type": "code",
   "execution_count": 48,
   "metadata": {},
   "outputs": [
    {
     "data": {
      "text/plain": [
       "[40.10568371834486,\n",
       " 1.0936292607860143,\n",
       " -3.7423763610244563,\n",
       " 26.524037834897207,\n",
       " 0.00035253685115039395,\n",
       " -0.3207129394887798,\n",
       " -40.06483047344844,\n",
       " -40.81754399163317]"
      ]
     },
     "execution_count": 48,
     "metadata": {},
     "output_type": "execute_result"
    }
   ],
   "source": [
    "#Lasso进行拟合\n",
    "lasso_ = Lasso(alpha=0.01).fit(Xtrain,Ytrain)\n",
    "(lasso_.coef_*100).tolist()"
   ]
  },
  {
   "cell_type": "code",
   "execution_count": 49,
   "metadata": {},
   "outputs": [
    {
     "data": {
      "text/plain": [
       "[34.62081517607693,\n",
       " 1.5196170869238688,\n",
       " 0.3968610529210192,\n",
       " 0.9151812510354818,\n",
       " 0.0021739238012248416,\n",
       " -0.34768660148100994,\n",
       " -14.736963474215269,\n",
       " -13.435576102526921]"
      ]
     },
     "execution_count": 49,
     "metadata": {},
     "output_type": "execute_result"
    }
   ],
   "source": [
    "#加大正则项系数，观察模型的系数发生了什么变化\n",
    "Ridge_ = Ridge(alpha=10**4).fit(Xtrain,Ytrain)\n",
    "(Ridge_.coef_*100).tolist()"
   ]
  },
  {
   "cell_type": "code",
   "execution_count": 50,
   "metadata": {},
   "outputs": [
    {
     "data": {
      "text/plain": [
       "[0.0, 0.0, 0.0, -0.0, -0.0, -0.0, -0.0, -0.0]"
      ]
     },
     "execution_count": 50,
     "metadata": {},
     "output_type": "execute_result"
    }
   ],
   "source": [
    "lasso_ = Lasso(alpha=10**4).fit(Xtrain,Ytrain)\n",
    "(lasso_.coef_*100).tolist()"
   ]
  },
  {
   "cell_type": "code",
   "execution_count": 51,
   "metadata": {},
   "outputs": [
    {
     "data": {
      "text/plain": [
       "[14.581141247629423,\n",
       " 0.6209347344423876,\n",
       " 0.0,\n",
       " -0.0,\n",
       " -0.0002806598632900997,\n",
       " -0.0,\n",
       " -0.0,\n",
       " -0.0]"
      ]
     },
     "execution_count": 51,
     "metadata": {},
     "output_type": "execute_result"
    }
   ],
   "source": [
    "#看来10**4对于Lasso来说是个过大的取值\n",
    "lasso_ = Lasso(alpha=1).fit(Xtrain,Ytrain)\n",
    "(lasso_.coef_*100).tolist()"
   ]
  },
  {
   "cell_type": "code",
   "execution_count": 52,
   "metadata": {},
   "outputs": [
    {
     "data": {
      "image/png": "[encoded data removed]",
      "text/plain": [
       "<Figure size 432x288 with 1 Axes>"
      ]
     },
     "metadata": {
      "needs_background": "light"
     },
     "output_type": "display_data"
    }
   ],
   "source": [
    "#将系数进行绘图\n",
    "plt.plot(range(1,9),(reg.coef_*100).tolist(),color=\"red\",label=\"LR\")\n",
    "plt.plot(range(1,9),(Ridge_.coef_*100).tolist(),color=\"orange\",label=\"Ridge\")\n",
    "plt.plot(range(1,9),(lasso_.coef_*100).tolist(),color=\"k\",label=\"Lasso\")\n",
    "plt.plot(range(1,9),[0]*8,color=\"grey\",linestyle=\"--\")\n",
    "\n",
    "plt.xlabel('w') #横坐标是每一个特征所对应的系数\n",
    "plt.legend()\n",
    "plt.show()"
   ]
  },
  {
   "cell_type": "markdown",
   "metadata": {},
   "source": [
    "可见，比起岭回归，Lasso所带的L1正则项对于系数的惩罚要重得多，并且它会将系数压缩至0，因此可以被用来做特征选择。也因此，我们往往让Lasso的正则化系数a在很小的空间中变动，以此来寻找最佳的正则化系数。"
   ]
  },
  {
   "cell_type": "markdown",
   "metadata": {},
   "source": [
    "## 选取最佳的正则化参数取值\n",
    "classsklearn.linear_model.LassoCV(eps=0.001, n_alphas=100, alphas=None, fit_intercept=True,normalize=False, precompute=’auto’, max_iter=1000, tol=0.0001, copy_X=True, cv=’warn’, verbose=False,n_jobs=None, positive=False, random_state=None, selection=’cyclic’)\n",
    "\n",
    "使用交叉验证的Lasso类的参数看起来与岭回归略有不同，这是由于Lasso对于alpha的取值更加敏感的性质决定的。之前提到过，由于Lasso对正则化系数的变动过于敏感，因此我们往往让a在很小的空间中变动。这个小空间小到超乎人们的想象（不是0.01到0.02之间这样的空间，这个空间对lasso而言还是太大了），因此我们设定了一个重要概念“正则化路径”，用来设定正则化系数的变动"
   ]
  },
  {
   "cell_type": "markdown",
   "metadata": {},
   "source": [
    "和岭回归的交叉验证类相似，除了进行交叉验证之外，LassoCV也会单独建立模型。它会先找出最佳的正则化参数，然后在这个参数下按照模型评估指标进行建模。需要注意的是，LassoCV的模型评估指标选用的是均方误差，而岭回归的模型评估指标是可以自己设定的，并且默认是R平方。\n",
    "![Title](1581579294(1).jpg)"
   ]
  },
  {
   "cell_type": "code",
   "execution_count": 53,
   "metadata": {},
   "outputs": [
    {
     "data": {
      "text/plain": [
       "array([1.00000000e-10, 1.09698580e-10, 1.20337784e-10, 1.32008840e-10,\n",
       "       1.44811823e-10, 1.58856513e-10, 1.74263339e-10, 1.91164408e-10,\n",
       "       2.09704640e-10, 2.30043012e-10, 2.52353917e-10, 2.76828663e-10,\n",
       "       3.03677112e-10, 3.33129479e-10, 3.65438307e-10, 4.00880633e-10,\n",
       "       4.39760361e-10, 4.82410870e-10, 5.29197874e-10, 5.80522552e-10,\n",
       "       6.36824994e-10, 6.98587975e-10, 7.66341087e-10, 8.40665289e-10,\n",
       "       9.22197882e-10, 1.01163798e-09, 1.10975250e-09, 1.21738273e-09,\n",
       "       1.33545156e-09, 1.46497140e-09, 1.60705282e-09, 1.76291412e-09,\n",
       "       1.93389175e-09, 2.12145178e-09, 2.32720248e-09, 2.55290807e-09,\n",
       "       2.80050389e-09, 3.07211300e-09, 3.37006433e-09, 3.69691271e-09,\n",
       "       4.05546074e-09, 4.44878283e-09, 4.88025158e-09, 5.35356668e-09,\n",
       "       5.87278661e-09, 6.44236351e-09, 7.06718127e-09, 7.75259749e-09,\n",
       "       8.50448934e-09, 9.32930403e-09, 1.02341140e-08, 1.12266777e-08,\n",
       "       1.23155060e-08, 1.35099352e-08, 1.48202071e-08, 1.62575567e-08,\n",
       "       1.78343088e-08, 1.95639834e-08, 2.14614120e-08, 2.35428641e-08,\n",
       "       2.58261876e-08, 2.83309610e-08, 3.10786619e-08, 3.40928507e-08,\n",
       "       3.73993730e-08, 4.10265811e-08, 4.50055768e-08, 4.93704785e-08,\n",
       "       5.41587138e-08, 5.94113398e-08, 6.51733960e-08, 7.14942899e-08,\n",
       "       7.84282206e-08, 8.60346442e-08, 9.43787828e-08, 1.03532184e-07,\n",
       "       1.13573336e-07, 1.24588336e-07, 1.36671636e-07, 1.49926843e-07,\n",
       "       1.64467618e-07, 1.80418641e-07, 1.97916687e-07, 2.17111795e-07,\n",
       "       2.38168555e-07, 2.61267523e-07, 2.86606762e-07, 3.14403547e-07,\n",
       "       3.44896226e-07, 3.78346262e-07, 4.15040476e-07, 4.55293507e-07,\n",
       "       4.99450512e-07, 5.47890118e-07, 6.01027678e-07, 6.59318827e-07,\n",
       "       7.23263390e-07, 7.93409667e-07, 8.70359136e-07, 9.54771611e-07,\n",
       "       1.04737090e-06, 1.14895100e-06, 1.26038293e-06, 1.38262217e-06,\n",
       "       1.51671689e-06, 1.66381689e-06, 1.82518349e-06, 2.00220037e-06,\n",
       "       2.19638537e-06, 2.40940356e-06, 2.64308149e-06, 2.89942285e-06,\n",
       "       3.18062569e-06, 3.48910121e-06, 3.82749448e-06, 4.19870708e-06,\n",
       "       4.60592204e-06, 5.05263107e-06, 5.54266452e-06, 6.08022426e-06,\n",
       "       6.66991966e-06, 7.31680714e-06, 8.02643352e-06, 8.80488358e-06,\n",
       "       9.65883224e-06, 1.05956018e-05, 1.16232247e-05, 1.27505124e-05,\n",
       "       1.39871310e-05, 1.53436841e-05, 1.68318035e-05, 1.84642494e-05,\n",
       "       2.02550194e-05, 2.22194686e-05, 2.43744415e-05, 2.67384162e-05,\n",
       "       2.93316628e-05, 3.21764175e-05, 3.52970730e-05, 3.87203878e-05,\n",
       "       4.24757155e-05, 4.65952567e-05, 5.11143348e-05, 5.60716994e-05,\n",
       "       6.15098579e-05, 6.74754405e-05, 7.40196000e-05, 8.11984499e-05,\n",
       "       8.90735464e-05, 9.77124154e-05, 1.07189132e-04, 1.17584955e-04,\n",
       "       1.28989026e-04, 1.41499130e-04, 1.55222536e-04, 1.70276917e-04,\n",
       "       1.86791360e-04, 2.04907469e-04, 2.24780583e-04, 2.46581108e-04,\n",
       "       2.70495973e-04, 2.96730241e-04, 3.25508860e-04, 3.57078596e-04,\n",
       "       3.91710149e-04, 4.29700470e-04, 4.71375313e-04, 5.17092024e-04,\n",
       "       5.67242607e-04, 6.22257084e-04, 6.82607183e-04, 7.48810386e-04,\n",
       "       8.21434358e-04, 9.01101825e-04, 9.88495905e-04, 1.08436597e-03,\n",
       "       1.18953407e-03, 1.30490198e-03, 1.43145894e-03, 1.57029012e-03,\n",
       "       1.72258597e-03, 1.88965234e-03, 2.07292178e-03, 2.27396575e-03,\n",
       "       2.49450814e-03, 2.73644000e-03, 3.00183581e-03, 3.29297126e-03,\n",
       "       3.61234270e-03, 3.96268864e-03, 4.34701316e-03, 4.76861170e-03,\n",
       "       5.23109931e-03, 5.73844165e-03, 6.29498899e-03, 6.90551352e-03,\n",
       "       7.57525026e-03, 8.30994195e-03, 9.11588830e-03, 1.00000000e-02])"
      ]
     },
     "execution_count": 53,
     "metadata": {},
     "output_type": "execute_result"
    }
   ],
   "source": [
    "from sklearn.linear_model import LassoCV\n",
    "\n",
    "#自己建立Lasso进行alpha选择的范围\n",
    "alpharange = np.logspace(-10,-2,200,base=10)\n",
    "#其实是形成10为底的指数函数\n",
    "#10**(-10)到10**(-2)次方\n",
    "\n",
    "alpharange"
   ]
  },
  {
   "cell_type": "code",
   "execution_count": 54,
   "metadata": {},
   "outputs": [
    {
     "data": {
      "text/plain": [
       "(200,)"
      ]
     },
     "execution_count": 54,
     "metadata": {},
     "output_type": "execute_result"
    }
   ],
   "source": [
    "alpharange.shape"
   ]
  },
  {
   "cell_type": "code",
   "execution_count": 55,
   "metadata": {},
   "outputs": [],
   "source": [
    "lasso_ = LassoCV(alphas=alpharange#自行输入的alpha取值范围\n",
    "                ,cv=5#交叉验证的折数\n",
    "                ).fit(Xtrain,Ytrain)"
   ]
  },
  {
   "cell_type": "code",
   "execution_count": 56,
   "metadata": {},
   "outputs": [
    {
     "data": {
      "text/plain": [
       "0.0020729217795953697"
      ]
     },
     "execution_count": 56,
     "metadata": {},
     "output_type": "execute_result"
    }
   ],
   "source": [
    "#查看被选择出来的最佳正则化系数\n",
    "lasso_.alpha_"
   ]
  },
  {
   "cell_type": "code",
   "execution_count": 57,
   "metadata": {},
   "outputs": [
    {
     "data": {
      "text/plain": [
       "array([[0.52454913, 0.49856261, 0.55984312, 0.50526576, 0.55262557],\n",
       "       [0.52361933, 0.49748809, 0.55887637, 0.50429373, 0.55283734],\n",
       "       [0.52281927, 0.49655113, 0.55803797, 0.5034594 , 0.55320522],\n",
       "       [0.52213811, 0.49574741, 0.55731858, 0.50274517, 0.55367515],\n",
       "       [0.52155715, 0.49505688, 0.55669995, 0.50213252, 0.55421553],\n",
       "       [0.52106069, 0.49446226, 0.55616707, 0.50160604, 0.55480104],\n",
       "       [0.5206358 , 0.49394903, 0.55570702, 0.50115266, 0.55541214],\n",
       "       [0.52027135, 0.49350539, 0.55530895, 0.50076146, 0.55603333],\n",
       "       [0.51995825, 0.49312085, 0.5549639 , 0.50042318, 0.55665306],\n",
       "       [0.5196886 , 0.49278705, 0.55466406, 0.50013007, 0.55726225],\n",
       "       [0.51945602, 0.49249647, 0.55440306, 0.49987554, 0.55785451],\n",
       "       [0.51925489, 0.49224316, 0.55417527, 0.49965404, 0.55842496],\n",
       "       [0.51908068, 0.49202169, 0.55397615, 0.49946088, 0.55897049],\n",
       "       [0.51892938, 0.49182782, 0.55380162, 0.49929206, 0.55948886],\n",
       "       [0.51879778, 0.49165759, 0.55364841, 0.49914421, 0.55997905],\n",
       "       [0.51868299, 0.49150788, 0.55351357, 0.49901446, 0.5604405 ],\n",
       "       [0.51858268, 0.49137604, 0.55339469, 0.49890035, 0.56087323],\n",
       "       [0.51849488, 0.49125956, 0.55328972, 0.4987998 , 0.56127784],\n",
       "       [0.5184178 , 0.49115652, 0.55319678, 0.49871101, 0.56165507],\n",
       "       [0.51835002, 0.49106526, 0.55311438, 0.49863248, 0.5620059 ],\n",
       "       [0.51829033, 0.49098418, 0.55304118, 0.49856287, 0.56233145],\n",
       "       [0.51823761, 0.49091208, 0.55297609, 0.49850108, 0.56263308],\n",
       "       [0.51819098, 0.49084785, 0.55291806, 0.49844612, 0.56291204],\n",
       "       [0.51814966, 0.49079058, 0.55286626, 0.49839716, 0.56316966],\n",
       "       [0.51811298, 0.49073937, 0.55281996, 0.49835348, 0.56340721],\n",
       "       [0.51808038, 0.49069355, 0.55277854, 0.49831445, 0.5636261 ],\n",
       "       [0.51805132, 0.49065249, 0.5527414 , 0.49827953, 0.56382754],\n",
       "       [0.5180254 , 0.49061566, 0.55270806, 0.49824828, 0.56401276],\n",
       "       [0.51800224, 0.49058258, 0.55267812, 0.49822015, 0.56418292],\n",
       "       [0.51798152, 0.49055285, 0.55265118, 0.49819493, 0.56433912],\n",
       "       [0.51796296, 0.49052608, 0.55262693, 0.49817225, 0.56448243],\n",
       "       [0.5179463 , 0.49050195, 0.55260507, 0.49815185, 0.56461379],\n",
       "       [0.51793135, 0.49048019, 0.55258536, 0.49813345, 0.5647342 ],\n",
       "       [0.51791791, 0.49046055, 0.55256757, 0.49811687, 0.56484448],\n",
       "       [0.5179058 , 0.49044281, 0.55255149, 0.4981019 , 0.56494544],\n",
       "       [0.5178949 , 0.49042677, 0.55253695, 0.49808838, 0.56503784],\n",
       "       [0.51788506, 0.49041226, 0.55252379, 0.49807615, 0.56512236],\n",
       "       [0.51787619, 0.49039913, 0.55251189, 0.4980651 , 0.56519967],\n",
       "       [0.51786817, 0.49038724, 0.5525011 , 0.49805509, 0.56527034],\n",
       "       [0.51786092, 0.49037646, 0.55249132, 0.49804603, 0.56533494],\n",
       "       [0.51785437, 0.49036669, 0.55248246, 0.49803782, 0.56539397],\n",
       "       [0.51784843, 0.49035783, 0.55247442, 0.49803037, 0.5654479 ],\n",
       "       [0.51784306, 0.49034979, 0.55246712, 0.49802362, 0.56549716],\n",
       "       [0.51783819, 0.49034249, 0.5524605 , 0.49801749, 0.56554215],\n",
       "       [0.51783377, 0.49033586, 0.55245448, 0.49801193, 0.56558322],\n",
       "       [0.51782977, 0.49032984, 0.55244901, 0.49800688, 0.56562073],\n",
       "       [0.51782614, 0.49032437, 0.55244405, 0.49800229, 0.56565496],\n",
       "       [0.51782284, 0.49031939, 0.55243953, 0.49799812, 0.56568621],\n",
       "       [0.51781984, 0.49031487, 0.55243543, 0.49799434, 0.56571472],\n",
       "       [0.51781712, 0.49031076, 0.55243169, 0.49799089, 0.56574074],\n",
       "       [0.51781465, 0.49030702, 0.5524283 , 0.49798776, 0.56576449],\n",
       "       [0.5178124 , 0.49030362, 0.55242521, 0.49798491, 0.56578615],\n",
       "       [0.51781036, 0.49030052, 0.5524224 , 0.49798232, 0.56580591],\n",
       "       [0.5178085 , 0.4902977 , 0.55241984, 0.49797996, 0.56582394],\n",
       "       [0.51780681, 0.49029514, 0.55241751, 0.49797781, 0.56584039],\n",
       "       [0.51780528, 0.4902928 , 0.55241539, 0.49797586, 0.56585539],\n",
       "       [0.51780388, 0.49029068, 0.55241346, 0.49797408, 0.56586907],\n",
       "       [0.51780261, 0.49028874, 0.55241171, 0.49797246, 0.56588155],\n",
       "       [0.51780145, 0.49028698, 0.55241011, 0.49797099, 0.56589293],\n",
       "       [0.51780039, 0.49028538, 0.55240865, 0.49796965, 0.56590331],\n",
       "       [0.51779943, 0.49028392, 0.55240732, 0.49796843, 0.56591277],\n",
       "       [0.51779856, 0.49028258, 0.55240611, 0.49796731, 0.5659214 ],\n",
       "       [0.51779777, 0.49028137, 0.55240501, 0.4979663 , 0.56592927],\n",
       "       [0.51779704, 0.49028027, 0.55240401, 0.49796538, 0.56593645],\n",
       "       [0.51779638, 0.49027926, 0.5524031 , 0.49796454, 0.56594299],\n",
       "       [0.51779578, 0.49027834, 0.55240226, 0.49796377, 0.56594896],\n",
       "       [0.51779523, 0.49027751, 0.55240151, 0.49796307, 0.5659544 ],\n",
       "       [0.51779473, 0.49027675, 0.55240081, 0.49796243, 0.56595936],\n",
       "       [0.51779428, 0.49027605, 0.55240018, 0.49796185, 0.56596388],\n",
       "       [0.51779386, 0.49027542, 0.55239961, 0.49796133, 0.565968  ],\n",
       "       [0.51779349, 0.49027485, 0.55239909, 0.49796085, 0.56597176],\n",
       "       [0.51779314, 0.49027432, 0.55239861, 0.49796041, 0.56597519],\n",
       "       [0.51779283, 0.49027384, 0.55239818, 0.49796001, 0.56597831],\n",
       "       [0.51779254, 0.49027341, 0.55239778, 0.49795964, 0.56598116],\n",
       "       [0.51779228, 0.49027301, 0.55239742, 0.49795931, 0.56598376],\n",
       "       [0.51779205, 0.49027265, 0.55239709, 0.49795901, 0.56598613],\n",
       "       [0.51779183, 0.49027232, 0.55239679, 0.49795873, 0.56598828],\n",
       "       [0.51779163, 0.49027202, 0.55239652, 0.49795848, 0.56599025],\n",
       "       [0.51779146, 0.49027174, 0.55239627, 0.49795825, 0.56599205],\n",
       "       [0.51779129, 0.49027149, 0.55239604, 0.49795804, 0.56599368],\n",
       "       [0.51779114, 0.49027127, 0.55239584, 0.49795785, 0.56599517],\n",
       "       [0.51779101, 0.49027106, 0.55239565, 0.49795768, 0.56599653],\n",
       "       [0.51779088, 0.49027087, 0.55239548, 0.49795752, 0.56599777],\n",
       "       [0.51779077, 0.4902707 , 0.55239532, 0.49795738, 0.5659989 ],\n",
       "       [0.51779067, 0.49027054, 0.55239518, 0.49795725, 0.56599993],\n",
       "       [0.51779057, 0.4902704 , 0.55239505, 0.49795713, 0.56600087],\n",
       "       [0.51779049, 0.49027027, 0.55239493, 0.49795702, 0.56600172],\n",
       "       [0.51779041, 0.49027015, 0.55239482, 0.49795692, 0.5660025 ],\n",
       "       [0.51779034, 0.49027004, 0.55239472, 0.49795683, 0.56600322],\n",
       "       [0.51779027, 0.49026994, 0.55239463, 0.49795675, 0.56600386],\n",
       "       [0.51779022, 0.49026985, 0.55239455, 0.49795667, 0.56600446],\n",
       "       [0.51779016, 0.49026977, 0.55239448, 0.4979566 , 0.56600499],\n",
       "       [0.51779011, 0.49026969, 0.55239441, 0.49795654, 0.56600549],\n",
       "       [0.51779007, 0.49026962, 0.55239435, 0.49795648, 0.56600593],\n",
       "       [0.51779003, 0.49026956, 0.55239429, 0.49795643, 0.56600634],\n",
       "       [0.51778999, 0.49026951, 0.55239424, 0.49795638, 0.56600671],\n",
       "       [0.51778996, 0.49026945, 0.55239419, 0.49795634, 0.56600705],\n",
       "       [0.51778993, 0.49026941, 0.55239415, 0.4979563 , 0.56600736],\n",
       "       [0.5177899 , 0.49026936, 0.55239411, 0.49795626, 0.56600764],\n",
       "       [0.51778987, 0.49026932, 0.55239407, 0.49795623, 0.5660079 ],\n",
       "       [0.51778985, 0.49026929, 0.55239404, 0.4979562 , 0.56600813],\n",
       "       [0.51778983, 0.49026926, 0.55239401, 0.49795617, 0.56600835],\n",
       "       [0.51778981, 0.49026923, 0.55239398, 0.49795615, 0.56600854],\n",
       "       [0.51778979, 0.4902692 , 0.55239396, 0.49795613, 0.56600872],\n",
       "       [0.51778977, 0.49026918, 0.55239394, 0.49795611, 0.56600888],\n",
       "       [0.51778976, 0.49026915, 0.55239392, 0.49795609, 0.56600903],\n",
       "       [0.51778975, 0.49026913, 0.5523939 , 0.49795607, 0.56600916],\n",
       "       [0.51778973, 0.49026911, 0.55239388, 0.49795605, 0.56600929],\n",
       "       [0.51778972, 0.4902691 , 0.55239387, 0.49795604, 0.5660094 ],\n",
       "       [0.51778971, 0.49026908, 0.55239385, 0.49795603, 0.5660095 ],\n",
       "       [0.5177897 , 0.49026907, 0.55239384, 0.49795602, 0.56600959],\n",
       "       [0.5177897 , 0.49026905, 0.55239383, 0.49795601, 0.56600968],\n",
       "       [0.51778969, 0.49026904, 0.55239382, 0.497956  , 0.56600975],\n",
       "       [0.51778968, 0.49026903, 0.55239381, 0.49795599, 0.56600983],\n",
       "       [0.51778967, 0.49026902, 0.5523938 , 0.49795598, 0.56600989],\n",
       "       [0.51778967, 0.49026901, 0.55239379, 0.49795597, 0.56600995],\n",
       "       [0.51778966, 0.490269  , 0.55239378, 0.49795596, 0.56601   ],\n",
       "       [0.51778966, 0.490269  , 0.55239378, 0.49795596, 0.56601005],\n",
       "       [0.51778965, 0.49026899, 0.55239377, 0.49795595, 0.56601009],\n",
       "       [0.51778965, 0.49026898, 0.55239376, 0.49795595, 0.56601013],\n",
       "       [0.51778965, 0.49026898, 0.55239376, 0.49795594, 0.56601017],\n",
       "       [0.51778964, 0.49026897, 0.55239375, 0.49795594, 0.5660102 ],\n",
       "       [0.51778964, 0.49026897, 0.55239375, 0.49795593, 0.56601023],\n",
       "       [0.51778964, 0.49026896, 0.55239375, 0.49795593, 0.56601026],\n",
       "       [0.51778963, 0.49026896, 0.55239374, 0.49795593, 0.56601029],\n",
       "       [0.51778963, 0.49026896, 0.55239374, 0.49795592, 0.56601031],\n",
       "       [0.51778963, 0.49026895, 0.55239374, 0.49795592, 0.56601033],\n",
       "       [0.51778963, 0.49026895, 0.55239373, 0.49795592, 0.56601035],\n",
       "       [0.51778963, 0.49026895, 0.55239373, 0.49795592, 0.56601037],\n",
       "       [0.51778962, 0.49026895, 0.55239373, 0.49795591, 0.56601039],\n",
       "       [0.51778962, 0.49026894, 0.55239373, 0.49795591, 0.5660104 ],\n",
       "       [0.51778962, 0.49026894, 0.55239372, 0.49795591, 0.56601041],\n",
       "       [0.51778962, 0.49026894, 0.55239372, 0.49795591, 0.56601043],\n",
       "       [0.51778962, 0.49026894, 0.55239372, 0.49795591, 0.56601044],\n",
       "       [0.51778962, 0.49026894, 0.55239372, 0.49795591, 0.56601045],\n",
       "       [0.51778962, 0.49026894, 0.55239372, 0.49795591, 0.56601046],\n",
       "       [0.51778962, 0.49026893, 0.55239372, 0.4979559 , 0.56601046],\n",
       "       [0.51778962, 0.49026893, 0.55239372, 0.4979559 , 0.56601047],\n",
       "       [0.51778962, 0.49026893, 0.55239372, 0.4979559 , 0.56601048],\n",
       "       [0.51778961, 0.49026893, 0.55239371, 0.4979559 , 0.56601048],\n",
       "       [0.51778961, 0.49026893, 0.55239371, 0.4979559 , 0.56601049],\n",
       "       [0.51778961, 0.49026893, 0.55239371, 0.4979559 , 0.5660105 ],\n",
       "       [0.51778961, 0.49026893, 0.55239371, 0.4979559 , 0.5660105 ],\n",
       "       [0.51778961, 0.49026893, 0.55239371, 0.4979559 , 0.5660105 ],\n",
       "       [0.51778961, 0.49026893, 0.55239371, 0.4979559 , 0.56601051],\n",
       "       [0.51778961, 0.49026893, 0.55239371, 0.4979559 , 0.56601051],\n",
       "       [0.51778961, 0.49026893, 0.55239371, 0.4979559 , 0.56601052],\n",
       "       [0.51778961, 0.49026893, 0.55239371, 0.4979559 , 0.56601052],\n",
       "       [0.51778961, 0.49026893, 0.55239371, 0.4979559 , 0.56601052],\n",
       "       [0.51778961, 0.49026892, 0.55239371, 0.4979559 , 0.56601052],\n",
       "       [0.51778961, 0.49026892, 0.55239371, 0.4979559 , 0.56601053],\n",
       "       [0.51778961, 0.49026892, 0.55239371, 0.4979559 , 0.56601053],\n",
       "       [0.51778961, 0.49026892, 0.55239371, 0.4979559 , 0.56601053],\n",
       "       [0.51778961, 0.49026892, 0.55239371, 0.4979559 , 0.56601053],\n",
       "       [0.51778961, 0.49026892, 0.55239371, 0.4979559 , 0.56601053],\n",
       "       [0.51778961, 0.49026892, 0.55239371, 0.4979559 , 0.56601054],\n",
       "       [0.51778961, 0.49026892, 0.55239371, 0.4979559 , 0.56601054],\n",
       "       [0.51778961, 0.49026892, 0.55239371, 0.4979559 , 0.56601054],\n",
       "       [0.51778961, 0.49026892, 0.55239371, 0.4979559 , 0.56601054],\n",
       "       [0.51778961, 0.49026892, 0.55239371, 0.4979559 , 0.56601054],\n",
       "       [0.51778961, 0.49026892, 0.55239371, 0.4979559 , 0.56601054],\n",
       "       [0.51778961, 0.49026892, 0.55239371, 0.4979559 , 0.56601054],\n",
       "       [0.51778961, 0.49026892, 0.55239371, 0.49795589, 0.56601054],\n",
       "       [0.51778961, 0.49026892, 0.55239371, 0.49795589, 0.56601054],\n",
       "       [0.51778961, 0.49026892, 0.55239371, 0.49795589, 0.56601054],\n",
       "       [0.51778961, 0.49026892, 0.55239371, 0.49795589, 0.56601054],\n",
       "       [0.51778961, 0.49026892, 0.55239371, 0.49795589, 0.56601054],\n",
       "       [0.51778961, 0.49026892, 0.55239371, 0.49795589, 0.56601055],\n",
       "       [0.51778961, 0.49026892, 0.55239371, 0.49795589, 0.56601055],\n",
       "       [0.51778961, 0.49026892, 0.55239371, 0.49795589, 0.56601055],\n",
       "       [0.51778961, 0.49026892, 0.55239371, 0.49795589, 0.56601055],\n",
       "       [0.51778961, 0.49026892, 0.55239371, 0.49795589, 0.56601055],\n",
       "       [0.51778961, 0.49026892, 0.55239371, 0.49795589, 0.56601055],\n",
       "       [0.51778961, 0.49026892, 0.55239371, 0.49795589, 0.56601055],\n",
       "       [0.51778961, 0.49026892, 0.55239371, 0.49795589, 0.56601055],\n",
       "       [0.51778961, 0.49026892, 0.55239371, 0.49795589, 0.56601055],\n",
       "       [0.51778961, 0.49026892, 0.55239371, 0.49795589, 0.56601055],\n",
       "       [0.51778961, 0.49026892, 0.55239371, 0.49795589, 0.56601055],\n",
       "       [0.51778961, 0.49026892, 0.55239371, 0.49795589, 0.56601055],\n",
       "       [0.51778961, 0.49026892, 0.55239371, 0.49795589, 0.56601055],\n",
       "       [0.51778961, 0.49026892, 0.55239371, 0.49795589, 0.56601055],\n",
       "       [0.51778961, 0.49026892, 0.55239371, 0.49795589, 0.56601055],\n",
       "       [0.51778961, 0.49026892, 0.55239371, 0.49795589, 0.56601055],\n",
       "       [0.51778961, 0.49026892, 0.55239371, 0.49795589, 0.56601055],\n",
       "       [0.51778961, 0.49026892, 0.55239371, 0.49795589, 0.56601055],\n",
       "       [0.51778961, 0.49026892, 0.55239371, 0.49795589, 0.56601055],\n",
       "       [0.51778961, 0.49026892, 0.55239371, 0.49795589, 0.56601055],\n",
       "       [0.51778961, 0.49026892, 0.55239371, 0.49795589, 0.56601055],\n",
       "       [0.51778961, 0.49026892, 0.55239371, 0.49795589, 0.56601055],\n",
       "       [0.51778961, 0.49026892, 0.55239371, 0.49795589, 0.56601055],\n",
       "       [0.51778961, 0.49026892, 0.55239371, 0.49795589, 0.56601055],\n",
       "       [0.51778961, 0.49026892, 0.55239371, 0.49795589, 0.56601055],\n",
       "       [0.51778961, 0.49026892, 0.55239371, 0.49795589, 0.56601055],\n",
       "       [0.51778961, 0.49026892, 0.55239371, 0.49795589, 0.56601055],\n",
       "       [0.51778961, 0.49026892, 0.55239371, 0.49795589, 0.56601055],\n",
       "       [0.51778961, 0.49026892, 0.55239371, 0.49795589, 0.56601055],\n",
       "       [0.51778961, 0.49026892, 0.55239371, 0.49795589, 0.56601055],\n",
       "       [0.51778961, 0.49026892, 0.55239371, 0.49795589, 0.56601055],\n",
       "       [0.51778961, 0.49026892, 0.55239371, 0.49795589, 0.56601055],\n",
       "       [0.51778961, 0.49026892, 0.55239371, 0.49795589, 0.56601055]])"
      ]
     },
     "execution_count": 57,
     "metadata": {},
     "output_type": "execute_result"
    }
   ],
   "source": [
    "#调用所有交叉验证结果\n",
    "lasso_.mse_path_  #均方误差 "
   ]
  },
  {
   "cell_type": "code",
   "execution_count": 58,
   "metadata": {},
   "outputs": [
    {
     "data": {
      "text/plain": [
       "(200, 5)"
      ]
     },
     "execution_count": 58,
     "metadata": {},
     "output_type": "execute_result"
    }
   ],
   "source": [
    "#返回每个alpha下的五折交叉验证结果\n",
    "lasso_.mse_path_.shape"
   ]
  },
  {
   "cell_type": "code",
   "execution_count": 59,
   "metadata": {},
   "outputs": [
    {
     "data": {
      "text/plain": [
       "array([0.52816924, 0.52742297, 0.5268146 , 0.52632488, 0.52593241,\n",
       "       0.52561942, 0.52537133, 0.5251761 , 0.52502385, 0.52490641,\n",
       "       0.52481712, 0.52475046, 0.52470198, 0.52466795, 0.52464541,\n",
       "       0.52463188, 0.5246254 , 0.52462436, 0.52462744, 0.52463361,\n",
       "       0.52464201, 0.52465199, 0.52466301, 0.52467466, 0.5246866 ,\n",
       "       0.5246986 , 0.52471046, 0.52472203, 0.5247332 , 0.52474392,\n",
       "       0.52475413, 0.52476379, 0.52477291, 0.52478147, 0.52478949,\n",
       "       0.52479697, 0.52480393, 0.52481039, 0.52481639, 0.52482193,\n",
       "       0.52482706, 0.52483179, 0.52483615, 0.52484016, 0.52484385,\n",
       "       0.52484725, 0.52485036, 0.52485322, 0.52485584, 0.52485824,\n",
       "       0.52486044, 0.52486246, 0.5248643 , 0.52486599, 0.52486753,\n",
       "       0.52486895, 0.52487024, 0.52487141, 0.52487249, 0.52487348,\n",
       "       0.52487437, 0.52487519, 0.52487594, 0.52487663, 0.52487725,\n",
       "       0.52487782, 0.52487834, 0.52487882, 0.52487925, 0.52487965,\n",
       "       0.52488001, 0.52488033, 0.52488063, 0.52488091, 0.52488116,\n",
       "       0.52488138, 0.52488159, 0.52488178, 0.52488195, 0.52488211,\n",
       "       0.52488225, 0.52488239, 0.5248825 , 0.52488261, 0.52488271,\n",
       "       0.5248828 , 0.52488289, 0.52488296, 0.52488303, 0.52488309,\n",
       "       0.52488315, 0.5248832 , 0.52488325, 0.52488329, 0.52488333,\n",
       "       0.52488337, 0.5248834 , 0.52488343, 0.52488346, 0.52488348,\n",
       "       0.5248835 , 0.52488352, 0.52488354, 0.52488356, 0.52488357,\n",
       "       0.52488359, 0.5248836 , 0.52488361, 0.52488362, 0.52488363,\n",
       "       0.52488364, 0.52488365, 0.52488366, 0.52488367, 0.52488367,\n",
       "       0.52488368, 0.52488368, 0.52488369, 0.52488369, 0.5248837 ,\n",
       "       0.5248837 , 0.5248837 , 0.52488371, 0.52488371, 0.52488371,\n",
       "       0.52488371, 0.52488371, 0.52488372, 0.52488372, 0.52488372,\n",
       "       0.52488372, 0.52488372, 0.52488372, 0.52488372, 0.52488373,\n",
       "       0.52488373, 0.52488373, 0.52488373, 0.52488373, 0.52488373,\n",
       "       0.52488373, 0.52488373, 0.52488373, 0.52488373, 0.52488373,\n",
       "       0.52488373, 0.52488373, 0.52488373, 0.52488373, 0.52488373,\n",
       "       0.52488373, 0.52488373, 0.52488373, 0.52488373, 0.52488373,\n",
       "       0.52488373, 0.52488373, 0.52488373, 0.52488373, 0.52488373,\n",
       "       0.52488373, 0.52488373, 0.52488374, 0.52488374, 0.52488374,\n",
       "       0.52488374, 0.52488374, 0.52488374, 0.52488374, 0.52488374,\n",
       "       0.52488374, 0.52488374, 0.52488374, 0.52488374, 0.52488374,\n",
       "       0.52488374, 0.52488374, 0.52488374, 0.52488374, 0.52488374,\n",
       "       0.52488374, 0.52488374, 0.52488374, 0.52488374, 0.52488374,\n",
       "       0.52488374, 0.52488374, 0.52488374, 0.52488374, 0.52488374,\n",
       "       0.52488374, 0.52488374, 0.52488374, 0.52488374, 0.52488374,\n",
       "       0.52488374, 0.52488374, 0.52488374, 0.52488374, 0.52488374])"
      ]
     },
     "execution_count": 59,
     "metadata": {},
     "output_type": "execute_result"
    }
   ],
   "source": [
    "lasso_.mse_path_.mean(axis=1)#有注意到在岭回归中我们的轴向是axis=0\n",
    "\n",
    "#在岭回归当中，我们是留一验证，因此我们的交叉验证结果返回的是，每一个样本在每个alpha下的交叉验证结果\n",
    "#因此我们要求每个alpha下的交叉验证均值，就是axis=0，跨行求均值\n",
    "#而在这里，我们返回的是，每一个alpha取值下，每一折交叉验证的结果\n",
    "#因此我们要求每个alpha下的交叉验证均值，就是axis=1，跨列求均值"
   ]
  },
  {
   "cell_type": "code",
   "execution_count": 60,
   "metadata": {},
   "outputs": [
    {
     "data": {
      "text/plain": [
       "array([ 4.29867301e-01,  1.03623683e-02, -9.32648616e-02,  5.51755252e-01,\n",
       "        1.14732262e-06, -3.31941716e-03, -4.10451223e-01, -4.22410330e-01])"
      ]
     },
     "execution_count": 60,
     "metadata": {},
     "output_type": "execute_result"
    }
   ],
   "source": [
    "#最佳正则化系数下获得的模型的系数结果\n",
    "lasso_.coef_ #每一个特征对应的系数 共8个特征"
   ]
  },
  {
   "cell_type": "code",
   "execution_count": 61,
   "metadata": {},
   "outputs": [
    {
     "data": {
      "text/plain": [
       "0.6038982670571436"
      ]
     },
     "execution_count": 61,
     "metadata": {},
     "output_type": "execute_result"
    }
   ],
   "source": [
    "lasso_.score(Xtest,Ytest)"
   ]
  },
  {
   "cell_type": "code",
   "execution_count": 62,
   "metadata": {},
   "outputs": [
    {
     "data": {
      "text/plain": [
       "0.6043668160178817"
      ]
     },
     "execution_count": 62,
     "metadata": {},
     "output_type": "execute_result"
    }
   ],
   "source": [
    "#与线性回归相比\n",
    "reg = LinearRegression().fit(Xtrain,Ytrain)\n",
    "reg.score(Xtest,Ytest)"
   ]
  },
  {
   "cell_type": "code",
   "execution_count": 63,
   "metadata": {},
   "outputs": [],
   "source": [
    "#使用LassoCV自带的正则化路径长度和路径中的alpha个数来自动建立alpha选择的范围\n",
    "ls_ = LassoCV(eps=0.00001\n",
    "             ,n_alphas=300 #取出300个alpha取值\n",
    "             ,cv=5\n",
    "            ).fit(Xtrain, Ytrain)"
   ]
  },
  {
   "cell_type": "code",
   "execution_count": 64,
   "metadata": {},
   "outputs": [
    {
     "data": {
      "text/plain": [
       "0.0020954551690628535"
      ]
     },
     "execution_count": 64,
     "metadata": {},
     "output_type": "execute_result"
    }
   ],
   "source": [
    "ls_.alpha_#最佳alpha参数"
   ]
  },
  {
   "cell_type": "code",
   "execution_count": 65,
   "metadata": {},
   "outputs": [
    {
     "data": {
      "text/plain": [
       "array([2.94059737e+01, 2.82952253e+01, 2.72264331e+01, 2.61980122e+01,\n",
       "       2.52084378e+01, 2.42562424e+01, 2.33400142e+01, 2.24583946e+01,\n",
       "       2.16100763e+01, 2.07938014e+01, 2.00083596e+01, 1.92525862e+01,\n",
       "       1.85253605e+01, 1.78256042e+01, 1.71522798e+01, 1.65043887e+01,\n",
       "       1.58809704e+01, 1.52811004e+01, 1.47038891e+01, 1.41484809e+01,\n",
       "       1.36140520e+01, 1.30998100e+01, 1.26049924e+01, 1.21288655e+01,\n",
       "       1.16707233e+01, 1.12298864e+01, 1.08057012e+01, 1.03975388e+01,\n",
       "       1.00047937e+01, 9.62688384e+00, 9.26324869e+00, 8.91334908e+00,\n",
       "       8.57666619e+00, 8.25270079e+00, 7.94097249e+00, 7.64101907e+00,\n",
       "       7.35239575e+00, 7.07467457e+00, 6.80744372e+00, 6.55030695e+00,\n",
       "       6.30288297e+00, 6.06480491e+00, 5.83571975e+00, 5.61528779e+00,\n",
       "       5.40318218e+00, 5.19908842e+00, 5.00270386e+00, 4.81373731e+00,\n",
       "       4.63190858e+00, 4.45694804e+00, 4.28859627e+00, 4.12660362e+00,\n",
       "       3.97072991e+00, 3.82074399e+00, 3.67642348e+00, 3.53755437e+00,\n",
       "       3.40393074e+00, 3.27535446e+00, 3.15163488e+00, 3.03258855e+00,\n",
       "       2.91803894e+00, 2.80781620e+00, 2.70175688e+00, 2.59970374e+00,\n",
       "       2.50150543e+00, 2.40701636e+00, 2.31609642e+00, 2.22861078e+00,\n",
       "       2.14442973e+00, 2.06342843e+00, 1.98548679e+00, 1.91048923e+00,\n",
       "       1.83832455e+00, 1.76888573e+00, 1.70206982e+00, 1.63777773e+00,\n",
       "       1.57591415e+00, 1.51638733e+00, 1.45910901e+00, 1.40399425e+00,\n",
       "       1.35096134e+00, 1.29993164e+00, 1.25082947e+00, 1.20358204e+00,\n",
       "       1.15811928e+00, 1.11437377e+00, 1.07228066e+00, 1.03177753e+00,\n",
       "       9.92804320e-01, 9.55303239e-01, 9.19218682e-01, 8.84497142e-01,\n",
       "       8.51087135e-01, 8.18939121e-01, 7.88005430e-01, 7.58240193e-01,\n",
       "       7.29599275e-01, 7.02040207e-01, 6.75522125e-01, 6.50005707e-01,\n",
       "       6.25453118e-01, 6.01827951e-01, 5.79095174e-01, 5.57221080e-01,\n",
       "       5.36173234e-01, 5.15920425e-01, 4.96432623e-01, 4.77680932e-01,\n",
       "       4.59637546e-01, 4.42275711e-01, 4.25569683e-01, 4.09494689e-01,\n",
       "       3.94026894e-01, 3.79143363e-01, 3.64822025e-01, 3.51041645e-01,\n",
       "       3.37781790e-01, 3.25022798e-01, 3.12745750e-01, 3.00932442e-01,\n",
       "       2.89565356e-01, 2.78627638e-01, 2.68103069e-01, 2.57976043e-01,\n",
       "       2.48231544e-01, 2.38855123e-01, 2.29832877e-01, 2.21151426e-01,\n",
       "       2.12797900e-01, 2.04759910e-01, 1.97025538e-01, 1.89583315e-01,\n",
       "       1.82422207e-01, 1.75531594e-01, 1.68901260e-01, 1.62521372e-01,\n",
       "       1.56382472e-01, 1.50475455e-01, 1.44791563e-01, 1.39322368e-01,\n",
       "       1.34059761e-01, 1.28995937e-01, 1.24123389e-01, 1.19434891e-01,\n",
       "       1.14923491e-01, 1.10582499e-01, 1.06405479e-01, 1.02386238e-01,\n",
       "       9.85188143e-02, 9.47974747e-02, 9.12167008e-02, 8.77711831e-02,\n",
       "       8.44558125e-02, 8.12656730e-02, 7.81960343e-02, 7.52423447e-02,\n",
       "       7.24002244e-02, 6.96654592e-02, 6.70339940e-02, 6.45019268e-02,\n",
       "       6.20655031e-02, 5.97211101e-02, 5.74652717e-02, 5.52946427e-02,\n",
       "       5.32060046e-02, 5.11962605e-02, 4.92624301e-02, 4.74016461e-02,\n",
       "       4.56111493e-02, 4.38882847e-02, 4.22304977e-02, 4.06353301e-02,\n",
       "       3.91004165e-02, 3.76234811e-02, 3.62023337e-02, 3.48348672e-02,\n",
       "       3.35190539e-02, 3.22529426e-02, 3.10346560e-02, 2.98623876e-02,\n",
       "       2.87343991e-02, 2.76490180e-02, 2.66046349e-02, 2.55997012e-02,\n",
       "       2.46327267e-02, 2.37022776e-02, 2.28069742e-02, 2.19454891e-02,\n",
       "       2.11165447e-02, 2.03189119e-02, 1.95514080e-02, 1.88128950e-02,\n",
       "       1.81022777e-02, 1.74185025e-02, 1.67605555e-02, 1.61274610e-02,\n",
       "       1.55182803e-02, 1.49321101e-02, 1.43680812e-02, 1.38253574e-02,\n",
       "       1.33031338e-02, 1.28006361e-02, 1.23171192e-02, 1.18518661e-02,\n",
       "       1.14041869e-02, 1.09734179e-02, 1.05589203e-02, 1.01600794e-02,\n",
       "       9.77630394e-03, 9.40702475e-03, 9.05169431e-03, 8.70978573e-03,\n",
       "       8.38079201e-03, 8.06422534e-03, 7.75961630e-03, 7.46651323e-03,\n",
       "       7.18448150e-03, 6.91310292e-03, 6.65197510e-03, 6.40071082e-03,\n",
       "       6.15893752e-03, 5.92629670e-03, 5.70244339e-03, 5.48704566e-03,\n",
       "       5.27978413e-03, 5.08035147e-03, 4.88845195e-03, 4.70380102e-03,\n",
       "       4.52612490e-03, 4.35516012e-03, 4.19065316e-03, 4.03236011e-03,\n",
       "       3.88004625e-03, 3.73348572e-03, 3.59246120e-03, 3.45676358e-03,\n",
       "       3.32619166e-03, 3.20055181e-03, 3.07965774e-03, 2.96333019e-03,\n",
       "       2.85139667e-03, 2.74369120e-03, 2.64005407e-03, 2.54033162e-03,\n",
       "       2.44437597e-03, 2.35204484e-03, 2.26320133e-03, 2.17771369e-03,\n",
       "       2.09545517e-03, 2.01630379e-03, 1.94014218e-03, 1.86685742e-03,\n",
       "       1.79634083e-03, 1.72848786e-03, 1.66319789e-03, 1.60037411e-03,\n",
       "       1.53992337e-03, 1.48175602e-03, 1.42578583e-03, 1.37192979e-03,\n",
       "       1.32010804e-03, 1.27024376e-03, 1.22226299e-03, 1.17609459e-03,\n",
       "       1.13167011e-03, 1.08892367e-03, 1.04779188e-03, 1.00821376e-03,\n",
       "       9.70130622e-04, 9.33485992e-04, 8.98225535e-04, 8.64296967e-04,\n",
       "       8.31649980e-04, 8.00236162e-04, 7.70008936e-04, 7.40923479e-04,\n",
       "       7.12936663e-04, 6.86006990e-04, 6.60094529e-04, 6.35160855e-04,\n",
       "       6.11168999e-04, 5.88083384e-04, 5.65869780e-04, 5.44495247e-04,\n",
       "       5.23928092e-04, 5.04137817e-04, 4.85095079e-04, 4.66771639e-04,\n",
       "       4.49140329e-04, 4.32175004e-04, 4.15850508e-04, 4.00142636e-04,\n",
       "       3.85028095e-04, 3.70484474e-04, 3.56490207e-04, 3.43024545e-04,\n",
       "       3.30067519e-04, 3.17599917e-04, 3.05603253e-04, 2.94059737e-04])"
      ]
     },
     "execution_count": 65,
     "metadata": {},
     "output_type": "execute_result"
    }
   ],
   "source": [
    "ls_.alphas_ #查看所有自动生成的alpha取值 共300个"
   ]
  },
  {
   "cell_type": "code",
   "execution_count": 66,
   "metadata": {},
   "outputs": [
    {
     "data": {
      "text/plain": [
       "0.6038915423819201"
      ]
     },
     "execution_count": 66,
     "metadata": {},
     "output_type": "execute_result"
    }
   ],
   "source": [
    "ls_.score(Xtest,Ytest)"
   ]
  },
  {
   "cell_type": "code",
   "execution_count": 67,
   "metadata": {},
   "outputs": [
    {
     "data": {
      "text/plain": [
       "array([ 4.29785372e-01,  1.03639989e-02, -9.31060823e-02,  5.50940621e-01,\n",
       "        1.15407943e-06, -3.31909776e-03, -4.10423420e-01, -4.22369926e-01])"
      ]
     },
     "execution_count": 67,
     "metadata": {},
     "output_type": "execute_result"
    }
   ],
   "source": [
    "ls_.coef_#每个特征下对应的系数"
   ]
  },
  {
   "cell_type": "markdown",
   "metadata": {},
   "source": [
    "### 对于回归问题，数据若能分布为一条直线，则是线性的，否则是非线性的。对于分类问题，数据分布若能使用一条直线来划分类别，则是线性可分的，否则数据则是线性不可分的"
   ]
  },
  {
   "cell_type": "markdown",
   "metadata": {},
   "source": [
    "![Title](1581586871(1).jpg)"
   ]
  },
  {
   "cell_type": "code",
   "execution_count": 68,
   "metadata": {},
   "outputs": [],
   "source": [
    "'''观察线性回归在非线性数据上的表现'''\n",
    "import numpy as np\n",
    "import pandas as pd\n",
    "import matplotlib.pyplot as plt\n",
    "from sklearn.linear_model import LinearRegression #线性回归\n",
    "from sklearn.tree import DecisionTreeRegressor #决策树回归"
   ]
  },
  {
   "cell_type": "code",
   "execution_count": 69,
   "metadata": {},
   "outputs": [
    {
     "data": {
      "image/png": "[encoded data removed]",
      "text/plain": [
       "<Figure size 432x288 with 1 Axes>"
      ]
     },
     "metadata": {
      "needs_background": "light"
     },
     "output_type": "display_data"
    }
   ],
   "source": [
    "rnd = np.random.RandomState(42) #设置随机数种子\n",
    "X = rnd.uniform(-3,3,size=100) #random.uniform 从输入的任意两个整数中取出size个随机数\n",
    "\n",
    "#生成y的思路：先使用NumPy中的函数生成一个sin函数图像，然后再人为添加噪音\n",
    "y = np.sin(X) + rnd.normal(size=len(X)) / 3 #random.normal生成size个服从正态分布的随机数\n",
    "\n",
    "#使用散点图观察建立的数据集是什么样子\n",
    "plt.scatter(X, y,marker='o',c='k',s=20)\n",
    "plt.show()"
   ]
  },
  {
   "cell_type": "code",
   "execution_count": 70,
   "metadata": {},
   "outputs": [
    {
     "data": {
      "text/plain": [
       "(100,)"
      ]
     },
     "execution_count": 70,
     "metadata": {},
     "output_type": "execute_result"
    }
   ],
   "source": [
    "# 为后续建模做准备，sklearn只接受二维以上数组作为特征矩阵的输入\n",
    "X.shape"
   ]
  },
  {
   "cell_type": "code",
   "execution_count": 71,
   "metadata": {},
   "outputs": [
    {
     "data": {
      "text/plain": [
       "(100, 1)"
      ]
     },
     "execution_count": 71,
     "metadata": {},
     "output_type": "execute_result"
    }
   ],
   "source": [
    "X = X.reshape(-1,1)\n",
    "X.shape"
   ]
  },
  {
   "cell_type": "code",
   "execution_count": 72,
   "metadata": {},
   "outputs": [],
   "source": [
    "#使用原始数据进行建模\n",
    "LinearR = LinearRegression().fit(X,y)\n",
    "TreeR = DecisionTreeRegressor(random_state=0).fit(X,y)"
   ]
  },
  {
   "cell_type": "code",
   "execution_count": 73,
   "metadata": {},
   "outputs": [
    {
     "data": {
      "image/png": "[encoded data removed]",
      "text/plain": [
       "<Figure size 432x288 with 1 Axes>"
      ]
     },
     "metadata": {
      "needs_background": "light"
     },
     "output_type": "display_data"
    }
   ],
   "source": [
    "#放置画布\n",
    "fig,ax1 = plt.subplots(1)\n",
    "\n",
    "#创建测试数据，一系列分布在横坐标上的点\n",
    "line = np.linspace(-3,3,1000,endpoint=False).reshape(-1,1) #转换为二维形式\n",
    "\n",
    "#将测试数据带入predict接口，获得模型的拟合效果斌进行绘制\n",
    "ax1.plot(line, LinearR.predict(line), linewidth=2, color='green',label=\"linear regression\")\n",
    "ax1.plot(line, TreeR.predict(line), linewidth=2, color='red',label=\"decision tree\")\n",
    "\n",
    "#将原数据上的拟合绘制在图像上\n",
    "ax1.plot(X[:,0],y,'o',c='k')\n",
    "\n",
    "#其他图形选项\n",
    "ax1.legend(loc=\"best\")\n",
    "ax1.set_ylabel(\"Regression output\")\n",
    "ax1.set_xlabel(\"Input feature\")\n",
    "ax1.set_title(\"Result before discretization\")\n",
    "plt.tight_layout()\n",
    "plt.show()"
   ]
  },
  {
   "cell_type": "markdown",
   "metadata": {},
   "source": [
    "![Title](1581598027(1).jpg)"
   ]
  },
  {
   "cell_type": "markdown",
   "metadata": {},
   "source": [
    "## 注意 可使用分箱技术来提高模型效果 如上图的第四和第五个子图"
   ]
  },
  {
   "cell_type": "markdown",
   "metadata": {},
   "source": [
    "从上面的图中，我们可以观察出一个特性：线性模型们的决策边界都是一条条平行的直线，而非线性模型们的决策边界是交互的直线（格子），曲线，环形等等。对于分类模型来说，这是我们判断模型是线性还是非线性的重要评判因素：线性模型的决策边界是平行的直线，非线性模型的决策边界是曲线或者交叉的直线。之前我们提到，模型上如果自变量上的最高次方为1，则模型是线性的，但这种方式只适用于回归问题。分类模型中，我们很少讨论模型是否线性，因为我们很少使用线性模型来执行分类任务（逻辑回归是一个特例）。但从上面我们总结出的结果来看，我们可以认为对分类问题而言，如果一个分类模型的决策边界上自变量的最高次方为1，则我们称这个模型是线性模型。"
   ]
  },
  {
   "cell_type": "markdown",
   "metadata": {},
   "source": [
    "![Title](1581599157(1).jpg)"
   ]
  },
  {
   "cell_type": "markdown",
   "metadata": {},
   "source": [
    "![Title](1581600215(1).jpg)"
   ]
  },
  {
   "cell_type": "markdown",
   "metadata": {},
   "source": [
    "## 使用分箱处理非线性问题\n",
    "让线性回归在非线性数据上表现提升的核心方法之一是对数据进行分箱，也就是离散化。与线性回归相比，我们常用的一种回归是决策树的回归。我们之前拟合过一条带有噪音的正弦曲线以展示多元线性回归与决策树的效用差异，我们来分析一下这张图，然后再使用采取措施帮助我们的线性回归。"
   ]
  },
  {
   "cell_type": "markdown",
   "metadata": {},
   "source": [
    "##### 从之前的图像上可以看出，线性回归无法拟合出这条带噪音的正弦曲线的真实面貌，只能够模拟出大概的趋势，而决策树却通过建立复杂的模型将几乎每个点都拟合出来了。此时此刻，决策树正处于过拟合的状态，对数据的学习过于细致，而线性回归处于拟合不足的状态，这是由于模型本身只能够在线性关系间进行拟合的性质决定的。为了让线性回归在类似的数据上变得更加强大，我们可以使用分箱，也就是离散化连续型变量的方法来处理原始数据，以此来提升线性回归的表现。"
   ]
  },
  {
   "cell_type": "code",
   "execution_count": 74,
   "metadata": {},
   "outputs": [
    {
     "data": {
      "text/plain": [
       "array([[-0.75275929],\n",
       "       [ 2.70428584],\n",
       "       [ 1.39196365],\n",
       "       [ 0.59195091],\n",
       "       [-2.06388816],\n",
       "       [-2.06403288],\n",
       "       [-2.65149833],\n",
       "       [ 2.19705687],\n",
       "       [ 0.60669007],\n",
       "       [ 1.24843547],\n",
       "       [-2.87649303],\n",
       "       [ 2.81945911],\n",
       "       [ 1.99465584],\n",
       "       [-1.72596534],\n",
       "       [-1.9090502 ],\n",
       "       [-1.89957294],\n",
       "       [-1.17454654],\n",
       "       [ 0.14853859],\n",
       "       [-0.40832989],\n",
       "       [-1.25262516],\n",
       "       [ 0.67111737],\n",
       "       [-2.16303684],\n",
       "       [-1.24713211],\n",
       "       [-0.80182894],\n",
       "       [-0.26358009],\n",
       "       [ 1.71105577],\n",
       "       [-1.80195731],\n",
       "       [ 0.08540663],\n",
       "       [ 0.55448741],\n",
       "       [-2.72129752],\n",
       "       [ 0.64526911],\n",
       "       [-1.97685526],\n",
       "       [-2.60969044],\n",
       "       [ 2.69331322],\n",
       "       [ 2.7937922 ],\n",
       "       [ 1.85038409],\n",
       "       [-1.17231738],\n",
       "       [-2.41396732],\n",
       "       [ 1.10539816],\n",
       "       [-0.35908504],\n",
       "       [-2.26777059],\n",
       "       [-0.02893854],\n",
       "       [-2.79366887],\n",
       "       [ 2.45592241],\n",
       "       [-1.44732011],\n",
       "       [ 0.97513371],\n",
       "       [-1.12973354],\n",
       "       [ 0.12040813],\n",
       "       [ 0.28026168],\n",
       "       [-1.89087327],\n",
       "       [ 2.81750777],\n",
       "       [ 1.65079694],\n",
       "       [ 2.63699365],\n",
       "       [ 2.3689641 ],\n",
       "       [ 0.58739987],\n",
       "       [ 2.53124541],\n",
       "       [-2.46904499],\n",
       "       [-1.82410283],\n",
       "       [-2.72863627],\n",
       "       [-1.04801802],\n",
       "       [-0.66793626],\n",
       "       [-1.37190581],\n",
       "       [ 1.97242505],\n",
       "       [-0.85948004],\n",
       "       [-1.31439294],\n",
       "       [ 0.2561765 ],\n",
       "       [-2.15445465],\n",
       "       [ 1.81318188],\n",
       "       [-2.55269614],\n",
       "       [ 2.92132162],\n",
       "       [ 1.63346862],\n",
       "       [-1.80770591],\n",
       "       [-2.9668673 ],\n",
       "       [ 1.89276857],\n",
       "       [ 1.24114406],\n",
       "       [ 1.37404301],\n",
       "       [ 1.62762208],\n",
       "       [-2.55573209],\n",
       "       [-0.84920563],\n",
       "       [-2.30478564],\n",
       "       [ 2.17862056],\n",
       "       [ 0.73978876],\n",
       "       [-1.01461185],\n",
       "       [-2.6186499 ],\n",
       "       [-1.13410607],\n",
       "       [-1.04890007],\n",
       "       [ 1.37763707],\n",
       "       [ 0.82534483],\n",
       "       [ 2.32327646],\n",
       "       [-0.16671045],\n",
       "       [-2.28243452],\n",
       "       [ 1.27946872],\n",
       "       [ 1.56471029],\n",
       "       [ 0.36766319],\n",
       "       [ 1.62580308],\n",
       "       [-0.03722642],\n",
       "       [ 0.13639698],\n",
       "       [-0.43475389],\n",
       "       [-2.84748524],\n",
       "       [-2.35265144]])"
      ]
     },
     "execution_count": 74,
     "metadata": {},
     "output_type": "execute_result"
    }
   ],
   "source": [
    "from sklearn.preprocessing import KBinsDiscretizer #分箱 将原本连续的数据分成分类型\n",
    "\n",
    "#将数据分箱\n",
    "enc = KBinsDiscretizer(n_bins=10 #分几类\n",
    "                       ,encode='onehot')#另外一种模式 ordinal\n",
    "X_binned = enc.fit_transform(X)\n",
    "#encode模式\"onehot\"：使用做哑变量方式做离散化\n",
    "#之后返回一个稀疏矩阵(m,n_bins)，每一列是一个分好的类别\n",
    "#对每一个样本而言，它包含的分类（箱子）中它表示为1，其余分类中它表示为0\n",
    "\n",
    "X"
   ]
  },
  {
   "cell_type": "code",
   "execution_count": 75,
   "metadata": {},
   "outputs": [
    {
     "data": {
      "text/plain": [
       "<100x10 sparse matrix of type '<class 'numpy.float64'>'\n",
       "\twith 100 stored elements in Compressed Sparse Row format>"
      ]
     },
     "execution_count": 75,
     "metadata": {},
     "output_type": "execute_result"
    }
   ],
   "source": [
    "X_binned #分箱后的数据 是一个稀疏矩阵"
   ]
  },
  {
   "cell_type": "code",
   "execution_count": 76,
   "metadata": {},
   "outputs": [
    {
     "data": {
      "text/html": [
       "<div>\n",
       "<style scoped>\n",
       "    .dataframe tbody tr th:only-of-type {\n",
       "        vertical-align: middle;\n",
       "    }\n",
       "\n",
       "    .dataframe tbody tr th {\n",
       "        vertical-align: top;\n",
       "    }\n",
       "\n",
       "    .dataframe thead th {\n",
       "        text-align: right;\n",
       "    }\n",
       "</style>\n",
       "<table border=\"1\" class=\"dataframe\">\n",
       "  <thead>\n",
       "    <tr style=\"text-align: right;\">\n",
       "      <th></th>\n",
       "      <th>0</th>\n",
       "      <th>1</th>\n",
       "      <th>2</th>\n",
       "      <th>3</th>\n",
       "      <th>4</th>\n",
       "      <th>5</th>\n",
       "      <th>6</th>\n",
       "      <th>7</th>\n",
       "      <th>8</th>\n",
       "      <th>9</th>\n",
       "    </tr>\n",
       "  </thead>\n",
       "  <tbody>\n",
       "    <tr>\n",
       "      <th>0</th>\n",
       "      <td>0.0</td>\n",
       "      <td>0.0</td>\n",
       "      <td>0.0</td>\n",
       "      <td>0.0</td>\n",
       "      <td>1.0</td>\n",
       "      <td>0.0</td>\n",
       "      <td>0.0</td>\n",
       "      <td>0.0</td>\n",
       "      <td>0.0</td>\n",
       "      <td>0.0</td>\n",
       "    </tr>\n",
       "    <tr>\n",
       "      <th>1</th>\n",
       "      <td>0.0</td>\n",
       "      <td>0.0</td>\n",
       "      <td>0.0</td>\n",
       "      <td>0.0</td>\n",
       "      <td>0.0</td>\n",
       "      <td>0.0</td>\n",
       "      <td>0.0</td>\n",
       "      <td>0.0</td>\n",
       "      <td>0.0</td>\n",
       "      <td>1.0</td>\n",
       "    </tr>\n",
       "    <tr>\n",
       "      <th>2</th>\n",
       "      <td>0.0</td>\n",
       "      <td>0.0</td>\n",
       "      <td>0.0</td>\n",
       "      <td>0.0</td>\n",
       "      <td>0.0</td>\n",
       "      <td>0.0</td>\n",
       "      <td>0.0</td>\n",
       "      <td>1.0</td>\n",
       "      <td>0.0</td>\n",
       "      <td>0.0</td>\n",
       "    </tr>\n",
       "    <tr>\n",
       "      <th>3</th>\n",
       "      <td>0.0</td>\n",
       "      <td>0.0</td>\n",
       "      <td>0.0</td>\n",
       "      <td>0.0</td>\n",
       "      <td>0.0</td>\n",
       "      <td>0.0</td>\n",
       "      <td>1.0</td>\n",
       "      <td>0.0</td>\n",
       "      <td>0.0</td>\n",
       "      <td>0.0</td>\n",
       "    </tr>\n",
       "    <tr>\n",
       "      <th>4</th>\n",
       "      <td>0.0</td>\n",
       "      <td>0.0</td>\n",
       "      <td>1.0</td>\n",
       "      <td>0.0</td>\n",
       "      <td>0.0</td>\n",
       "      <td>0.0</td>\n",
       "      <td>0.0</td>\n",
       "      <td>0.0</td>\n",
       "      <td>0.0</td>\n",
       "      <td>0.0</td>\n",
       "    </tr>\n",
       "  </tbody>\n",
       "</table>\n",
       "</div>"
      ],
      "text/plain": [
       "     0    1    2    3    4    5    6    7    8    9\n",
       "0  0.0  0.0  0.0  0.0  1.0  0.0  0.0  0.0  0.0  0.0\n",
       "1  0.0  0.0  0.0  0.0  0.0  0.0  0.0  0.0  0.0  1.0\n",
       "2  0.0  0.0  0.0  0.0  0.0  0.0  0.0  1.0  0.0  0.0\n",
       "3  0.0  0.0  0.0  0.0  0.0  0.0  1.0  0.0  0.0  0.0\n",
       "4  0.0  0.0  1.0  0.0  0.0  0.0  0.0  0.0  0.0  0.0"
      ]
     },
     "execution_count": 76,
     "metadata": {},
     "output_type": "execute_result"
    }
   ],
   "source": [
    "#使用pandas打开系数矩阵\n",
    "import pandas as pd\n",
    "pd.DataFrame(X_binned.toarray()).head()"
   ]
  },
  {
   "cell_type": "code",
   "execution_count": 77,
   "metadata": {},
   "outputs": [
    {
     "ename": "ValueError",
     "evalue": "shapes (1000,1) and (10,) not aligned: 1 (dim 1) != 10 (dim 0)",
     "output_type": "error",
     "traceback": [
      "\u001b[1;31m---------------------------------------------------------------------------\u001b[0m",
      "\u001b[1;31mValueError\u001b[0m                                Traceback (most recent call last)",
      "\u001b[1;32m<ipython-input-77-48be58827510>\u001b[0m in \u001b[0;36m<module>\u001b[1;34m\u001b[0m\n\u001b[0;32m      2\u001b[0m \u001b[0mLinearR_\u001b[0m \u001b[1;33m=\u001b[0m \u001b[0mLinearRegression\u001b[0m\u001b[1;33m(\u001b[0m\u001b[1;33m)\u001b[0m\u001b[1;33m.\u001b[0m\u001b[0mfit\u001b[0m\u001b[1;33m(\u001b[0m\u001b[0mX_binned\u001b[0m\u001b[1;33m,\u001b[0m \u001b[0my\u001b[0m\u001b[1;33m)\u001b[0m\u001b[1;33m\u001b[0m\u001b[1;33m\u001b[0m\u001b[0m\n\u001b[0;32m      3\u001b[0m \u001b[1;33m\u001b[0m\u001b[0m\n\u001b[1;32m----> 4\u001b[1;33m \u001b[0mLinearR_\u001b[0m\u001b[1;33m.\u001b[0m\u001b[0mpredict\u001b[0m\u001b[1;33m(\u001b[0m\u001b[0mline\u001b[0m\u001b[1;33m)\u001b[0m \u001b[1;31m#line作为测试集 从-3 到 3 选出的一千个随机数\u001b[0m\u001b[1;33m\u001b[0m\u001b[1;33m\u001b[0m\u001b[0m\n\u001b[0m",
      "\u001b[1;32mD:\\anaconda\\lib\\site-packages\\sklearn\\linear_model\\base.py\u001b[0m in \u001b[0;36mpredict\u001b[1;34m(self, X)\u001b[0m\n\u001b[0;32m    211\u001b[0m             \u001b[0mReturns\u001b[0m \u001b[0mpredicted\u001b[0m \u001b[0mvalues\u001b[0m\u001b[1;33m.\u001b[0m\u001b[1;33m\u001b[0m\u001b[1;33m\u001b[0m\u001b[0m\n\u001b[0;32m    212\u001b[0m         \"\"\"\n\u001b[1;32m--> 213\u001b[1;33m         \u001b[1;32mreturn\u001b[0m \u001b[0mself\u001b[0m\u001b[1;33m.\u001b[0m\u001b[0m_decision_function\u001b[0m\u001b[1;33m(\u001b[0m\u001b[0mX\u001b[0m\u001b[1;33m)\u001b[0m\u001b[1;33m\u001b[0m\u001b[1;33m\u001b[0m\u001b[0m\n\u001b[0m\u001b[0;32m    214\u001b[0m \u001b[1;33m\u001b[0m\u001b[0m\n\u001b[0;32m    215\u001b[0m     \u001b[0m_preprocess_data\u001b[0m \u001b[1;33m=\u001b[0m \u001b[0mstaticmethod\u001b[0m\u001b[1;33m(\u001b[0m\u001b[0m_preprocess_data\u001b[0m\u001b[1;33m)\u001b[0m\u001b[1;33m\u001b[0m\u001b[1;33m\u001b[0m\u001b[0m\n",
      "\u001b[1;32mD:\\anaconda\\lib\\site-packages\\sklearn\\linear_model\\base.py\u001b[0m in \u001b[0;36m_decision_function\u001b[1;34m(self, X)\u001b[0m\n\u001b[0;32m    196\u001b[0m         \u001b[0mX\u001b[0m \u001b[1;33m=\u001b[0m \u001b[0mcheck_array\u001b[0m\u001b[1;33m(\u001b[0m\u001b[0mX\u001b[0m\u001b[1;33m,\u001b[0m \u001b[0maccept_sparse\u001b[0m\u001b[1;33m=\u001b[0m\u001b[1;33m[\u001b[0m\u001b[1;34m'csr'\u001b[0m\u001b[1;33m,\u001b[0m \u001b[1;34m'csc'\u001b[0m\u001b[1;33m,\u001b[0m \u001b[1;34m'coo'\u001b[0m\u001b[1;33m]\u001b[0m\u001b[1;33m)\u001b[0m\u001b[1;33m\u001b[0m\u001b[1;33m\u001b[0m\u001b[0m\n\u001b[0;32m    197\u001b[0m         return safe_sparse_dot(X, self.coef_.T,\n\u001b[1;32m--> 198\u001b[1;33m                                dense_output=True) + self.intercept_\n\u001b[0m\u001b[0;32m    199\u001b[0m \u001b[1;33m\u001b[0m\u001b[0m\n\u001b[0;32m    200\u001b[0m     \u001b[1;32mdef\u001b[0m \u001b[0mpredict\u001b[0m\u001b[1;33m(\u001b[0m\u001b[0mself\u001b[0m\u001b[1;33m,\u001b[0m \u001b[0mX\u001b[0m\u001b[1;33m)\u001b[0m\u001b[1;33m:\u001b[0m\u001b[1;33m\u001b[0m\u001b[1;33m\u001b[0m\u001b[0m\n",
      "\u001b[1;32mD:\\anaconda\\lib\\site-packages\\sklearn\\utils\\extmath.py\u001b[0m in \u001b[0;36msafe_sparse_dot\u001b[1;34m(a, b, dense_output)\u001b[0m\n\u001b[0;32m    171\u001b[0m         \u001b[1;32mreturn\u001b[0m \u001b[0mret\u001b[0m\u001b[1;33m\u001b[0m\u001b[1;33m\u001b[0m\u001b[0m\n\u001b[0;32m    172\u001b[0m     \u001b[1;32melse\u001b[0m\u001b[1;33m:\u001b[0m\u001b[1;33m\u001b[0m\u001b[1;33m\u001b[0m\u001b[0m\n\u001b[1;32m--> 173\u001b[1;33m         \u001b[1;32mreturn\u001b[0m \u001b[0mnp\u001b[0m\u001b[1;33m.\u001b[0m\u001b[0mdot\u001b[0m\u001b[1;33m(\u001b[0m\u001b[0ma\u001b[0m\u001b[1;33m,\u001b[0m \u001b[0mb\u001b[0m\u001b[1;33m)\u001b[0m\u001b[1;33m\u001b[0m\u001b[1;33m\u001b[0m\u001b[0m\n\u001b[0m\u001b[0;32m    174\u001b[0m \u001b[1;33m\u001b[0m\u001b[0m\n\u001b[0;32m    175\u001b[0m \u001b[1;33m\u001b[0m\u001b[0m\n",
      "\u001b[1;31mValueError\u001b[0m: shapes (1000,1) and (10,) not aligned: 1 (dim 1) != 10 (dim 0)"
     ]
    }
   ],
   "source": [
    "#我们将使用分箱后的数据来训练模型，在sklearn中，测试集和训练集的结构必须保持一致，否则报错\n",
    "LinearR_ = LinearRegression().fit(X_binned, y)\n",
    "\n",
    "LinearR_.predict(line) #line作为测试集 从-3 到 3 选出的一千个随机数"
   ]
  },
  {
   "cell_type": "code",
   "execution_count": 78,
   "metadata": {},
   "outputs": [
    {
     "name": "stdout",
     "output_type": "stream",
     "text": [
      "(1000, 1)\n",
      "(100, 10)\n"
     ]
    }
   ],
   "source": [
    "print(line.shape)\n",
    "print(X_binned.shape)"
   ]
  },
  {
   "cell_type": "code",
   "execution_count": 79,
   "metadata": {},
   "outputs": [
    {
     "data": {
      "text/plain": [
       "array([-0.22510103, -0.22510103, -0.22510103, -0.22510103, -0.22510103,\n",
       "       -0.22510103, -0.22510103, -0.22510103, -0.22510103, -0.22510103,\n",
       "       -0.22510103, -0.22510103, -0.22510103, -0.22510103, -0.22510103,\n",
       "       -0.22510103, -0.22510103, -0.22510103, -0.22510103, -0.22510103,\n",
       "       -0.22510103, -0.22510103, -0.22510103, -0.22510103, -0.22510103,\n",
       "       -0.22510103, -0.22510103, -0.22510103, -0.22510103, -0.22510103,\n",
       "       -0.22510103, -0.22510103, -0.22510103, -0.22510103, -0.22510103,\n",
       "       -0.22510103, -0.22510103, -0.22510103, -0.22510103, -0.22510103,\n",
       "       -0.22510103, -0.22510103, -0.22510103, -0.22510103, -0.22510103,\n",
       "       -0.22510103, -0.22510103, -0.22510103, -0.22510103, -0.22510103,\n",
       "       -0.22510103, -0.22510103, -0.22510103, -0.22510103, -0.22510103,\n",
       "       -0.22510103, -0.22510103, -0.22510103, -0.22510103, -0.22510103,\n",
       "       -0.22510103, -0.22510103, -0.22510103, -0.22510103, -0.22510103,\n",
       "       -0.22510103, -0.22510103, -0.22510103, -0.22510103, -0.22510103,\n",
       "       -0.22510103, -0.22510103, -0.22510103, -0.22510103, -0.22510103,\n",
       "       -0.68407735, -0.68407735, -0.68407735, -0.68407735, -0.68407735,\n",
       "       -0.68407735, -0.68407735, -0.68407735, -0.68407735, -0.68407735,\n",
       "       -0.68407735, -0.68407735, -0.68407735, -0.68407735, -0.68407735,\n",
       "       -0.68407735, -0.68407735, -0.68407735, -0.68407735, -0.68407735,\n",
       "       -0.68407735, -0.68407735, -0.68407735, -0.68407735, -0.68407735,\n",
       "       -0.68407735, -0.68407735, -0.68407735, -0.68407735, -0.68407735,\n",
       "       -0.68407735, -0.68407735, -0.68407735, -0.68407735, -0.68407735,\n",
       "       -0.68407735, -0.68407735, -0.68407735, -0.68407735, -0.68407735,\n",
       "       -0.68407735, -0.68407735, -0.68407735, -0.68407735, -0.68407735,\n",
       "       -0.68407735, -0.68407735, -0.68407735, -0.68407735, -0.68407735,\n",
       "       -0.68407735, -0.68407735, -0.68407735, -0.68407735, -0.68407735,\n",
       "       -0.68407735, -0.68407735, -0.68407735, -0.68407735, -0.68407735,\n",
       "       -0.68407735, -0.68407735, -0.68407735, -0.68407735, -0.68407735,\n",
       "       -0.68407735, -0.68407735, -0.68407735, -0.68407735, -0.68407735,\n",
       "       -0.68407735, -0.68407735, -0.68407735, -0.68407735, -0.68407735,\n",
       "       -0.68407735, -0.68407735, -0.68407735, -0.68407735, -0.68407735,\n",
       "       -0.68407735, -0.68407735, -0.84238714, -0.84238714, -0.84238714,\n",
       "       -0.84238714, -0.84238714, -0.84238714, -0.84238714, -0.84238714,\n",
       "       -0.84238714, -0.84238714, -0.84238714, -0.84238714, -0.84238714,\n",
       "       -0.84238714, -0.84238714, -0.84238714, -0.84238714, -0.84238714,\n",
       "       -0.84238714, -0.84238714, -0.84238714, -0.84238714, -0.84238714,\n",
       "       -0.84238714, -0.84238714, -0.84238714, -0.84238714, -0.84238714,\n",
       "       -0.84238714, -0.84238714, -0.84238714, -0.84238714, -0.84238714,\n",
       "       -0.84238714, -0.84238714, -0.84238714, -0.84238714, -0.84238714,\n",
       "       -0.84238714, -0.84238714, -0.84238714, -0.84238714, -0.84238714,\n",
       "       -0.84238714, -0.84238714, -0.84238714, -0.84238714, -0.84238714,\n",
       "       -0.84238714, -0.84238714, -0.84238714, -0.84238714, -0.84238714,\n",
       "       -0.84238714, -0.84238714, -0.84238714, -0.84238714, -0.84238714,\n",
       "       -0.84238714, -0.84238714, -0.84238714, -0.84238714, -0.84238714,\n",
       "       -0.84238714, -0.84238714, -0.84238714, -0.84238714, -0.84238714,\n",
       "       -0.84238714, -0.84238714, -0.84238714, -0.84238714, -0.84238714,\n",
       "       -0.84238714, -0.84238714, -0.84238714, -0.84238714, -0.84238714,\n",
       "       -0.84238714, -0.84238714, -0.84238714, -0.84238714, -0.84238714,\n",
       "       -0.84238714, -0.84238714, -0.84238714, -0.84238714, -0.84238714,\n",
       "       -0.84238714, -0.84238714, -0.84238714, -0.84238714, -0.84238714,\n",
       "       -0.84238714, -0.84238714, -0.84238714, -0.84238714, -0.84238714,\n",
       "       -0.84238714, -0.84238714, -0.84238714, -0.84238714, -0.84238714,\n",
       "       -0.84238714, -0.84238714, -0.84238714, -0.84238714, -0.84238714,\n",
       "       -0.84238714, -0.84238714, -0.84238714, -0.90433112, -0.90433112,\n",
       "       -0.90433112, -0.90433112, -0.90433112, -0.90433112, -0.90433112,\n",
       "       -0.90433112, -0.90433112, -0.90433112, -0.90433112, -0.90433112,\n",
       "       -0.90433112, -0.90433112, -0.90433112, -0.90433112, -0.90433112,\n",
       "       -0.90433112, -0.90433112, -0.90433112, -0.90433112, -0.90433112,\n",
       "       -0.90433112, -0.90433112, -0.90433112, -0.90433112, -0.90433112,\n",
       "       -0.90433112, -0.90433112, -0.90433112, -0.90433112, -0.90433112,\n",
       "       -0.90433112, -0.90433112, -0.90433112, -0.90433112, -0.90433112,\n",
       "       -0.90433112, -0.90433112, -0.90433112, -0.90433112, -0.90433112,\n",
       "       -0.90433112, -0.90433112, -0.90433112, -0.90433112, -0.90433112,\n",
       "       -0.90433112, -0.90433112, -0.90433112, -0.90433112, -0.90433112,\n",
       "       -0.90433112, -0.90433112, -0.90433112, -0.90433112, -0.90433112,\n",
       "       -0.90433112, -0.90433112, -0.90433112, -0.90433112, -0.72176296,\n",
       "       -0.72176296, -0.72176296, -0.72176296, -0.72176296, -0.72176296,\n",
       "       -0.72176296, -0.72176296, -0.72176296, -0.72176296, -0.72176296,\n",
       "       -0.72176296, -0.72176296, -0.72176296, -0.72176296, -0.72176296,\n",
       "       -0.72176296, -0.72176296, -0.72176296, -0.72176296, -0.72176296,\n",
       "       -0.72176296, -0.72176296, -0.72176296, -0.72176296, -0.72176296,\n",
       "       -0.72176296, -0.72176296, -0.72176296, -0.72176296, -0.72176296,\n",
       "       -0.72176296, -0.72176296, -0.72176296, -0.72176296, -0.72176296,\n",
       "       -0.72176296, -0.72176296, -0.72176296, -0.72176296, -0.72176296,\n",
       "       -0.72176296, -0.72176296, -0.72176296, -0.72176296, -0.72176296,\n",
       "       -0.72176296, -0.72176296, -0.72176296, -0.72176296, -0.72176296,\n",
       "       -0.72176296, -0.72176296, -0.72176296, -0.72176296, -0.72176296,\n",
       "       -0.72176296, -0.72176296, -0.72176296, -0.72176296, -0.72176296,\n",
       "       -0.72176296, -0.72176296, -0.72176296, -0.72176296, -0.72176296,\n",
       "       -0.72176296, -0.72176296, -0.72176296, -0.72176296, -0.72176296,\n",
       "       -0.72176296, -0.72176296, -0.72176296, -0.72176296, -0.72176296,\n",
       "       -0.72176296, -0.72176296, -0.72176296, -0.72176296, -0.72176296,\n",
       "       -0.72176296, -0.72176296, -0.72176296, -0.72176296, -0.72176296,\n",
       "       -0.72176296, -0.72176296, -0.72176296, -0.72176296, -0.72176296,\n",
       "       -0.72176296, -0.72176296, -0.72176296, -0.72176296, -0.72176296,\n",
       "       -0.72176296, -0.72176296, -0.72176296, -0.72176296, -0.72176296,\n",
       "       -0.72176296, -0.72176296, -0.72176296, -0.72176296, -0.72176296,\n",
       "       -0.72176296, -0.72176296, -0.72176296, -0.72176296, -0.72176296,\n",
       "       -0.72176296, -0.72176296, -0.72176296, -0.72176296, -0.72176296,\n",
       "       -0.72176296, -0.72176296, -0.72176296, -0.72176296, -0.72176296,\n",
       "       -0.72176296, -0.72176296, -0.72176296, -0.72176296, -0.72176296,\n",
       "       -0.72176296, -0.72176296, -0.72176296, -0.72176296, -0.72176296,\n",
       "       -0.72176296, -0.72176296, -0.72176296, -0.72176296, -0.72176296,\n",
       "        0.01332773,  0.01332773,  0.01332773,  0.01332773,  0.01332773,\n",
       "        0.01332773,  0.01332773,  0.01332773,  0.01332773,  0.01332773,\n",
       "        0.01332773,  0.01332773,  0.01332773,  0.01332773,  0.01332773,\n",
       "        0.01332773,  0.01332773,  0.01332773,  0.01332773,  0.01332773,\n",
       "        0.01332773,  0.01332773,  0.01332773,  0.01332773,  0.01332773,\n",
       "        0.01332773,  0.01332773,  0.01332773,  0.01332773,  0.01332773,\n",
       "        0.01332773,  0.01332773,  0.01332773,  0.01332773,  0.01332773,\n",
       "        0.01332773,  0.01332773,  0.01332773,  0.01332773,  0.01332773,\n",
       "        0.01332773,  0.01332773,  0.01332773,  0.01332773,  0.01332773,\n",
       "        0.01332773,  0.01332773,  0.01332773,  0.01332773,  0.01332773,\n",
       "        0.01332773,  0.01332773,  0.01332773,  0.01332773,  0.01332773,\n",
       "        0.01332773,  0.01332773,  0.01332773,  0.01332773,  0.01332773,\n",
       "        0.01332773,  0.01332773,  0.01332773,  0.01332773,  0.01332773,\n",
       "        0.01332773,  0.01332773,  0.01332773,  0.01332773,  0.01332773,\n",
       "        0.01332773,  0.01332773,  0.01332773,  0.01332773,  0.01332773,\n",
       "        0.01332773,  0.01332773,  0.01332773,  0.01332773,  0.01332773,\n",
       "        0.01332773,  0.01332773,  0.01332773,  0.01332773,  0.01332773,\n",
       "        0.01332773,  0.01332773,  0.01332773,  0.01332773,  0.01332773,\n",
       "        0.01332773,  0.01332773,  0.01332773,  0.01332773,  0.01332773,\n",
       "        0.01332773,  0.01332773,  0.01332773,  0.01332773,  0.01332773,\n",
       "        0.01332773,  0.01332773,  0.01332773,  0.01332773,  0.01332773,\n",
       "        0.01332773,  0.01332773,  0.01332773,  0.01332773,  0.53043458,\n",
       "        0.53043458,  0.53043458,  0.53043458,  0.53043458,  0.53043458,\n",
       "        0.53043458,  0.53043458,  0.53043458,  0.53043458,  0.53043458,\n",
       "        0.53043458,  0.53043458,  0.53043458,  0.53043458,  0.53043458,\n",
       "        0.53043458,  0.53043458,  0.53043458,  0.53043458,  0.53043458,\n",
       "        0.53043458,  0.53043458,  0.53043458,  0.53043458,  0.53043458,\n",
       "        0.53043458,  0.53043458,  0.53043458,  0.53043458,  0.53043458,\n",
       "        0.53043458,  0.53043458,  0.53043458,  0.53043458,  0.53043458,\n",
       "        0.53043458,  0.53043458,  0.53043458,  0.53043458,  0.53043458,\n",
       "        0.53043458,  0.53043458,  0.53043458,  0.53043458,  0.53043458,\n",
       "        0.53043458,  0.53043458,  0.53043458,  0.53043458,  0.53043458,\n",
       "        0.53043458,  0.53043458,  0.53043458,  0.53043458,  0.53043458,\n",
       "        0.53043458,  0.53043458,  0.53043458,  0.53043458,  0.53043458,\n",
       "        0.53043458,  0.53043458,  0.53043458,  0.53043458,  0.53043458,\n",
       "        0.53043458,  0.53043458,  0.53043458,  0.53043458,  0.53043458,\n",
       "        0.53043458,  0.53043458,  0.53043458,  0.53043458,  0.53043458,\n",
       "        0.53043458,  0.53043458,  0.53043458,  0.53043458,  0.53043458,\n",
       "        0.53043458,  0.53043458,  0.53043458,  0.53043458,  0.53043458,\n",
       "        0.53043458,  0.53043458,  0.53043458,  0.53043458,  0.53043458,\n",
       "        0.53043458,  0.53043458,  0.53043458,  0.53043458,  0.53043458,\n",
       "        0.53043458,  0.53043458,  0.53043458,  0.53043458,  0.53043458,\n",
       "        0.53043458,  0.53043458,  0.53043458,  0.53043458,  0.53043458,\n",
       "        0.53043458,  0.53043458,  0.53043458,  0.53043458,  0.53043458,\n",
       "        0.53043458,  0.53043458,  0.53043458,  0.53043458,  0.53043458,\n",
       "        0.53043458,  0.53043458,  0.98570463,  0.98570463,  0.98570463,\n",
       "        0.98570463,  0.98570463,  0.98570463,  0.98570463,  0.98570463,\n",
       "        0.98570463,  0.98570463,  0.98570463,  0.98570463,  0.98570463,\n",
       "        0.98570463,  0.98570463,  0.98570463,  0.98570463,  0.98570463,\n",
       "        0.98570463,  0.98570463,  0.98570463,  0.98570463,  0.98570463,\n",
       "        0.98570463,  0.98570463,  0.98570463,  0.98570463,  0.98570463,\n",
       "        0.98570463,  0.98570463,  0.98570463,  0.98570463,  0.98570463,\n",
       "        0.98570463,  0.98570463,  0.98570463,  0.98570463,  0.98570463,\n",
       "        0.98570463,  0.98570463,  0.98570463,  0.98570463,  0.98570463,\n",
       "        0.98570463,  0.98570463,  0.98570463,  0.98570463,  0.98570463,\n",
       "        0.98570463,  0.98570463,  0.98570463,  0.98570463,  0.98570463,\n",
       "        0.98570463,  0.98570463,  0.98570463,  0.98570463,  0.98570463,\n",
       "        0.98570463,  0.98570463,  0.98570463,  0.98570463,  0.98570463,\n",
       "        0.98570463,  0.98570463,  0.98570463,  0.98570463,  0.98570463,\n",
       "        0.98570463,  0.98570463,  0.98570463,  0.98570463,  0.98570463,\n",
       "        0.98570463,  0.98570463,  0.98570463,  0.98570463,  0.98570463,\n",
       "        0.98570463,  0.98570463,  0.98570463,  0.97481791,  0.97481791,\n",
       "        0.97481791,  0.97481791,  0.97481791,  0.97481791,  0.97481791,\n",
       "        0.97481791,  0.97481791,  0.97481791,  0.97481791,  0.97481791,\n",
       "        0.97481791,  0.97481791,  0.97481791,  0.97481791,  0.97481791,\n",
       "        0.97481791,  0.97481791,  0.97481791,  0.97481791,  0.97481791,\n",
       "        0.97481791,  0.97481791,  0.97481791,  0.97481791,  0.97481791,\n",
       "        0.97481791,  0.97481791,  0.97481791,  0.97481791,  0.97481791,\n",
       "        0.97481791,  0.97481791,  0.97481791,  0.97481791,  0.97481791,\n",
       "        0.97481791,  0.97481791,  0.97481791,  0.97481791,  0.97481791,\n",
       "        0.97481791,  0.97481791,  0.97481791,  0.97481791,  0.97481791,\n",
       "        0.97481791,  0.97481791,  0.97481791,  0.97481791,  0.97481791,\n",
       "        0.97481791,  0.97481791,  0.97481791,  0.97481791,  0.97481791,\n",
       "        0.97481791,  0.97481791,  0.97481791,  0.97481791,  0.97481791,\n",
       "        0.97481791,  0.97481791,  0.97481791,  0.97481791,  0.97481791,\n",
       "        0.97481791,  0.97481791,  0.97481791,  0.97481791,  0.97481791,\n",
       "        0.97481791,  0.97481791,  0.97481791,  0.97481791,  0.97481791,\n",
       "        0.97481791,  0.97481791,  0.97481791,  0.97481791,  0.97481791,\n",
       "        0.97481791,  0.97481791,  0.97481791,  0.97481791,  0.97481791,\n",
       "        0.97481791,  0.97481791,  0.97481791,  0.97481791,  0.97481791,\n",
       "        0.97481791,  0.97481791,  0.97481791,  0.97481791,  0.97481791,\n",
       "        0.97481791,  0.97481791,  0.97481791,  0.97481791,  0.97481791,\n",
       "        0.97481791,  0.97481791,  0.97481791,  0.97481791,  0.97481791,\n",
       "        0.97481791,  0.97481791,  0.97481791,  0.97481791,  0.97481791,\n",
       "        0.97481791,  0.97481791,  0.97481791,  0.38539229,  0.38539229,\n",
       "        0.38539229,  0.38539229,  0.38539229,  0.38539229,  0.38539229,\n",
       "        0.38539229,  0.38539229,  0.38539229,  0.38539229,  0.38539229,\n",
       "        0.38539229,  0.38539229,  0.38539229,  0.38539229,  0.38539229,\n",
       "        0.38539229,  0.38539229,  0.38539229,  0.38539229,  0.38539229,\n",
       "        0.38539229,  0.38539229,  0.38539229,  0.38539229,  0.38539229,\n",
       "        0.38539229,  0.38539229,  0.38539229,  0.38539229,  0.38539229,\n",
       "        0.38539229,  0.38539229,  0.38539229,  0.38539229,  0.38539229,\n",
       "        0.38539229,  0.38539229,  0.38539229,  0.38539229,  0.38539229,\n",
       "        0.38539229,  0.38539229,  0.38539229,  0.38539229,  0.38539229,\n",
       "        0.38539229,  0.38539229,  0.38539229,  0.38539229,  0.38539229,\n",
       "        0.38539229,  0.38539229,  0.38539229,  0.38539229,  0.38539229,\n",
       "        0.38539229,  0.38539229,  0.38539229,  0.38539229,  0.38539229,\n",
       "        0.38539229,  0.38539229,  0.38539229,  0.38539229,  0.38539229,\n",
       "        0.38539229,  0.38539229,  0.38539229,  0.38539229,  0.38539229,\n",
       "        0.38539229,  0.38539229,  0.38539229,  0.38539229,  0.38539229,\n",
       "        0.38539229,  0.38539229,  0.38539229,  0.38539229,  0.38539229,\n",
       "        0.38539229,  0.38539229,  0.38539229,  0.38539229,  0.38539229,\n",
       "        0.38539229,  0.38539229,  0.38539229,  0.38539229,  0.38539229,\n",
       "        0.38539229,  0.38539229,  0.38539229,  0.38539229,  0.38539229,\n",
       "        0.38539229,  0.38539229,  0.38539229,  0.38539229,  0.38539229,\n",
       "        0.38539229,  0.38539229,  0.38539229,  0.38539229,  0.38539229,\n",
       "        0.38539229,  0.38539229,  0.38539229,  0.38539229,  0.38539229])"
      ]
     },
     "execution_count": 79,
     "metadata": {},
     "output_type": "execute_result"
    }
   ],
   "source": [
    "#因此我们需要创建前后的测试集，按照已经建好的分箱模型将line分箱\n",
    "line_binned = enc.transform(line)\n",
    "\n",
    "LinearR_.predict(line_binned)"
   ]
  },
  {
   "cell_type": "markdown",
   "metadata": {},
   "source": [
    "#### 使用分箱数据进行建模和绘图"
   ]
  },
  {
   "cell_type": "code",
   "execution_count": 80,
   "metadata": {},
   "outputs": [
    {
     "data": {
      "image/png": "[encoded data removed]",
      "text/plain": [
       "<Figure size 720x216 with 2 Axes>"
      ]
     },
     "metadata": {
      "needs_background": "light"
     },
     "output_type": "display_data"
    }
   ],
   "source": [
    "#准备数据\n",
    "enc = KBinsDiscretizer(n_bins=10,encode=\"onehot\")\n",
    "X_binned = enc.fit_transform(X)\n",
    "line_binned = enc.transform(line)\n",
    "\n",
    "#将两张图像绘制在一起，布置画布\n",
    "fig,(ax1,ax2) = plt.subplots(ncols=2\n",
    "                            ,sharey=True#让两张图共享y轴的刻度\n",
    "                            ,figsize=(10,3))\n",
    "\n",
    "#在图1中布置在原始数据上建模的结果\n",
    "ax1.plot(line, LinearR.predict(line), linewidth=2, color='green',label=\"linear regression\")\n",
    "ax1.plot(line, TreeR.predict(line), linewidth=2, color='red',label=\"decision tree\")\n",
    "ax1.plot(X[:, 0], y, 'o', c='k')\n",
    "ax1.legend(loc=\"best\")\n",
    "ax1.set_ylabel(\"Regression output\")\n",
    "ax1.set_xlabel(\"Input feature\")\n",
    "ax1.set_title(\"Result before discretization\")\n",
    "\n",
    "#使用分箱数据进行建模\n",
    "LinearR_ = LinearRegression().fit(X_binned, y)\n",
    "TreeR_ = DecisionTreeRegressor(random_state=0).fit(X_binned, y)\n",
    "\n",
    "#进行预测，在图2中布置在分箱数据上进行预测的结果\n",
    "ax2.plot(line #横坐标\n",
    "         , LinearR_.predict(line_binned) #分箱后的特征矩阵的结果\n",
    "         , linewidth=2\n",
    "         , color='green'\n",
    "         , linestyle='-'#实线\n",
    "         , label='linear regression')\n",
    "\n",
    "ax2.plot(line, TreeR_.predict(line_binned), linewidth=2, color='red',linestyle=':', label='decision tree')#虚线\n",
    "\n",
    "#绘制和箱宽一致的竖线\n",
    "ax2.vlines(enc.bin_edges_[0] #x轴 enc.bin_edges_返回分出的箱子的上限和下限\n",
    "           , *plt.gca().get_ylim() #y轴的上限和下限\n",
    "           , linewidth=1\n",
    "           , alpha=.2)\n",
    "\n",
    "#将原始数据分布放置在图像上\n",
    "ax2.plot(X[:, 0], y, 'o', c='k')\n",
    "\n",
    "#其他绘图设定\n",
    "ax2.legend(loc=\"best\")\n",
    "ax2.set_xlabel(\"Input feature\")\n",
    "ax2.set_title(\"Result after discretization\")\n",
    "plt.tight_layout()\n",
    "plt.show()"
   ]
  },
  {
   "cell_type": "markdown",
   "metadata": {},
   "source": [
    "从图像上可以看出，离散化后线性回归和决策树上的预测结果完全相同了——线性回归比较成功地拟合了数据的分布，而决策树的过拟合效应也减轻了。由于特征矩阵被分箱，因此特征矩阵在每个区域内获得的值是恒定的，因此所有模型对同一个箱中所有的样本都会获得相同的预测值。与分箱前的结果相比，线性回归明显变得更加灵活，而决策树的过拟合问题也得到了改善。但注意，一般来说我们是不使用分箱来改善决策树的过拟合问题的，因为树模型带有丰富而有效的剪枝功能来防止过拟合。"
   ]
  },
  {
   "cell_type": "markdown",
   "metadata": {},
   "source": [
    "在这个例子中，我们设置的分箱箱数为10，不难想到这个箱数的设定肯定会影响模型最后的预测结果，我们来看看不同的箱数会如何影响回归的结果："
   ]
  },
  {
   "cell_type": "code",
   "execution_count": 81,
   "metadata": {},
   "outputs": [
    {
     "name": "stdout",
     "output_type": "stream",
     "text": [
      "0.8314901357806623\n"
     ]
    },
    {
     "data": {
      "image/png": "[encoded data removed]",
      "text/plain": [
       "<Figure size 360x288 with 1 Axes>"
      ]
     },
     "metadata": {
      "needs_background": "light"
     },
     "output_type": "display_data"
    }
   ],
   "source": [
    "enc = KBinsDiscretizer(n_bins=5,encode='onehot')\n",
    "X_binned = enc.fit_transform(X)\n",
    "line_binned = enc.fit_transform(line)\n",
    "\n",
    "fig,ax2 = plt.subplots(1,figsize=(5,4))\n",
    "\n",
    "LinearR_ = LinearRegression().fit(X_binned,y)\n",
    "print(LinearR_.score(line_binned,np.sin(line)))\n",
    "TreeR_ = DecisionTreeRegressor(random_state=0).fit(X_binned, y)\n",
    "\n",
    "ax2.plot(line #横坐标\n",
    "         , LinearR_.predict(line_binned) #分箱后的特征矩阵的结果\n",
    "         , linewidth=2\n",
    "         , color='green'\n",
    "         , linestyle='-'\n",
    "         , label='linear regression')\n",
    "ax2.plot(line, TreeR_.predict(line_binned), linewidth=2, color='red',linestyle=':', label='decision tree')\n",
    "ax2.vlines(enc.bin_edges_[0], *plt.gca().get_ylim(), linewidth=1, alpha=.2)\n",
    "ax2.plot(X[:, 0], y, 'o', c='k')\n",
    "ax2.legend(loc=\"best\")\n",
    "ax2.set_xlabel(\"Input feature\")\n",
    "ax2.set_title(\"Result after discretization\")\n",
    "plt.tight_layout()\n",
    "plt.show()"
   ]
  },
  {
   "cell_type": "code",
   "execution_count": 82,
   "metadata": {},
   "outputs": [
    {
     "data": {
      "image/png": "[encoded data removed]",
      "text/plain": [
       "<Figure size 432x360 with 1 Axes>"
      ]
     },
     "metadata": {
      "needs_background": "light"
     },
     "output_type": "display_data"
    }
   ],
   "source": [
    "#怎样选取最优的箱子?\n",
    "from sklearn.model_selection import cross_val_score as CVS\n",
    "import numpy as np\n",
    "\n",
    "pred,score,var = [], [], []\n",
    "binsrange = [2,5,10,15,20,30]\n",
    "for i in binsrange:\n",
    "    #实例化分箱类\n",
    "    enc = KBinsDiscretizer(n_bins=i,encode=\"onehot\")\n",
    "    #转换数据\n",
    "    X_binned = enc.fit_transform(X)\n",
    "    line_binned = enc.transform(line)\n",
    "    #建立模型\n",
    "    LinearR_ = LinearRegression()\n",
    "    #全数据集上的交叉验证\n",
    "    cvresult = CVS(LinearR_,X_binned,y,cv=5)\n",
    "    score.append(cvresult.mean()) #全数据交叉验证的均值\n",
    "    var.append(cvresult.var()) #全数据交叉验证的方差\n",
    "    #测试数据集上的打分结果\n",
    "    pred.append(LinearR_.fit(X_binned,y).score(line_binned,np.sin(line)))\n",
    "    \n",
    "#绘制图像\n",
    "plt.figure(figsize=(6,5))\n",
    "plt.plot(binsrange,pred,c=\"orange\",label=\"test\")\n",
    "plt.plot(binsrange,score,c=\"k\",label=\"full data\")\n",
    "plt.plot(binsrange,score+np.array(var)*0.5,c=\"red\",linestyle=\"--\",label = \"var\")\n",
    "plt.plot(binsrange,score-np.array(var)*0.5,c=\"red\",linestyle=\"--\")\n",
    "plt.legend()\n",
    "plt.show()"
   ]
  },
  {
   "cell_type": "markdown",
   "metadata": {},
   "source": [
    "###### 在20箱处，方差很小 模型稳定"
   ]
  },
  {
   "cell_type": "code",
   "execution_count": 83,
   "metadata": {},
   "outputs": [
    {
     "name": "stdout",
     "output_type": "stream",
     "text": [
      "0.887799658032006\n"
     ]
    },
    {
     "data": {
      "image/png": "[encoded data removed]",
      "text/plain": [
       "<Figure size 360x288 with 1 Axes>"
      ]
     },
     "metadata": {
      "needs_background": "light"
     },
     "output_type": "display_data"
    }
   ],
   "source": [
    "enc = KBinsDiscretizer(n_bins=20,encode='onehot')\n",
    "X_binned = enc.fit_transform(X)\n",
    "line_binned = enc.fit_transform(line)\n",
    "\n",
    "fig,ax2 = plt.subplots(1,figsize=(5,4))\n",
    "\n",
    "LinearR_ = LinearRegression().fit(X_binned,y)\n",
    "print(LinearR_.score(line_binned,np.sin(line)))\n",
    "TreeR_ = DecisionTreeRegressor(random_state=0).fit(X_binned, y)\n",
    "\n",
    "ax2.plot(line #横坐标\n",
    "         , LinearR_.predict(line_binned) #分箱后的特征矩阵的结果\n",
    "         , linewidth=2\n",
    "         , color='green'\n",
    "         , linestyle='-'\n",
    "         , label='linear regression')\n",
    "ax2.plot(line, TreeR_.predict(line_binned), linewidth=2, color='red',linestyle=':', label='decision tree')\n",
    "ax2.vlines(enc.bin_edges_[0], *plt.gca().get_ylim(), linewidth=1, alpha=.2)\n",
    "ax2.plot(X[:, 0], y, 'o', c='k')\n",
    "ax2.legend(loc=\"best\")\n",
    "ax2.set_xlabel(\"Input feature\")\n",
    "ax2.set_title(\"Result after discretization\")\n",
    "plt.tight_layout()\n",
    "plt.show()"
   ]
  },
  {
   "cell_type": "markdown",
   "metadata": {},
   "source": [
    "## 用多项式回归解决线性回归处理非线性问题"
   ]
  },
  {
   "cell_type": "markdown",
   "metadata": {},
   "source": [
    "除了分箱之外，另外一种更普遍的用于解决线性回归只能处理线性数据“问题的手段，就是使用多项式回归对线性回归进行改进。这样的手法是机器学习研究者们从支持向量机中获得的：支持向量机通过升维可以将非线性可分数据转化为线性可分，然后使用核函数在低维空间中进行计算，这是一种“高维呈现，低维解释”的思维。那我们为什么不能让线性回归使用类似于升维的转换，将数据由非线性转换为线性，从而为线性回归赋予处理非线性数据的能力呢？当然可以。"
   ]
  },
  {
   "cell_type": "markdown",
   "metadata": {},
   "source": [
    "![Title](1581604809(1).jpg)"
   ]
  },
  {
   "cell_type": "code",
   "execution_count": 84,
   "metadata": {},
   "outputs": [
    {
     "data": {
      "text/plain": [
       "array([[1],\n",
       "       [2],\n",
       "       [3]])"
      ]
     },
     "execution_count": 84,
     "metadata": {},
     "output_type": "execute_result"
    }
   ],
   "source": [
    "from sklearn.preprocessing import PolynomialFeatures\n",
    "import numpy as np\n",
    "\n",
    "#如果原始数据是一维的\n",
    "X = np.arange(1,4).reshape(-1,1)\n",
    "X"
   ]
  },
  {
   "cell_type": "code",
   "execution_count": 85,
   "metadata": {},
   "outputs": [
    {
     "data": {
      "text/plain": [
       "array([[1., 1., 1.],\n",
       "       [1., 2., 4.],\n",
       "       [1., 3., 9.]])"
      ]
     },
     "execution_count": 85,
     "metadata": {},
     "output_type": "execute_result"
    }
   ],
   "source": [
    "#二次多项式，参数degree控制多项式的次方\n",
    "poly = PolynomialFeatures(degree=2)\n",
    "\n",
    "#接口transform直接调用\n",
    "X_ = poly.fit_transform(X)\n",
    "X_#升维后的数据"
   ]
  },
  {
   "cell_type": "code",
   "execution_count": 86,
   "metadata": {},
   "outputs": [
    {
     "data": {
      "text/plain": [
       "(3, 3)"
      ]
     },
     "execution_count": 86,
     "metadata": {},
     "output_type": "execute_result"
    }
   ],
   "source": [
    "X_.shape"
   ]
  },
  {
   "cell_type": "code",
   "execution_count": 91,
   "metadata": {},
   "outputs": [
    {
     "data": {
      "text/plain": [
       "array([[ 1.,  1.,  1.,  1.],\n",
       "       [ 1.,  2.,  4.,  8.],\n",
       "       [ 1.,  3.,  9., 27.]])"
      ]
     },
     "execution_count": 91,
     "metadata": {},
     "output_type": "execute_result"
    }
   ],
   "source": [
    "#三次多项式\n",
    "PolynomialFeatures(degree=3).fit_transform(X)"
   ]
  },
  {
   "cell_type": "markdown",
   "metadata": {},
   "source": [
    "不难注意到，多项式变化后数据看起来不太一样了：首先，数据的特征（维度）增加了，这正符合我们希望的将数据转换到高维空间的愿望。其次，维度的增加是有一定的规律的。不难发现，如果我们本来的特征矩阵中只有一个特征x，而转换后我们得到：\n",
    "\n",
    "![Title](1581606427(1).jpg)"
   ]
  },
  {
   "cell_type": "code",
   "execution_count": 93,
   "metadata": {},
   "outputs": [
    {
     "data": {
      "text/plain": [
       "array([[ 1.,  1.,  1.],\n",
       "       [ 2.,  4.,  8.],\n",
       "       [ 3.,  9., 27.]])"
      ]
     },
     "execution_count": 93,
     "metadata": {},
     "output_type": "execute_result"
    }
   ],
   "source": [
    "#三次多项式，不带与截距项相乘的x0 没有常数了\n",
    "PolynomialFeatures(degree=3,include_bias=False).fit_transform(X)"
   ]
  },
  {
   "cell_type": "code",
   "execution_count": 95,
   "metadata": {},
   "outputs": [
    {
     "data": {
      "text/plain": [
       "(3, 4)"
      ]
     },
     "execution_count": 95,
     "metadata": {},
     "output_type": "execute_result"
    }
   ],
   "source": [
    "#为什么我们会希望不生成与截距相乘的x0呢？\n",
    "#对于多项式回归来说，我们已经为线性回归准备好了x0，但是线性回归并不知道\n",
    "xxx = PolynomialFeatures(degree=3).fit_transform(X)\n",
    "\n",
    "xxx.shape #特征矩阵"
   ]
  },
  {
   "cell_type": "code",
   "execution_count": 96,
   "metadata": {},
   "outputs": [
    {
     "data": {
      "text/plain": [
       "array([ 0.49671415, -0.1382643 ,  0.64768854])"
      ]
     },
     "execution_count": 96,
     "metadata": {},
     "output_type": "execute_result"
    }
   ],
   "source": [
    "rnd = np.random.RandomState(42) #设置随机数种子\n",
    "\n",
    "y = rnd.randn(3)\n",
    "y"
   ]
  },
  {
   "cell_type": "code",
   "execution_count": 97,
   "metadata": {},
   "outputs": [
    {
     "data": {
      "text/plain": [
       "array([ 1.36002321e-15, -3.51045297e-01, -6.06987134e-01,  2.19575463e-01])"
      ]
     },
     "execution_count": 97,
     "metadata": {},
     "output_type": "execute_result"
    }
   ],
   "source": [
    "#生成了多少个系数？\n",
    "LinearRegression().fit(xxx,y).coef_  #查看系数"
   ]
  },
  {
   "cell_type": "code",
   "execution_count": 98,
   "metadata": {},
   "outputs": [
    {
     "data": {
      "text/plain": [
       "1.2351711202036895"
      ]
     },
     "execution_count": 98,
     "metadata": {},
     "output_type": "execute_result"
    }
   ],
   "source": [
    "#查看截距\n",
    "LinearRegression().fit(xxx,y).intercept_"
   ]
  },
  {
   "cell_type": "code",
   "execution_count": 102,
   "metadata": {},
   "outputs": [
    {
     "data": {
      "text/plain": [
       "array([ 1.00596411,  0.06916756, -0.83619415,  0.25777663])"
      ]
     },
     "execution_count": 102,
     "metadata": {},
     "output_type": "execute_result"
    }
   ],
   "source": [
    "#发现问题了吗？线性回归并没有把多项式生成的x0当作是截距项\n",
    "#所以我们可以选择：关闭多项式回归中的include_bias\n",
    "#也可以选择：关闭线性回归中的fit_intercept\n",
    "\n",
    "#生成了多少个系数？\n",
    "LinearRegression(fit_intercept=False).fit(xxx,y).coef_"
   ]
  },
  {
   "cell_type": "code",
   "execution_count": 104,
   "metadata": {},
   "outputs": [
    {
     "data": {
      "text/plain": [
       "0.0"
      ]
     },
     "execution_count": 104,
     "metadata": {},
     "output_type": "execute_result"
    }
   ],
   "source": [
    "#查看截距\n",
    "LinearRegression(fit_intercept=False).fit(xxx,y).intercept_"
   ]
  },
  {
   "cell_type": "code",
   "execution_count": 105,
   "metadata": {},
   "outputs": [
    {
     "data": {
      "text/plain": [
       "array([[0, 1],\n",
       "       [2, 3],\n",
       "       [4, 5]])"
      ]
     },
     "execution_count": 105,
     "metadata": {},
     "output_type": "execute_result"
    }
   ],
   "source": [
    "X = np.arange(6).reshape(3, 2)\n",
    "X"
   ]
  },
  {
   "cell_type": "code",
   "execution_count": 106,
   "metadata": {},
   "outputs": [
    {
     "data": {
      "text/plain": [
       "array([[ 1.,  0.,  1.,  0.,  0.,  1.],\n",
       "       [ 1.,  2.,  3.,  4.,  6.,  9.],\n",
       "       [ 1.,  4.,  5., 16., 20., 25.]])"
      ]
     },
     "execution_count": 106,
     "metadata": {},
     "output_type": "execute_result"
    }
   ],
   "source": [
    "#尝试二次多项式\n",
    "PolynomialFeatures(degree=2).fit_transform(X)"
   ]
  },
  {
   "cell_type": "markdown",
   "metadata": {},
   "source": [
    "![Title](1581669834(1).jpg)"
   ]
  },
  {
   "cell_type": "code",
   "execution_count": 107,
   "metadata": {},
   "outputs": [
    {
     "data": {
      "text/plain": [
       "array([[  1.,   0.,   1.,   0.,   0.,   1.,   0.,   0.,   0.,   1.],\n",
       "       [  1.,   2.,   3.,   4.,   6.,   9.,   8.,  12.,  18.,  27.],\n",
       "       [  1.,   4.,   5.,  16.,  20.,  25.,  64.,  80., 100., 125.]])"
      ]
     },
     "execution_count": 107,
     "metadata": {},
     "output_type": "execute_result"
    }
   ],
   "source": [
    "#尝试三次多项式\n",
    "PolynomialFeatures(degree=3).fit_transform(X)"
   ]
  },
  {
   "cell_type": "markdown",
   "metadata": {},
   "source": [
    "![Title](1581670516(1).jpg)"
   ]
  },
  {
   "cell_type": "code",
   "execution_count": 108,
   "metadata": {},
   "outputs": [
    {
     "data": {
      "text/plain": [
       "array([[ 1.,  0.,  1.,  0.,  0.,  1.],\n",
       "       [ 1.,  2.,  3.,  4.,  6.,  9.],\n",
       "       [ 1.,  4.,  5., 16., 20., 25.]])"
      ]
     },
     "execution_count": 108,
     "metadata": {},
     "output_type": "execute_result"
    }
   ],
   "source": [
    "PolynomialFeatures(degree=2).fit_transform(X)"
   ]
  },
  {
   "cell_type": "code",
   "execution_count": 109,
   "metadata": {},
   "outputs": [
    {
     "data": {
      "text/plain": [
       "array([[ 1.,  0.,  1.,  0.],\n",
       "       [ 1.,  2.,  3.,  6.],\n",
       "       [ 1.,  4.,  5., 20.]])"
      ]
     },
     "execution_count": 109,
     "metadata": {},
     "output_type": "execute_result"
    }
   ],
   "source": [
    "#对比之下，当interaction_only为True的时候，只生成交互项\n",
    "PolynomialFeatures(degree=2,interaction_only=True).fit_transform(X)"
   ]
  },
  {
   "cell_type": "markdown",
   "metadata": {},
   "source": [
    "### 多项式回归处理非线性问题\n",
    "---\n",
    "希望通过将数据投影到高维的方式来帮助我们解决非线性问题"
   ]
  },
  {
   "cell_type": "code",
   "execution_count": 116,
   "metadata": {},
   "outputs": [
    {
     "data": {
      "text/plain": [
       "0.5361526059318595"
      ]
     },
     "execution_count": 116,
     "metadata": {},
     "output_type": "execute_result"
    }
   ],
   "source": [
    "from sklearn.preprocessing import PolynomialFeatures as PF\n",
    "from sklearn.linear_model import LinearRegression\n",
    "import numpy as np\n",
    "\n",
    "rnd = np.random.RandomState(42) #设置随机数种子\n",
    "X = rnd.uniform(-3,3,size=100)\n",
    "y = np.sin(X) + rnd.normal(size=len(X)) / 3\n",
    "\n",
    "# 将X升维，准备好放入sklearn中\n",
    "X = X.reshape(-1,1)\n",
    "\n",
    "#创建测试数据，均匀分布在训练集X的取值范围内的一千个点\n",
    "line = np.linspace(-3, 3, 1000, endpoint=False).reshape(-1, 1)\n",
    "\n",
    "#原始特征矩阵的拟合结果\n",
    "LinearR = LinearRegression().fit(X, y)\n",
    "#对训练数据的拟合\n",
    "LinearR.score(X,y)"
   ]
  },
  {
   "cell_type": "code",
   "execution_count": 117,
   "metadata": {},
   "outputs": [
    {
     "data": {
      "text/plain": [
       "0.6800102369793312"
      ]
     },
     "execution_count": 117,
     "metadata": {},
     "output_type": "execute_result"
    }
   ],
   "source": [
    "#对测试数据的拟合\n",
    "LinearR.score(line,np.sin(line))"
   ]
  },
  {
   "cell_type": "code",
   "execution_count": 118,
   "metadata": {},
   "outputs": [
    {
     "data": {
      "text/plain": [
       "0.8561679370344799"
      ]
     },
     "execution_count": 118,
     "metadata": {},
     "output_type": "execute_result"
    }
   ],
   "source": [
    "#多项式拟合，设定高次项\n",
    "d=5 \n",
    "\n",
    "#进行高此项转换\n",
    "poly = PF(degree=d)\n",
    "X_ = poly.fit_transform(X)#转换为高次项的矩阵\n",
    "line_ = PF(degree=d).fit_transform(line)#转换为高次项的矩阵\n",
    "\n",
    "#训练数据的拟合\n",
    "LinearR_ = LinearRegression().fit(X_, y)\n",
    "LinearR_.score(X_,y)"
   ]
  },
  {
   "cell_type": "code",
   "execution_count": 119,
   "metadata": {},
   "outputs": [
    {
     "data": {
      "text/plain": [
       "0.9868904451787955"
      ]
     },
     "execution_count": 119,
     "metadata": {},
     "output_type": "execute_result"
    }
   ],
   "source": [
    "#测试数据的拟合\n",
    "LinearR_.score(line_,np.sin(line))"
   ]
  },
  {
   "cell_type": "markdown",
   "metadata": {},
   "source": [
    "### 将数据可视化"
   ]
  },
  {
   "cell_type": "code",
   "execution_count": 120,
   "metadata": {},
   "outputs": [
    {
     "data": {
      "image/png": "[encoded data removed]",
      "text/plain": [
       "<Figure size 432x288 with 1 Axes>"
      ]
     },
     "metadata": {
      "needs_background": "light"
     },
     "output_type": "display_data"
    }
   ],
   "source": [
    "import matplotlib.pyplot as plt\n",
    "\n",
    "d=5\n",
    "#和上面展示一致的建模流程\n",
    "LinearR = LinearRegression().fit(X, y)\n",
    "X_ = PF(degree=d).fit_transform(X)#升维\n",
    "LinearR_ = LinearRegression().fit(X_, y)\n",
    "line = np.linspace(-3, 3, 1000, endpoint=False).reshape(-1, 1)\n",
    "line_ = PF(degree=d).fit_transform(line)#将数据升维\n",
    "\n",
    "#放置画布\n",
    "fig, ax1 = plt.subplots(1)\n",
    "\n",
    "#将测试数据带入predict接口，获得模型的拟合效果并进行绘制\n",
    "ax1.plot(line, LinearR.predict(line), linewidth=2, color='green'\n",
    "         ,label=\"linear regression\")\n",
    "ax1.plot(line, LinearR_.predict(line_), linewidth=2, color='red'\n",
    "         ,label=\"Polynomial regression\")\n",
    "\n",
    "#将原数据上的拟合绘制在图像上\n",
    "ax1.plot(X[:, 0], y, 'o', c='k')\n",
    "\n",
    "#其他图形选项\n",
    "ax1.legend(loc=\"best\")\n",
    "ax1.set_ylabel(\"Regression output\")\n",
    "ax1.set_xlabel(\"Input feature\")\n",
    "ax1.set_title(\"Linear Regression ordinary vs poly\")\n",
    "plt.tight_layout()\n",
    "plt.show()\n",
    "\n",
    "'''绿色的线是线性回归\n",
    "    红色的线时多项式回归'''"
   ]
  },
  {
   "cell_type": "markdown",
   "metadata": {},
   "source": [
    "从这里大家可以看出，多项式回归能够较好地拟合非线性数据，还不容易发生过拟合，可以说是保留了线性回归作为线性模型所带的“不容易过拟合”和“计算快速”的性质，同时又实现了优秀地拟合非线性数据。"
   ]
  },
  {
   "cell_type": "markdown",
   "metadata": {},
   "source": [
    "### 多项式回归的可解释性"
   ]
  },
  {
   "cell_type": "markdown",
   "metadata": {},
   "source": [
    "线性回归是一个具有高解释性的模型，它能够对每个特征拟合出参数w以帮助我们理解每个特征对于标签的作用。当我们进行了多项式转换后，尽管我们还是形成形如线性回归的方程，但随着数据维度和多项式次数的上升，方程也变得异常复杂，我们可能无法一眼看出增维后的特征是由之前的什么特征组成的（之前我们都是肉眼看肉眼判断）。不过，多项式回归的可解释性依然是存在的，我们可以使用接口get_feature_names来调用生成的新特征矩阵的各个特征上的名称，以便帮助我们解释模型。来看下面的例子："
   ]
  },
  {
   "cell_type": "code",
   "execution_count": 121,
   "metadata": {},
   "outputs": [
    {
     "data": {
      "text/plain": [
       "array([[0, 1, 2],\n",
       "       [3, 4, 5],\n",
       "       [6, 7, 8]])"
      ]
     },
     "execution_count": 121,
     "metadata": {},
     "output_type": "execute_result"
    }
   ],
   "source": [
    "import numpy as np\n",
    "from sklearn.preprocessing import PolynomialFeatures #多项式处理\n",
    "from sklearn.linear_model import LinearRegression\n",
    "\n",
    "X = np.arange(9).reshape(3,3)\n",
    "X"
   ]
  },
  {
   "cell_type": "code",
   "execution_count": 122,
   "metadata": {},
   "outputs": [
    {
     "data": {
      "text/plain": [
       "['1',\n",
       " 'x0',\n",
       " 'x1',\n",
       " 'x2',\n",
       " 'x0^2',\n",
       " 'x0 x1',\n",
       " 'x0 x2',\n",
       " 'x1^2',\n",
       " 'x1 x2',\n",
       " 'x2^2',\n",
       " 'x0^3',\n",
       " 'x0^2 x1',\n",
       " 'x0^2 x2',\n",
       " 'x0 x1^2',\n",
       " 'x0 x1 x2',\n",
       " 'x0 x2^2',\n",
       " 'x1^3',\n",
       " 'x1^2 x2',\n",
       " 'x1 x2^2',\n",
       " 'x2^3',\n",
       " 'x0^4',\n",
       " 'x0^3 x1',\n",
       " 'x0^3 x2',\n",
       " 'x0^2 x1^2',\n",
       " 'x0^2 x1 x2',\n",
       " 'x0^2 x2^2',\n",
       " 'x0 x1^3',\n",
       " 'x0 x1^2 x2',\n",
       " 'x0 x1 x2^2',\n",
       " 'x0 x2^3',\n",
       " 'x1^4',\n",
       " 'x1^3 x2',\n",
       " 'x1^2 x2^2',\n",
       " 'x1 x2^3',\n",
       " 'x2^4',\n",
       " 'x0^5',\n",
       " 'x0^4 x1',\n",
       " 'x0^4 x2',\n",
       " 'x0^3 x1^2',\n",
       " 'x0^3 x1 x2',\n",
       " 'x0^3 x2^2',\n",
       " 'x0^2 x1^3',\n",
       " 'x0^2 x1^2 x2',\n",
       " 'x0^2 x1 x2^2',\n",
       " 'x0^2 x2^3',\n",
       " 'x0 x1^4',\n",
       " 'x0 x1^3 x2',\n",
       " 'x0 x1^2 x2^2',\n",
       " 'x0 x1 x2^3',\n",
       " 'x0 x2^4',\n",
       " 'x1^5',\n",
       " 'x1^4 x2',\n",
       " 'x1^3 x2^2',\n",
       " 'x1^2 x2^3',\n",
       " 'x1 x2^4',\n",
       " 'x2^5']"
      ]
     },
     "execution_count": 122,
     "metadata": {},
     "output_type": "execute_result"
    }
   ],
   "source": [
    "poly = PolynomialFeatures(degree=5).fit(X) #转化为5维\n",
    "\n",
    "#重要接口 get_feature_names 注意是接口不是属性 要加（）\n",
    "poly.get_feature_names()"
   ]
  },
  {
   "cell_type": "markdown",
   "metadata": {},
   "source": [
    "使用加利福尼亚房价数据集作为例子，当有标签名称时，可以直接在接口get_feature_names()中输入标签名称来查看新特征究竟是由原特征矩阵中的什么特征组成的"
   ]
  },
  {
   "cell_type": "code",
   "execution_count": 123,
   "metadata": {},
   "outputs": [
    {
     "data": {
      "text/plain": [
       "['MedInc',\n",
       " 'HouseAge',\n",
       " 'AveRooms',\n",
       " 'AveBedrms',\n",
       " 'Population',\n",
       " 'AveOccup',\n",
       " 'Latitude',\n",
       " 'Longitude']"
      ]
     },
     "execution_count": 123,
     "metadata": {},
     "output_type": "execute_result"
    }
   ],
   "source": [
    "from sklearn.datasets import fetch_california_housing as fch\n",
    "import pandas as pd\n",
    "\n",
    "housevalue = fch()\n",
    "\n",
    "X = pd.DataFrame(housevalue.data)\n",
    "y = housevalue.target\n",
    "\n",
    "housevalue.feature_names"
   ]
  },
  {
   "cell_type": "code",
   "execution_count": 126,
   "metadata": {},
   "outputs": [
    {
     "data": {
      "text/plain": [
       "['1',\n",
       " '住户收入中位数',\n",
       " '房屋使用年代中位数',\n",
       " '平均房间数目',\n",
       " '平均卧室数目',\n",
       " '街区人口',\n",
       " '平均入住率',\n",
       " '街区的纬度',\n",
       " '街区的经度',\n",
       " '住户收入中位数^2',\n",
       " '住户收入中位数 房屋使用年代中位数',\n",
       " '住户收入中位数 平均房间数目',\n",
       " '住户收入中位数 平均卧室数目',\n",
       " '住户收入中位数 街区人口',\n",
       " '住户收入中位数 平均入住率',\n",
       " '住户收入中位数 街区的纬度',\n",
       " '住户收入中位数 街区的经度',\n",
       " '房屋使用年代中位数^2',\n",
       " '房屋使用年代中位数 平均房间数目',\n",
       " '房屋使用年代中位数 平均卧室数目',\n",
       " '房屋使用年代中位数 街区人口',\n",
       " '房屋使用年代中位数 平均入住率',\n",
       " '房屋使用年代中位数 街区的纬度',\n",
       " '房屋使用年代中位数 街区的经度',\n",
       " '平均房间数目^2',\n",
       " '平均房间数目 平均卧室数目',\n",
       " '平均房间数目 街区人口',\n",
       " '平均房间数目 平均入住率',\n",
       " '平均房间数目 街区的纬度',\n",
       " '平均房间数目 街区的经度',\n",
       " '平均卧室数目^2',\n",
       " '平均卧室数目 街区人口',\n",
       " '平均卧室数目 平均入住率',\n",
       " '平均卧室数目 街区的纬度',\n",
       " '平均卧室数目 街区的经度',\n",
       " '街区人口^2',\n",
       " '街区人口 平均入住率',\n",
       " '街区人口 街区的纬度',\n",
       " '街区人口 街区的经度',\n",
       " '平均入住率^2',\n",
       " '平均入住率 街区的纬度',\n",
       " '平均入住率 街区的经度',\n",
       " '街区的纬度^2',\n",
       " '街区的纬度 街区的经度',\n",
       " '街区的经度^2']"
      ]
     },
     "execution_count": 126,
     "metadata": {},
     "output_type": "execute_result"
    }
   ],
   "source": [
    "X.columns = [\"住户收入中位数\",\"房屋使用年代中位数\",\"平均房间数目\"\n",
    "             ,\"平均卧室数目\",\"街区人口\",\"平均入住率\",\"街区的纬度\",\"街区的经度\"]\n",
    "\n",
    "poly = PolynomialFeatures(degree=2).fit(X,y) #二次\n",
    "poly.get_feature_names(X.columns)"
   ]
  },
  {
   "cell_type": "code",
   "execution_count": 127,
   "metadata": {},
   "outputs": [],
   "source": [
    "X_ = poly.transform(X)"
   ]
  },
  {
   "cell_type": "code",
   "execution_count": 128,
   "metadata": {},
   "outputs": [
    {
     "data": {
      "text/plain": [
       "[('1', 5.919541435538823e-08),\n",
       " ('住户收入中位数', -11.243025626342437),\n",
       " ('房屋使用年代中位数', -0.8488985558284562),\n",
       " ('平均房间数目', 6.4410593651213635),\n",
       " ('平均卧室数目', -31.591330651295365),\n",
       " ('街区人口', 0.00040609067929028186),\n",
       " ('平均入住率', 1.003862327021211),\n",
       " ('街区的纬度', 8.705681910190394),\n",
       " ('街区的经度', 5.8806327457107965),\n",
       " ('住户收入中位数^2', -0.0313081213151669),\n",
       " ('住户收入中位数 房屋使用年代中位数', 0.0018599480067008538),\n",
       " ('住户收入中位数 平均房间数目', 0.043302039980649264),\n",
       " ('住户收入中位数 平均卧室数目', -0.18614230762148926),\n",
       " ('住户收入中位数 街区人口', 5.728314525856295e-05),\n",
       " ('住户收入中位数 平均入住率', -0.0025901945279693736),\n",
       " ('住户收入中位数 街区的纬度', -0.15250571773355712),\n",
       " ('住户收入中位数 街区的经度', -0.1442429442847879),\n",
       " ('房屋使用年代中位数^2', 0.00021172534934901734),\n",
       " ('房屋使用年代中位数 平均房间数目', -0.001262189925797411),\n",
       " ('房屋使用年代中位数 平均卧室数目', 0.010611504463207522),\n",
       " ('房屋使用年代中位数 街区人口', 2.818852232910943e-06),\n",
       " ('房屋使用年代中位数 平均入住率', -0.0018171694880040896),\n",
       " ('房屋使用年代中位数 街区的纬度', -0.010069037386845982),\n",
       " ('房屋使用年代中位数 街区的经度', -0.009999501833041565),\n",
       " ('平均房间数目^2', 0.00726947766112956),\n",
       " ('平均房间数目 平均卧室数目', -0.0689064376034401),\n",
       " ('平均房间数目 街区人口', -6.823655292556474e-05),\n",
       " ('平均房间数目 平均入住率', 0.026887883884752058),\n",
       " ('平均房间数目 街区的纬度', 0.08750899458558387),\n",
       " ('平均房间数目 街区的经度', 0.08228903941858158),\n",
       " ('平均卧室数目^2', 0.1601809557433484),\n",
       " ('平均卧室数目 街区人口', 0.0005142639945011854),\n",
       " ('平均卧室数目 平均入住率', -0.08719113878663737),\n",
       " ('平均卧室数目 街区的纬度', -0.43704303291687147),\n",
       " ('平均卧室数目 街区的经度', -0.40415060876773945),\n",
       " ('街区人口^2', 2.7377934284324407e-09),\n",
       " ('街区人口 平均入住率', 1.9142675405873987e-05),\n",
       " ('街区人口 街区的纬度', 2.2952985444747162e-05),\n",
       " ('街区人口 街区的经度', 1.4656776567978964e-05),\n",
       " ('平均入住率^2', 8.715610325353607e-05),\n",
       " ('平均入住率 街区的纬度', 0.021334459217548014),\n",
       " ('平均入住率 街区的经度', 0.01624129382159661),\n",
       " ('街区的纬度^2', 0.06188673573416359),\n",
       " ('街区的纬度 街区的经度', 0.1081071733101677),\n",
       " ('街区的经度^2', 0.03990773509436183)]"
      ]
     },
     "execution_count": 128,
     "metadata": {},
     "output_type": "execute_result"
    }
   ],
   "source": [
    "#在这之后，我们依然可以直接建立模型，然后使用线性回归的coef_属性来查看什么特征对标签的影响最大\n",
    "reg = LinearRegression().fit(X_,y)\n",
    "coef = reg.coef_\n",
    "[*zip(poly.get_feature_names(X.columns),reg.coef_)]"
   ]
  },
  {
   "cell_type": "code",
   "execution_count": 130,
   "metadata": {},
   "outputs": [
    {
     "data": {
      "text/html": [
       "<div>\n",
       "<style scoped>\n",
       "    .dataframe tbody tr th:only-of-type {\n",
       "        vertical-align: middle;\n",
       "    }\n",
       "\n",
       "    .dataframe tbody tr th {\n",
       "        vertical-align: top;\n",
       "    }\n",
       "\n",
       "    .dataframe thead th {\n",
       "        text-align: right;\n",
       "    }\n",
       "</style>\n",
       "<table border=\"1\" class=\"dataframe\">\n",
       "  <thead>\n",
       "    <tr style=\"text-align: right;\">\n",
       "      <th></th>\n",
       "      <th>feature</th>\n",
       "      <th>coef</th>\n",
       "    </tr>\n",
       "  </thead>\n",
       "  <tbody>\n",
       "    <tr>\n",
       "      <th>4</th>\n",
       "      <td>平均卧室数目</td>\n",
       "      <td>-31.5913</td>\n",
       "    </tr>\n",
       "    <tr>\n",
       "      <th>1</th>\n",
       "      <td>住户收入中位数</td>\n",
       "      <td>-11.243</td>\n",
       "    </tr>\n",
       "    <tr>\n",
       "      <th>2</th>\n",
       "      <td>房屋使用年代中位数</td>\n",
       "      <td>-0.848899</td>\n",
       "    </tr>\n",
       "    <tr>\n",
       "      <th>33</th>\n",
       "      <td>平均卧室数目 街区的纬度</td>\n",
       "      <td>-0.437043</td>\n",
       "    </tr>\n",
       "    <tr>\n",
       "      <th>34</th>\n",
       "      <td>平均卧室数目 街区的经度</td>\n",
       "      <td>-0.404151</td>\n",
       "    </tr>\n",
       "    <tr>\n",
       "      <th>12</th>\n",
       "      <td>住户收入中位数 平均卧室数目</td>\n",
       "      <td>-0.186142</td>\n",
       "    </tr>\n",
       "    <tr>\n",
       "      <th>15</th>\n",
       "      <td>住户收入中位数 街区的纬度</td>\n",
       "      <td>-0.152506</td>\n",
       "    </tr>\n",
       "    <tr>\n",
       "      <th>16</th>\n",
       "      <td>住户收入中位数 街区的经度</td>\n",
       "      <td>-0.144243</td>\n",
       "    </tr>\n",
       "    <tr>\n",
       "      <th>32</th>\n",
       "      <td>平均卧室数目 平均入住率</td>\n",
       "      <td>-0.0871911</td>\n",
       "    </tr>\n",
       "    <tr>\n",
       "      <th>25</th>\n",
       "      <td>平均房间数目 平均卧室数目</td>\n",
       "      <td>-0.0689064</td>\n",
       "    </tr>\n",
       "    <tr>\n",
       "      <th>9</th>\n",
       "      <td>住户收入中位数^2</td>\n",
       "      <td>-0.0313081</td>\n",
       "    </tr>\n",
       "    <tr>\n",
       "      <th>22</th>\n",
       "      <td>房屋使用年代中位数 街区的纬度</td>\n",
       "      <td>-0.010069</td>\n",
       "    </tr>\n",
       "    <tr>\n",
       "      <th>23</th>\n",
       "      <td>房屋使用年代中位数 街区的经度</td>\n",
       "      <td>-0.0099995</td>\n",
       "    </tr>\n",
       "    <tr>\n",
       "      <th>14</th>\n",
       "      <td>住户收入中位数 平均入住率</td>\n",
       "      <td>-0.00259019</td>\n",
       "    </tr>\n",
       "    <tr>\n",
       "      <th>21</th>\n",
       "      <td>房屋使用年代中位数 平均入住率</td>\n",
       "      <td>-0.00181717</td>\n",
       "    </tr>\n",
       "    <tr>\n",
       "      <th>18</th>\n",
       "      <td>房屋使用年代中位数 平均房间数目</td>\n",
       "      <td>-0.00126219</td>\n",
       "    </tr>\n",
       "    <tr>\n",
       "      <th>26</th>\n",
       "      <td>平均房间数目 街区人口</td>\n",
       "      <td>-6.82366e-05</td>\n",
       "    </tr>\n",
       "    <tr>\n",
       "      <th>35</th>\n",
       "      <td>街区人口^2</td>\n",
       "      <td>2.73779e-09</td>\n",
       "    </tr>\n",
       "    <tr>\n",
       "      <th>0</th>\n",
       "      <td>1</td>\n",
       "      <td>5.91954e-08</td>\n",
       "    </tr>\n",
       "    <tr>\n",
       "      <th>20</th>\n",
       "      <td>房屋使用年代中位数 街区人口</td>\n",
       "      <td>2.81885e-06</td>\n",
       "    </tr>\n",
       "    <tr>\n",
       "      <th>38</th>\n",
       "      <td>街区人口 街区的经度</td>\n",
       "      <td>1.46568e-05</td>\n",
       "    </tr>\n",
       "    <tr>\n",
       "      <th>36</th>\n",
       "      <td>街区人口 平均入住率</td>\n",
       "      <td>1.91427e-05</td>\n",
       "    </tr>\n",
       "    <tr>\n",
       "      <th>37</th>\n",
       "      <td>街区人口 街区的纬度</td>\n",
       "      <td>2.2953e-05</td>\n",
       "    </tr>\n",
       "    <tr>\n",
       "      <th>13</th>\n",
       "      <td>住户收入中位数 街区人口</td>\n",
       "      <td>5.72831e-05</td>\n",
       "    </tr>\n",
       "    <tr>\n",
       "      <th>39</th>\n",
       "      <td>平均入住率^2</td>\n",
       "      <td>8.71561e-05</td>\n",
       "    </tr>\n",
       "    <tr>\n",
       "      <th>17</th>\n",
       "      <td>房屋使用年代中位数^2</td>\n",
       "      <td>0.000211725</td>\n",
       "    </tr>\n",
       "    <tr>\n",
       "      <th>5</th>\n",
       "      <td>街区人口</td>\n",
       "      <td>0.000406091</td>\n",
       "    </tr>\n",
       "    <tr>\n",
       "      <th>31</th>\n",
       "      <td>平均卧室数目 街区人口</td>\n",
       "      <td>0.000514264</td>\n",
       "    </tr>\n",
       "    <tr>\n",
       "      <th>10</th>\n",
       "      <td>住户收入中位数 房屋使用年代中位数</td>\n",
       "      <td>0.00185995</td>\n",
       "    </tr>\n",
       "    <tr>\n",
       "      <th>24</th>\n",
       "      <td>平均房间数目^2</td>\n",
       "      <td>0.00726948</td>\n",
       "    </tr>\n",
       "    <tr>\n",
       "      <th>19</th>\n",
       "      <td>房屋使用年代中位数 平均卧室数目</td>\n",
       "      <td>0.0106115</td>\n",
       "    </tr>\n",
       "    <tr>\n",
       "      <th>41</th>\n",
       "      <td>平均入住率 街区的经度</td>\n",
       "      <td>0.0162413</td>\n",
       "    </tr>\n",
       "    <tr>\n",
       "      <th>40</th>\n",
       "      <td>平均入住率 街区的纬度</td>\n",
       "      <td>0.0213345</td>\n",
       "    </tr>\n",
       "    <tr>\n",
       "      <th>27</th>\n",
       "      <td>平均房间数目 平均入住率</td>\n",
       "      <td>0.0268879</td>\n",
       "    </tr>\n",
       "    <tr>\n",
       "      <th>44</th>\n",
       "      <td>街区的经度^2</td>\n",
       "      <td>0.0399077</td>\n",
       "    </tr>\n",
       "    <tr>\n",
       "      <th>11</th>\n",
       "      <td>住户收入中位数 平均房间数目</td>\n",
       "      <td>0.043302</td>\n",
       "    </tr>\n",
       "    <tr>\n",
       "      <th>42</th>\n",
       "      <td>街区的纬度^2</td>\n",
       "      <td>0.0618867</td>\n",
       "    </tr>\n",
       "    <tr>\n",
       "      <th>29</th>\n",
       "      <td>平均房间数目 街区的经度</td>\n",
       "      <td>0.082289</td>\n",
       "    </tr>\n",
       "    <tr>\n",
       "      <th>28</th>\n",
       "      <td>平均房间数目 街区的纬度</td>\n",
       "      <td>0.087509</td>\n",
       "    </tr>\n",
       "    <tr>\n",
       "      <th>43</th>\n",
       "      <td>街区的纬度 街区的经度</td>\n",
       "      <td>0.108107</td>\n",
       "    </tr>\n",
       "    <tr>\n",
       "      <th>30</th>\n",
       "      <td>平均卧室数目^2</td>\n",
       "      <td>0.160181</td>\n",
       "    </tr>\n",
       "    <tr>\n",
       "      <th>6</th>\n",
       "      <td>平均入住率</td>\n",
       "      <td>1.00386</td>\n",
       "    </tr>\n",
       "    <tr>\n",
       "      <th>8</th>\n",
       "      <td>街区的经度</td>\n",
       "      <td>5.88063</td>\n",
       "    </tr>\n",
       "    <tr>\n",
       "      <th>3</th>\n",
       "      <td>平均房间数目</td>\n",
       "      <td>6.44106</td>\n",
       "    </tr>\n",
       "    <tr>\n",
       "      <th>7</th>\n",
       "      <td>街区的纬度</td>\n",
       "      <td>8.70568</td>\n",
       "    </tr>\n",
       "  </tbody>\n",
       "</table>\n",
       "</div>"
      ],
      "text/plain": [
       "              feature         coef\n",
       "4              平均卧室数目     -31.5913\n",
       "1             住户收入中位数      -11.243\n",
       "2           房屋使用年代中位数    -0.848899\n",
       "33       平均卧室数目 街区的纬度    -0.437043\n",
       "34       平均卧室数目 街区的经度    -0.404151\n",
       "12     住户收入中位数 平均卧室数目    -0.186142\n",
       "15      住户收入中位数 街区的纬度    -0.152506\n",
       "16      住户收入中位数 街区的经度    -0.144243\n",
       "32       平均卧室数目 平均入住率   -0.0871911\n",
       "25      平均房间数目 平均卧室数目   -0.0689064\n",
       "9           住户收入中位数^2   -0.0313081\n",
       "22    房屋使用年代中位数 街区的纬度    -0.010069\n",
       "23    房屋使用年代中位数 街区的经度   -0.0099995\n",
       "14      住户收入中位数 平均入住率  -0.00259019\n",
       "21    房屋使用年代中位数 平均入住率  -0.00181717\n",
       "18   房屋使用年代中位数 平均房间数目  -0.00126219\n",
       "26        平均房间数目 街区人口 -6.82366e-05\n",
       "35             街区人口^2  2.73779e-09\n",
       "0                   1  5.91954e-08\n",
       "20     房屋使用年代中位数 街区人口  2.81885e-06\n",
       "38         街区人口 街区的经度  1.46568e-05\n",
       "36         街区人口 平均入住率  1.91427e-05\n",
       "37         街区人口 街区的纬度   2.2953e-05\n",
       "13       住户收入中位数 街区人口  5.72831e-05\n",
       "39            平均入住率^2  8.71561e-05\n",
       "17        房屋使用年代中位数^2  0.000211725\n",
       "5                街区人口  0.000406091\n",
       "31        平均卧室数目 街区人口  0.000514264\n",
       "10  住户收入中位数 房屋使用年代中位数   0.00185995\n",
       "24           平均房间数目^2   0.00726948\n",
       "19   房屋使用年代中位数 平均卧室数目    0.0106115\n",
       "41        平均入住率 街区的经度    0.0162413\n",
       "40        平均入住率 街区的纬度    0.0213345\n",
       "27       平均房间数目 平均入住率    0.0268879\n",
       "44            街区的经度^2    0.0399077\n",
       "11     住户收入中位数 平均房间数目     0.043302\n",
       "42            街区的纬度^2    0.0618867\n",
       "29       平均房间数目 街区的经度     0.082289\n",
       "28       平均房间数目 街区的纬度     0.087509\n",
       "43        街区的纬度 街区的经度     0.108107\n",
       "30           平均卧室数目^2     0.160181\n",
       "6               平均入住率      1.00386\n",
       "8               街区的经度      5.88063\n",
       "3              平均房间数目      6.44106\n",
       "7               街区的纬度      8.70568"
      ]
     },
     "execution_count": 130,
     "metadata": {},
     "output_type": "execute_result"
    }
   ],
   "source": [
    "#放到dataframe中进行排序\n",
    "coeff = pd.DataFrame([poly.get_feature_names(X.columns),reg.coef_.tolist()]).T\n",
    "coeff.columns = [\"feature\",\"coef\"]\n",
    "coeff.sort_values(by=\"coef\") #按照coef进行排序"
   ]
  },
  {
   "cell_type": "markdown",
   "metadata": {},
   "source": [
    "可以发现，不仅数据的可解释性还存在，我们还可以通过这样的手段做特征工程——特征创造。多项式帮助我们进行了一系列特征之间相乘的组合，若能够找出组合起来后对标签贡献巨大的特征，那我们就是创造了新的有效特征，对于任何学科而言发现新特征都是非常有价值的。"
   ]
  },
  {
   "cell_type": "markdown",
   "metadata": {},
   "source": [
    "### 线性还是非线性模型\n",
    "---\n",
    "总结一下，多项式回归通常被认为是非线性模型，但广义上它是一种特殊的线性模型，它能够帮助我们处理非线性数据，是线性回归的一种进化。大家要能够理解多项式回归的争议从哪里来，并且能够解释清楚观察多项式回归的不同角度，以避免混淆。\n",
    "\n",
    "其中岭回归和Lasso是为了解决多元线性回归中使用最小二乘法的各种限制，主要用途是消除多重共线性带来的影响并且做特征选择，而多项式回归解决了线性回归无法拟合非线性数据的明显缺点，核心作用是提升模型的表现。"
   ]
  }
 ],
 "metadata": {
  "kernelspec": {
   "display_name": "Python 3",
   "language": "python",
   "name": "python3"
  },
  "language_info": {
   "codemirror_mode": {
    "name": "ipython",
    "version": 3
   },
   "file_extension": ".py",
   "mimetype": "text/x-python",
   "name": "python",
   "nbconvert_exporter": "python",
   "pygments_lexer": "ipython3",
   "version": "3.7.1"
  }
 },
 "nbformat": 4,
 "nbformat_minor": 2
}
