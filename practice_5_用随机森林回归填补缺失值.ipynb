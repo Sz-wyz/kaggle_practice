{
 "cells": [
  {
   "cell_type": "code",
   "execution_count": 5,
   "metadata": {},
   "outputs": [],
   "source": [
    "import numpy as np\n",
    "import pandas as pd\n",
    "import matplotlib.pyplot as plt\n",
    "from sklearn.datasets import load_boston\n",
    "from sklearn.impute import SimpleImputer  #用于填补缺失值（均值，中值等）的类\n",
    "from sklearn.ensemble import RandomForestRegressor\n",
    "from sklearn.model_selection import cross_val_score"
   ]
  },
  {
   "cell_type": "code",
   "execution_count": 6,
   "metadata": {},
   "outputs": [],
   "source": [
    "dataset = load_boston()"
   ]
  },
  {
   "cell_type": "code",
   "execution_count": 7,
   "metadata": {},
   "outputs": [],
   "source": [
    "#总共506*13= 6578个数据\n",
    "X_full,Y_full = dataset.data,dataset.target\n",
    "n_samples = X_full.shape[0] #样本的数量\n",
    "n_features = X_full.shape[1] #标签的数量"
   ]
  },
  {
   "cell_type": "code",
   "execution_count": 8,
   "metadata": {},
   "outputs": [],
   "source": [
    "#首先确定我们希望放入的缺失数据的比例 在这里我们的假设是50% 那总共要3289个数据缺失\n",
    "rng = np.random.RandomState(0)\n",
    "missing_rate = 0.5 #缺失数据的比例\n",
    "n_missing_samples = int(np.floor(n_samples * n_features*missing_rate))\n",
    "# np.floor向下取整，返回.0格式的浮点数"
   ]
  },
  {
   "cell_type": "code",
   "execution_count": 11,
   "metadata": {},
   "outputs": [],
   "source": [
    "#所有数据要随机遍布在数据集的各行各列中，而一个缺失的数据会需要一个行索引和一个列索引\n",
    "#如果能够创造一个数组，包含3289个分布在0-506之间的行索引，和3289个分布在0-13之间的列索引，那我们就可以利用\n",
    "#这些索引来为数据中的任意的3289个位置赋空值\n",
    "#然后我们用0，均值和随机森林来填写这些缺失值，然后查看回归的结果如何\n",
    "\n",
    "missing_features = rng.randint(0,n_features,n_missing_samples)\n",
    "#randint(下限，上限，n)请在上限和下限之间取n个整数\n",
    "\n",
    "missing_samples = rng.randint(0,n_samples,n_missing_samples)\n",
    "\n",
    "#missing_samples = rng.choice(dataset.data.shape[0],n_missing_samples,replace=False)\n",
    "#我们现在采样了3289个数据，远远超过我们的样本量506，所以我们使用随机抽取的函数rangdint，但如果我们需要的数据量\n",
    "#小于我们的样本量506，那我们可以采用np.random.choice来抽样，choice会随机抽取不重复的随机数\n",
    "#因此可以帮助我们让数据更加分散，确保数据不会集中在一些行中"
   ]
  },
  {
   "cell_type": "code",
   "execution_count": 10,
   "metadata": {},
   "outputs": [],
   "source": [
    "X_missing = X_full.copy()\n",
    "Y_missint = Y_full.copy()"
   ]
  },
  {
   "cell_type": "code",
   "execution_count": 12,
   "metadata": {},
   "outputs": [
    {
     "data": {
      "text/plain": [
       "array([ 6, 12, 12, ...,  6,  2, 11])"
      ]
     },
     "execution_count": 12,
     "metadata": {},
     "output_type": "execute_result"
    }
   ],
   "source": [
    "missing_features"
   ]
  },
  {
   "cell_type": "code",
   "execution_count": 13,
   "metadata": {},
   "outputs": [
    {
     "data": {
      "text/plain": [
       "array([ 73, 414, 190, ..., 203, 469, 475])"
      ]
     },
     "execution_count": 13,
     "metadata": {},
     "output_type": "execute_result"
    }
   ],
   "source": [
    "missing_samples"
   ]
  },
  {
   "cell_type": "code",
   "execution_count": 15,
   "metadata": {},
   "outputs": [],
   "source": [
    "X_missing[missing_samples,missing_features] = np.nan #附加空值"
   ]
  },
  {
   "cell_type": "code",
   "execution_count": 16,
   "metadata": {},
   "outputs": [],
   "source": [
    "X_missing = pd.DataFrame(X_missing)\n",
    "# 转换为DataFrame是为了后续方便各种操作，numpy对举证的运算速度很快，但是在索引功能上不如pandas方便"
   ]
  },
  {
   "cell_type": "code",
   "execution_count": 17,
   "metadata": {},
   "outputs": [],
   "source": [
    "# 使用均值进行填补 SimpleImputer\n",
    "imp_mean = SimpleImputer(missing_values=np.nan,strategy='mean') #缺失值是np.nan\n",
    "X_missing_mean = imp_mean.fit_transform(X_missing) #训练后转出"
   ]
  },
  {
   "cell_type": "code",
   "execution_count": 23,
   "metadata": {},
   "outputs": [
    {
     "data": {
      "text/plain": [
       "0     0\n",
       "1     0\n",
       "2     0\n",
       "3     0\n",
       "4     0\n",
       "5     0\n",
       "6     0\n",
       "7     0\n",
       "8     0\n",
       "9     0\n",
       "10    0\n",
       "11    0\n",
       "12    0\n",
       "dtype: int64"
      ]
     },
     "execution_count": 23,
     "metadata": {},
     "output_type": "execute_result"
    }
   ],
   "source": [
    "pd.DataFrame(X_missing_mean).isnull().sum() #返回0说明没有缺失值了"
   ]
  },
  {
   "cell_type": "code",
   "execution_count": 19,
   "metadata": {},
   "outputs": [],
   "source": [
    "#使用0进行填补\n",
    "imp_0 = SimpleImputer(missing_values=np.nan,strategy='contant',fill_value=0)\n",
    "X_missing_0 = imp_mean.fit_transform(X_missing)"
   ]
  },
  {
   "cell_type": "markdown",
   "metadata": {},
   "source": [
    "##### 使用随机森林填补缺失值"
   ]
  },
  {
   "cell_type": "code",
   "execution_count": 24,
   "metadata": {
    "scrolled": true
   },
   "outputs": [
    {
     "data": {
      "text/plain": [
       "'使用随机森林回归填补缺失值任何回归都是从特征矩阵中学习，然后求解连续型标签y的过程，之所以能够实现这个过程，\\n是因为回归算法认为，特征矩阵和标签之前存在着某种联系。实际上，标签和特征是可以相互转换的，比如说，在一个“用\\n地区，环境，附近学校数量”预测“房价”的问题中，我们既可以用“地区”，“环境”，“附近学校数量”的数据来预测\\n“房价”，也可以反过来，用“环境”，“附近学校数量”和“房价”来预测“地区”。而回归填补缺失值，正是利用了这\\n种思想。对于一个有n个特征的数据来说，其中特征T有缺失值，我们就把特征T当作标签，其他的n-1个特征和原本的标签组\\n成新的特征矩阵。那对于T来说，它没有缺失的部分，就是我们的Y_test，这部分数据既有标签也有特征，而它缺失的部分，\\n只有特征没有标签，就是我们需要预测的部分。特征T不缺失的值对应的其他n-1个特征 + 本来的标签：X_train特征T不缺失\\n的值：Y_train特征T缺失的值对应的其他n-1个特征 + 本来的标签：X_test特征T缺失的值：未知，我们需要预测的Y_test这\\n种做法，对于某一个特征大量缺失，其他特征却很完整的情况，非常适用。那如果数据中除了特征T之外，其他特征也有缺失\\n值怎么办？答案是遍历所有的特征，从缺失最少的开始进行填补（因为填补缺失最少的特征所需要的准确信息最少）。填补一\\n个特征时，先将其他特征的缺失值用0代替，每完成一次回归预测，就将预测值放到原本的特征矩阵中，再继续填补下一个特征\\n。每一次填补完毕，有缺失值的特征会减少一个，所以每次循环后，需要用0来填补的特征就越来越少。当进行到最后一个特征\\n时（这个特征应该是所有特征中缺失值最多的），已经没有任何的其他特征需要用0来进行填补了，而我们已经使用回归为其他\\n特征填补了大量有效信息，可以用来填补缺失最多的特征。遍历所有的特征后，数据就完整，不再有缺失值了。'"
      ]
     },
     "execution_count": 24,
     "metadata": {},
     "output_type": "execute_result"
    }
   ],
   "source": [
    "\"\"\"使用随机森林回归填补缺失值任何回归都是从特征矩阵中学习，然后求解连续型标签y的过程，之所以能够实现这个过程，\n",
    "是因为回归算法认为，特征矩阵和标签之前存在着某种联系。实际上，标签和特征是可以相互转换的，比如说，在一个“用\n",
    "地区，环境，附近学校数量”预测“房价”的问题中，我们既可以用“地区”，“环境”，“附近学校数量”的数据来预测\n",
    "“房价”，也可以反过来，用“环境”，“附近学校数量”和“房价”来预测“地区”。而回归填补缺失值，正是利用了这\n",
    "种思想。对于一个有n个特征的数据来说，其中特征T有缺失值，我们就把特征T当作标签，其他的n-1个特征和原本的标签组\n",
    "成新的特征矩阵。那对于T来说，它没有缺失的部分，就是我们的Y_test，这部分数据既有标签也有特征，而它缺失的部分，\n",
    "只有特征没有标签，就是我们需要预测的部分。特征T不缺失的值对应的其他n-1个特征 + 本来的标签：X_train特征T不缺失\n",
    "的值：Y_train特征T缺失的值对应的其他n-1个特征 + 本来的标签：X_test特征T缺失的值：未知，我们需要预测的Y_test这\n",
    "种做法，对于某一个特征大量缺失，其他特征却很完整的情况，非常适用。那如果数据中除了特征T之外，其他特征也有缺失\n",
    "值怎么办？答案是遍历所有的特征，从缺失最少的开始进行填补（因为填补缺失最少的特征所需要的准确信息最少）。填补一\n",
    "个特征时，先将其他特征的缺失值用0代替，每完成一次回归预测，就将预测值放到原本的特征矩阵中，再继续填补下一个特征\n",
    "。每一次填补完毕，有缺失值的特征会减少一个，所以每次循环后，需要用0来填补的特征就越来越少。当进行到最后一个特征\n",
    "时（这个特征应该是所有特征中缺失值最多的），已经没有任何的其他特征需要用0来进行填补了，而我们已经使用回归为其他\n",
    "特征填补了大量有效信息，可以用来填补缺失最多的特征。遍历所有的特征后，数据就完整，不再有缺失值了。\"\"\""
   ]
  },
  {
   "cell_type": "code",
   "execution_count": 26,
   "metadata": {},
   "outputs": [],
   "source": [
    "X_missing_reg = X_missing.copy()\n",
    "sortindex = np.argsort(X_missing_reg.isnull().sum(axis=0)).values  #找出数据集中，缺失值从小到大排列的特征们的顺序\n",
    "#argsort返回的是从小到大排序的顺序所对应的索引"
   ]
  },
  {
   "cell_type": "code",
   "execution_count": 30,
   "metadata": {},
   "outputs": [],
   "source": [
    "for i in sortindex:\n",
    "    #构建我们的新特矩阵(没有被选中去填充的特征+原始的标签)和新标签（被选中去填充的标签）\n",
    "    df = X_missing_reg\n",
    "    fillc = df.iloc[:,i] #新标签\n",
    "    df = pd.concat([df.iloc[:,df.columns != i],pd.DataFrame(Y_full)],axis=1) #新特征矩阵\n",
    "    \n",
    "    #在新特征矩阵中，对含有特征值的列，进行0的填补\n",
    "    df_0 = SimpleImputer(missing_values=np.nan,strategy='constant',fill_value = 0).fit_transform(df)\n",
    "    \n",
    "    #找出我们的训练集和测试集\n",
    "    Ytrain = fillc[fillc.notnull()] #在被选中要填充的特征中，现在是我们的标签，存在的那些值，非空值\n",
    "    Ytest = fillc[fillc.isnull()]#是被选中的要填充的特征中，现在是我们的标签，不存在的那些值，是空值\n",
    "    Xtrain = df_0[Ytrain.index,:]#在新特征矩阵上，被选出来的要填充的特征的非空值所对应的记录\n",
    "    Xtest = df_0[Ytest.index,:]##新特征矩阵上，被选出来的药填充的那个特征的空值所对应的记录\n",
    "    \n",
    "    #用随机森林回归来填补缺失值\n",
    "    rfc = RandomForestRegressor(n_estimators=100) #实例化\n",
    "    rfc = rfc.fit(Xtrain,Ytrain)\n",
    "    Ypredict = rfc.predict(Xtest)\n",
    "    \n",
    "    #将填补好的特征返回到我们的原始的特征矩阵中\n",
    "    X_missing_reg.loc[X_missing_reg.iloc[:,i].isnull(),i] = Ypredict"
   ]
  },
  {
   "cell_type": "code",
   "execution_count": 34,
   "metadata": {},
   "outputs": [],
   "source": [
    "# 对所有的数据进行建模 取得MSE结果\n",
    "X = [X_full,X_missing_mean,X_missing_0,X_missing_reg]\n",
    "\n",
    "mse = []\n",
    "std = []\n",
    "for x in X:\n",
    "    estimator = RandomForestRegressor(random_state=0,n_estimators=100)\n",
    "    scores = cross_val_score(estimator,x,Y_full,scoring='neg_mean_squared_error',cv=5).mean()\n",
    "    mse.append(scores * -1)"
   ]
  },
  {
   "cell_type": "code",
   "execution_count": 36,
   "metadata": {},
   "outputs": [
    {
     "data": {
      "image/png": "[encoded data removed]",
      "text/plain": [
       "<Figure size 864x432 with 1 Axes>"
      ]
     },
     "metadata": {
      "needs_background": "light"
     },
     "output_type": "display_data"
    }
   ],
   "source": [
    "#用所给结果画出条形图\n",
    "x_labels = ['Full data','Zero Imputation','Mean Imputation','Regressor Imputation']\n",
    "colors = ['r', 'g', 'b', 'orange']\n",
    "plt.figure(figsize=(12, 6)) #画出画布\n",
    "ax = plt.subplot(111) #plt.subplot添加子图\n",
    "for i in np.arange(len(mse)):\n",
    "    ax.barh(i, mse[i],color=colors[i], alpha=0.6, align='center') # barh横向条形图 alpha粗度\n",
    "ax.set_title('Imputation Techniques with Boston Data')\n",
    "ax.set_xlim(left=np.min(mse) * 0.9,right=np.max(mse) * 1.1)\n",
    "ax.set_yticks(np.arange(len(mse)))\n",
    "ax.set_xlabel('MSE')\n",
    "ax.set_yticklabels(x_labels)\n",
    "plt.show()"
   ]
  },
  {
   "cell_type": "code",
   "execution_count": null,
   "metadata": {},
   "outputs": [],
   "source": []
  }
 ],
 "metadata": {
  "kernelspec": {
   "display_name": "Python 3",
   "language": "python",
   "name": "python3"
  },
  "language_info": {
   "codemirror_mode": {
    "name": "ipython",
    "version": 3
   },
   "file_extension": ".py",
   "mimetype": "text/x-python",
   "name": "python",
   "nbconvert_exporter": "python",
   "pygments_lexer": "ipython3",
   "version": "3.7.1"
  }
 },
 "nbformat": 4,
 "nbformat_minor": 2
}
